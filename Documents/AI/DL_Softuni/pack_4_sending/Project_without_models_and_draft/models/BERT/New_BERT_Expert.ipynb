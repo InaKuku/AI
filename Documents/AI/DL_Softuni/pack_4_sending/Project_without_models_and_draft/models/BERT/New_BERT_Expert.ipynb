{
 "cells": [
  {
   "cell_type": "code",
   "execution_count": 30,
   "metadata": {
    "id": "WQCyPg2DHxHa"
   },
   "outputs": [],
   "source": [
    "!pip install --quiet \"tensorflow-text==2.8.*\""
   ]
  },
  {
   "cell_type": "code",
   "execution_count": 31,
   "metadata": {
    "id": "0omcl948VUIA"
   },
   "outputs": [],
   "source": [
    "pip install -q tf-models-official==2.7.0"
   ]
  },
  {
   "cell_type": "code",
   "execution_count": 56,
   "metadata": {
    "id": "H7-kAwxAH4fR"
   },
   "outputs": [],
   "source": [
    "import os\n",
    "import re\n",
    "import random\n",
    "import seaborn as sns\n",
    "import pandas as pd\n",
    "import numpy as np\n",
    "import tensorflow as tf\n",
    "import tensorflow_hub as hub\n",
    "import tensorflow_text as text  # Imports TF ops for preprocessing.\n",
    "from sklearn.metrics import pairwise\n",
    "from official.nlp import optimization"
   ]
  },
  {
   "cell_type": "code",
   "execution_count": 32,
   "metadata": {
    "id": "gsp2QbhVjdmR"
   },
   "outputs": [],
   "source": [
    "random.seed(42)"
   ]
  },
  {
   "cell_type": "code",
   "execution_count": 33,
   "metadata": {
    "id": "GSuDcPSaY5aB"
   },
   "outputs": [],
   "source": [
    "#@title Configure the model { run: \"auto\" }\n",
    "BERT_MODEL = \"https://tfhub.dev/google/experts/bert/pubmed/2\" # @param {type: \"string\"} [\"https://tfhub.dev/google/experts/bert/wiki_books/2\", \"https://tfhub.dev/google/experts/bert/wiki_books/mnli/2\", \"https://tfhub.dev/google/experts/bert/wiki_books/qnli/2\", \"https://tfhub.dev/google/experts/bert/wiki_books/qqp/2\", \"https://tfhub.dev/google/experts/bert/wiki_books/squad2/2\", \"https://tfhub.dev/google/experts/bert/wiki_books/sst2/2\",  \"https://tfhub.dev/google/experts/bert/pubmed/2\", \"https://tfhub.dev/google/experts/bert/pubmed/squad2/2\"]\n",
    "# Preprocessing must match the model, but all the above use the same.\n",
    "PREPROCESS_MODEL = \"https://tfhub.dev/tensorflow/bert_en_uncased_preprocess/3\""
   ]
  },
  {
   "cell_type": "code",
   "execution_count": 34,
   "metadata": {
    "colab": {
     "base_uri": "https://localhost:8080/"
    },
    "id": "J3FqLQDeySQx",
    "outputId": "3c69bf82-b944-4cab-aa41-e42da9f91fbf"
   },
   "outputs": [
    {
     "name": "stdout",
     "output_type": "stream",
     "text": [
      "Drive already mounted at /content/gdrive; to attempt to forcibly remount, call drive.mount(\"/content/gdrive\", force_remount=True).\n"
     ]
    }
   ],
   "source": [
    "from google.colab import drive\n",
    "drive.mount('/content/gdrive')"
   ]
  },
  {
   "cell_type": "code",
   "execution_count": 90,
   "metadata": {
    "colab": {
     "base_uri": "https://localhost:8080/",
     "height": 73
    },
    "id": "s6TSLTFg0-3L",
    "outputId": "6e4d8176-10f2-4abb-e2a2-4b263fb977b3"
   },
   "outputs": [
    {
     "data": {
      "text/html": [
       "\n",
       "     <input type=\"file\" id=\"files-78606cc6-61aa-4f24-8bc3-1aa3db23ee85\" name=\"files[]\" multiple disabled\n",
       "        style=\"border:none\" />\n",
       "     <output id=\"result-78606cc6-61aa-4f24-8bc3-1aa3db23ee85\">\n",
       "      Upload widget is only available when the cell has been executed in the\n",
       "      current browser session. Please rerun this cell to enable.\n",
       "      </output>\n",
       "      <script>// Copyright 2017 Google LLC\n",
       "//\n",
       "// Licensed under the Apache License, Version 2.0 (the \"License\");\n",
       "// you may not use this file except in compliance with the License.\n",
       "// You may obtain a copy of the License at\n",
       "//\n",
       "//      http://www.apache.org/licenses/LICENSE-2.0\n",
       "//\n",
       "// Unless required by applicable law or agreed to in writing, software\n",
       "// distributed under the License is distributed on an \"AS IS\" BASIS,\n",
       "// WITHOUT WARRANTIES OR CONDITIONS OF ANY KIND, either express or implied.\n",
       "// See the License for the specific language governing permissions and\n",
       "// limitations under the License.\n",
       "\n",
       "/**\n",
       " * @fileoverview Helpers for google.colab Python module.\n",
       " */\n",
       "(function(scope) {\n",
       "function span(text, styleAttributes = {}) {\n",
       "  const element = document.createElement('span');\n",
       "  element.textContent = text;\n",
       "  for (const key of Object.keys(styleAttributes)) {\n",
       "    element.style[key] = styleAttributes[key];\n",
       "  }\n",
       "  return element;\n",
       "}\n",
       "\n",
       "// Max number of bytes which will be uploaded at a time.\n",
       "const MAX_PAYLOAD_SIZE = 100 * 1024;\n",
       "\n",
       "function _uploadFiles(inputId, outputId) {\n",
       "  const steps = uploadFilesStep(inputId, outputId);\n",
       "  const outputElement = document.getElementById(outputId);\n",
       "  // Cache steps on the outputElement to make it available for the next call\n",
       "  // to uploadFilesContinue from Python.\n",
       "  outputElement.steps = steps;\n",
       "\n",
       "  return _uploadFilesContinue(outputId);\n",
       "}\n",
       "\n",
       "// This is roughly an async generator (not supported in the browser yet),\n",
       "// where there are multiple asynchronous steps and the Python side is going\n",
       "// to poll for completion of each step.\n",
       "// This uses a Promise to block the python side on completion of each step,\n",
       "// then passes the result of the previous step as the input to the next step.\n",
       "function _uploadFilesContinue(outputId) {\n",
       "  const outputElement = document.getElementById(outputId);\n",
       "  const steps = outputElement.steps;\n",
       "\n",
       "  const next = steps.next(outputElement.lastPromiseValue);\n",
       "  return Promise.resolve(next.value.promise).then((value) => {\n",
       "    // Cache the last promise value to make it available to the next\n",
       "    // step of the generator.\n",
       "    outputElement.lastPromiseValue = value;\n",
       "    return next.value.response;\n",
       "  });\n",
       "}\n",
       "\n",
       "/**\n",
       " * Generator function which is called between each async step of the upload\n",
       " * process.\n",
       " * @param {string} inputId Element ID of the input file picker element.\n",
       " * @param {string} outputId Element ID of the output display.\n",
       " * @return {!Iterable<!Object>} Iterable of next steps.\n",
       " */\n",
       "function* uploadFilesStep(inputId, outputId) {\n",
       "  const inputElement = document.getElementById(inputId);\n",
       "  inputElement.disabled = false;\n",
       "\n",
       "  const outputElement = document.getElementById(outputId);\n",
       "  outputElement.innerHTML = '';\n",
       "\n",
       "  const pickedPromise = new Promise((resolve) => {\n",
       "    inputElement.addEventListener('change', (e) => {\n",
       "      resolve(e.target.files);\n",
       "    });\n",
       "  });\n",
       "\n",
       "  const cancel = document.createElement('button');\n",
       "  inputElement.parentElement.appendChild(cancel);\n",
       "  cancel.textContent = 'Cancel upload';\n",
       "  const cancelPromise = new Promise((resolve) => {\n",
       "    cancel.onclick = () => {\n",
       "      resolve(null);\n",
       "    };\n",
       "  });\n",
       "\n",
       "  // Wait for the user to pick the files.\n",
       "  const files = yield {\n",
       "    promise: Promise.race([pickedPromise, cancelPromise]),\n",
       "    response: {\n",
       "      action: 'starting',\n",
       "    }\n",
       "  };\n",
       "\n",
       "  cancel.remove();\n",
       "\n",
       "  // Disable the input element since further picks are not allowed.\n",
       "  inputElement.disabled = true;\n",
       "\n",
       "  if (!files) {\n",
       "    return {\n",
       "      response: {\n",
       "        action: 'complete',\n",
       "      }\n",
       "    };\n",
       "  }\n",
       "\n",
       "  for (const file of files) {\n",
       "    const li = document.createElement('li');\n",
       "    li.append(span(file.name, {fontWeight: 'bold'}));\n",
       "    li.append(span(\n",
       "        `(${file.type || 'n/a'}) - ${file.size} bytes, ` +\n",
       "        `last modified: ${\n",
       "            file.lastModifiedDate ? file.lastModifiedDate.toLocaleDateString() :\n",
       "                                    'n/a'} - `));\n",
       "    const percent = span('0% done');\n",
       "    li.appendChild(percent);\n",
       "\n",
       "    outputElement.appendChild(li);\n",
       "\n",
       "    const fileDataPromise = new Promise((resolve) => {\n",
       "      const reader = new FileReader();\n",
       "      reader.onload = (e) => {\n",
       "        resolve(e.target.result);\n",
       "      };\n",
       "      reader.readAsArrayBuffer(file);\n",
       "    });\n",
       "    // Wait for the data to be ready.\n",
       "    let fileData = yield {\n",
       "      promise: fileDataPromise,\n",
       "      response: {\n",
       "        action: 'continue',\n",
       "      }\n",
       "    };\n",
       "\n",
       "    // Use a chunked sending to avoid message size limits. See b/62115660.\n",
       "    let position = 0;\n",
       "    do {\n",
       "      const length = Math.min(fileData.byteLength - position, MAX_PAYLOAD_SIZE);\n",
       "      const chunk = new Uint8Array(fileData, position, length);\n",
       "      position += length;\n",
       "\n",
       "      const base64 = btoa(String.fromCharCode.apply(null, chunk));\n",
       "      yield {\n",
       "        response: {\n",
       "          action: 'append',\n",
       "          file: file.name,\n",
       "          data: base64,\n",
       "        },\n",
       "      };\n",
       "\n",
       "      let percentDone = fileData.byteLength === 0 ?\n",
       "          100 :\n",
       "          Math.round((position / fileData.byteLength) * 100);\n",
       "      percent.textContent = `${percentDone}% done`;\n",
       "\n",
       "    } while (position < fileData.byteLength);\n",
       "  }\n",
       "\n",
       "  // All done.\n",
       "  yield {\n",
       "    response: {\n",
       "      action: 'complete',\n",
       "    }\n",
       "  };\n",
       "}\n",
       "\n",
       "scope.google = scope.google || {};\n",
       "scope.google.colab = scope.google.colab || {};\n",
       "scope.google.colab._files = {\n",
       "  _uploadFiles,\n",
       "  _uploadFilesContinue,\n",
       "};\n",
       "})(self);\n",
       "</script> "
      ],
      "text/plain": [
       "<IPython.core.display.HTML object>"
      ]
     },
     "metadata": {},
     "output_type": "display_data"
    },
    {
     "name": "stdout",
     "output_type": "stream",
     "text": [
      "Saving only_abstracts.csv to only_abstracts (1).csv\n"
     ]
    }
   ],
   "source": [
    "from google.colab import files\n",
    "dataset_file_dict = files.upload()"
   ]
  },
  {
   "cell_type": "markdown",
   "metadata": {
    "id": "XuSYTVhZbzP7"
   },
   "source": [
    "# BERT PubMed Expert"
   ]
  },
  {
   "cell_type": "markdown",
   "metadata": {
    "id": "HQ8fjPqKq7Fb"
   },
   "source": [
    "BERT (Bidirectional Encoder Representations from Transformers) is a deep learning model in which every output element is connected to every input element. The weights between them are dynamically calculated based on their connection. It is designed to read in both directions at once.\n",
    "\n",
    "Because the algorithm is based on transformers (that generally don't require any fixed order of sequences (like RNNs)), it can process large amounts of data. This allows BERT to be pretrained. Mainly the English Wikipedia and the Brown Corpus are used for this goal."
   ]
  },
  {
   "cell_type": "markdown",
   "metadata": {
    "id": "73WvuFO_b20j"
   },
   "source": [
    "Nowadays though there are several versions of BERT. We are going to test the BERT PubMed Expert - a model pre-trained on the MEDLINE/PubMed corpus of biomedical and life sciences literature abstracts. It is intended to be used on medical or scientific text NLP tasks. Exactly what our problem is! "
   ]
  },
  {
   "cell_type": "markdown",
   "metadata": {
    "id": "a9e03KUYjvPt"
   },
   "source": [
    "Sources for our code:\n",
    "\n",
    "[TensorFlow Documentation](https://www.tensorflow.org/text/tutorials/classify_text_with_bert)\n",
    "\n",
    "[TensorFlowHub experts/bert/pubmed Colab Notebook](https://tfhub.dev/google/experts/bert/pubmed/2)\n",
    "\n",
    "[Unconventional Sentiment Analysis: BERT vs. Catboost](https://towardsdatascience.com/unconventional-sentiment-analysis-bert-vs-catboost-90645f2437a9)\n",
    "\n"
   ]
  },
  {
   "cell_type": "markdown",
   "metadata": {
    "id": "z-fxnpjndNXC"
   },
   "source": [
    "First, let's open our dataset with PubMed texts."
   ]
  },
  {
   "cell_type": "code",
   "execution_count": 63,
   "metadata": {
    "id": "MDc1OnOfQLCL"
   },
   "outputs": [],
   "source": [
    "texts_table = pd.read_csv(\"only_abstracts.csv\")"
   ]
  },
  {
   "cell_type": "code",
   "execution_count": 64,
   "metadata": {
    "id": "cllsOcejQmE0"
   },
   "outputs": [],
   "source": [
    "texts = texts_table[['text', 'score']]"
   ]
  },
  {
   "cell_type": "code",
   "execution_count": 65,
   "metadata": {
    "colab": {
     "base_uri": "https://localhost:8080/",
     "height": 206
    },
    "id": "ZkPmmB0xQp1L",
    "outputId": "edeec837-4bf5-4394-fd1c-d09f71ea2340"
   },
   "outputs": [
    {
     "data": {
      "text/html": [
       "\n",
       "  <div id=\"df-4a0264cb-79eb-4891-8e3f-4ccb64497915\">\n",
       "    <div class=\"colab-df-container\">\n",
       "      <div>\n",
       "<style scoped>\n",
       "    .dataframe tbody tr th:only-of-type {\n",
       "        vertical-align: middle;\n",
       "    }\n",
       "\n",
       "    .dataframe tbody tr th {\n",
       "        vertical-align: top;\n",
       "    }\n",
       "\n",
       "    .dataframe thead th {\n",
       "        text-align: right;\n",
       "    }\n",
       "</style>\n",
       "<table border=\"1\" class=\"dataframe\">\n",
       "  <thead>\n",
       "    <tr style=\"text-align: right;\">\n",
       "      <th></th>\n",
       "      <th>text</th>\n",
       "      <th>score</th>\n",
       "    </tr>\n",
       "  </thead>\n",
       "  <tbody>\n",
       "    <tr>\n",
       "      <th>0</th>\n",
       "      <td>Conclusion: While there is conflicting evidenc...</td>\n",
       "      <td>1</td>\n",
       "    </tr>\n",
       "    <tr>\n",
       "      <th>1</th>\n",
       "      <td>Conclusion: Resveratrol possesses protective e...</td>\n",
       "      <td>2</td>\n",
       "    </tr>\n",
       "    <tr>\n",
       "      <th>2</th>\n",
       "      <td>Abstract Nettle root is recommended for compla...</td>\n",
       "      <td>2</td>\n",
       "    </tr>\n",
       "    <tr>\n",
       "      <th>3</th>\n",
       "      <td>Abstract For decades, the focus of managing au...</td>\n",
       "      <td>1</td>\n",
       "    </tr>\n",
       "    <tr>\n",
       "      <th>4</th>\n",
       "      <td>Abstract Background: Hashimoto's thyroiditis (...</td>\n",
       "      <td>2</td>\n",
       "    </tr>\n",
       "  </tbody>\n",
       "</table>\n",
       "</div>\n",
       "      <button class=\"colab-df-convert\" onclick=\"convertToInteractive('df-4a0264cb-79eb-4891-8e3f-4ccb64497915')\"\n",
       "              title=\"Convert this dataframe to an interactive table.\"\n",
       "              style=\"display:none;\">\n",
       "        \n",
       "  <svg xmlns=\"http://www.w3.org/2000/svg\" height=\"24px\"viewBox=\"0 0 24 24\"\n",
       "       width=\"24px\">\n",
       "    <path d=\"M0 0h24v24H0V0z\" fill=\"none\"/>\n",
       "    <path d=\"M18.56 5.44l.94 2.06.94-2.06 2.06-.94-2.06-.94-.94-2.06-.94 2.06-2.06.94zm-11 1L8.5 8.5l.94-2.06 2.06-.94-2.06-.94L8.5 2.5l-.94 2.06-2.06.94zm10 10l.94 2.06.94-2.06 2.06-.94-2.06-.94-.94-2.06-.94 2.06-2.06.94z\"/><path d=\"M17.41 7.96l-1.37-1.37c-.4-.4-.92-.59-1.43-.59-.52 0-1.04.2-1.43.59L10.3 9.45l-7.72 7.72c-.78.78-.78 2.05 0 2.83L4 21.41c.39.39.9.59 1.41.59.51 0 1.02-.2 1.41-.59l7.78-7.78 2.81-2.81c.8-.78.8-2.07 0-2.86zM5.41 20L4 18.59l7.72-7.72 1.47 1.35L5.41 20z\"/>\n",
       "  </svg>\n",
       "      </button>\n",
       "      \n",
       "  <style>\n",
       "    .colab-df-container {\n",
       "      display:flex;\n",
       "      flex-wrap:wrap;\n",
       "      gap: 12px;\n",
       "    }\n",
       "\n",
       "    .colab-df-convert {\n",
       "      background-color: #E8F0FE;\n",
       "      border: none;\n",
       "      border-radius: 50%;\n",
       "      cursor: pointer;\n",
       "      display: none;\n",
       "      fill: #1967D2;\n",
       "      height: 32px;\n",
       "      padding: 0 0 0 0;\n",
       "      width: 32px;\n",
       "    }\n",
       "\n",
       "    .colab-df-convert:hover {\n",
       "      background-color: #E2EBFA;\n",
       "      box-shadow: 0px 1px 2px rgba(60, 64, 67, 0.3), 0px 1px 3px 1px rgba(60, 64, 67, 0.15);\n",
       "      fill: #174EA6;\n",
       "    }\n",
       "\n",
       "    [theme=dark] .colab-df-convert {\n",
       "      background-color: #3B4455;\n",
       "      fill: #D2E3FC;\n",
       "    }\n",
       "\n",
       "    [theme=dark] .colab-df-convert:hover {\n",
       "      background-color: #434B5C;\n",
       "      box-shadow: 0px 1px 3px 1px rgba(0, 0, 0, 0.15);\n",
       "      filter: drop-shadow(0px 1px 2px rgba(0, 0, 0, 0.3));\n",
       "      fill: #FFFFFF;\n",
       "    }\n",
       "  </style>\n",
       "\n",
       "      <script>\n",
       "        const buttonEl =\n",
       "          document.querySelector('#df-4a0264cb-79eb-4891-8e3f-4ccb64497915 button.colab-df-convert');\n",
       "        buttonEl.style.display =\n",
       "          google.colab.kernel.accessAllowed ? 'block' : 'none';\n",
       "\n",
       "        async function convertToInteractive(key) {\n",
       "          const element = document.querySelector('#df-4a0264cb-79eb-4891-8e3f-4ccb64497915');\n",
       "          const dataTable =\n",
       "            await google.colab.kernel.invokeFunction('convertToInteractive',\n",
       "                                                     [key], {});\n",
       "          if (!dataTable) return;\n",
       "\n",
       "          const docLinkHtml = 'Like what you see? Visit the ' +\n",
       "            '<a target=\"_blank\" href=https://colab.research.google.com/notebooks/data_table.ipynb>data table notebook</a>'\n",
       "            + ' to learn more about interactive tables.';\n",
       "          element.innerHTML = '';\n",
       "          dataTable['output_type'] = 'display_data';\n",
       "          await google.colab.output.renderOutput(dataTable, element);\n",
       "          const docLink = document.createElement('div');\n",
       "          docLink.innerHTML = docLinkHtml;\n",
       "          element.appendChild(docLink);\n",
       "        }\n",
       "      </script>\n",
       "    </div>\n",
       "  </div>\n",
       "  "
      ],
      "text/plain": [
       "                                                text  score\n",
       "0  Conclusion: While there is conflicting evidenc...      1\n",
       "1  Conclusion: Resveratrol possesses protective e...      2\n",
       "2  Abstract Nettle root is recommended for compla...      2\n",
       "3  Abstract For decades, the focus of managing au...      1\n",
       "4  Abstract Background: Hashimoto's thyroiditis (...      2"
      ]
     },
     "execution_count": 65,
     "metadata": {},
     "output_type": "execute_result"
    }
   ],
   "source": [
    "texts.head()"
   ]
  },
  {
   "cell_type": "markdown",
   "metadata": {
    "id": "0ifUrMoylL2E"
   },
   "source": [
    "## Preprocessing data"
   ]
  },
  {
   "cell_type": "markdown",
   "metadata": {
    "id": "22SL7xQc8ueA"
   },
   "source": [
    "Let's split the data according to the labels. \n",
    "\n",
    "We are going to take 25% for testing. Let's take into account the distribution of the labels (about 50% for 1-scored artilcles, 25% for 0 and 2-scored texts), then this mean four articles with '1' score, two with '0' and two with '2' score for testing. More information about the distribution of the texts is available in the main ipynb file of this project."
   ]
  },
  {
   "cell_type": "code",
   "execution_count": 66,
   "metadata": {
    "id": "Zh0FxJtTAL5v"
   },
   "outputs": [],
   "source": [
    "two_scored_testing = texts[texts['score'] == 2][:2]\n",
    "two_scored_testing_indices = two_scored_testing.index"
   ]
  },
  {
   "cell_type": "code",
   "execution_count": 67,
   "metadata": {
    "colab": {
     "base_uri": "https://localhost:8080/",
     "height": 174
    },
    "id": "8m3pQTAp5hR8",
    "outputId": "3ecfbd2d-9951-450d-8134-6ca21cac6446"
   },
   "outputs": [
    {
     "data": {
      "text/html": [
       "\n",
       "  <div id=\"df-c20f9631-d032-45bf-a368-b2a2716a7dff\">\n",
       "    <div class=\"colab-df-container\">\n",
       "      <div>\n",
       "<style scoped>\n",
       "    .dataframe tbody tr th:only-of-type {\n",
       "        vertical-align: middle;\n",
       "    }\n",
       "\n",
       "    .dataframe tbody tr th {\n",
       "        vertical-align: top;\n",
       "    }\n",
       "\n",
       "    .dataframe thead th {\n",
       "        text-align: right;\n",
       "    }\n",
       "</style>\n",
       "<table border=\"1\" class=\"dataframe\">\n",
       "  <thead>\n",
       "    <tr style=\"text-align: right;\">\n",
       "      <th></th>\n",
       "      <th>text</th>\n",
       "      <th>score</th>\n",
       "    </tr>\n",
       "  </thead>\n",
       "  <tbody>\n",
       "    <tr>\n",
       "      <th>0</th>\n",
       "      <td>Conclusion: While there is conflicting evidenc...</td>\n",
       "      <td>1</td>\n",
       "    </tr>\n",
       "    <tr>\n",
       "      <th>3</th>\n",
       "      <td>Abstract For decades, the focus of managing au...</td>\n",
       "      <td>1</td>\n",
       "    </tr>\n",
       "    <tr>\n",
       "      <th>5</th>\n",
       "      <td>Conclusion:\\nFrom this study, it can be theori...</td>\n",
       "      <td>1</td>\n",
       "    </tr>\n",
       "    <tr>\n",
       "      <th>7</th>\n",
       "      <td>Abstract Thyroid dysfunction, affecting people...</td>\n",
       "      <td>1</td>\n",
       "    </tr>\n",
       "  </tbody>\n",
       "</table>\n",
       "</div>\n",
       "      <button class=\"colab-df-convert\" onclick=\"convertToInteractive('df-c20f9631-d032-45bf-a368-b2a2716a7dff')\"\n",
       "              title=\"Convert this dataframe to an interactive table.\"\n",
       "              style=\"display:none;\">\n",
       "        \n",
       "  <svg xmlns=\"http://www.w3.org/2000/svg\" height=\"24px\"viewBox=\"0 0 24 24\"\n",
       "       width=\"24px\">\n",
       "    <path d=\"M0 0h24v24H0V0z\" fill=\"none\"/>\n",
       "    <path d=\"M18.56 5.44l.94 2.06.94-2.06 2.06-.94-2.06-.94-.94-2.06-.94 2.06-2.06.94zm-11 1L8.5 8.5l.94-2.06 2.06-.94-2.06-.94L8.5 2.5l-.94 2.06-2.06.94zm10 10l.94 2.06.94-2.06 2.06-.94-2.06-.94-.94-2.06-.94 2.06-2.06.94z\"/><path d=\"M17.41 7.96l-1.37-1.37c-.4-.4-.92-.59-1.43-.59-.52 0-1.04.2-1.43.59L10.3 9.45l-7.72 7.72c-.78.78-.78 2.05 0 2.83L4 21.41c.39.39.9.59 1.41.59.51 0 1.02-.2 1.41-.59l7.78-7.78 2.81-2.81c.8-.78.8-2.07 0-2.86zM5.41 20L4 18.59l7.72-7.72 1.47 1.35L5.41 20z\"/>\n",
       "  </svg>\n",
       "      </button>\n",
       "      \n",
       "  <style>\n",
       "    .colab-df-container {\n",
       "      display:flex;\n",
       "      flex-wrap:wrap;\n",
       "      gap: 12px;\n",
       "    }\n",
       "\n",
       "    .colab-df-convert {\n",
       "      background-color: #E8F0FE;\n",
       "      border: none;\n",
       "      border-radius: 50%;\n",
       "      cursor: pointer;\n",
       "      display: none;\n",
       "      fill: #1967D2;\n",
       "      height: 32px;\n",
       "      padding: 0 0 0 0;\n",
       "      width: 32px;\n",
       "    }\n",
       "\n",
       "    .colab-df-convert:hover {\n",
       "      background-color: #E2EBFA;\n",
       "      box-shadow: 0px 1px 2px rgba(60, 64, 67, 0.3), 0px 1px 3px 1px rgba(60, 64, 67, 0.15);\n",
       "      fill: #174EA6;\n",
       "    }\n",
       "\n",
       "    [theme=dark] .colab-df-convert {\n",
       "      background-color: #3B4455;\n",
       "      fill: #D2E3FC;\n",
       "    }\n",
       "\n",
       "    [theme=dark] .colab-df-convert:hover {\n",
       "      background-color: #434B5C;\n",
       "      box-shadow: 0px 1px 3px 1px rgba(0, 0, 0, 0.15);\n",
       "      filter: drop-shadow(0px 1px 2px rgba(0, 0, 0, 0.3));\n",
       "      fill: #FFFFFF;\n",
       "    }\n",
       "  </style>\n",
       "\n",
       "      <script>\n",
       "        const buttonEl =\n",
       "          document.querySelector('#df-c20f9631-d032-45bf-a368-b2a2716a7dff button.colab-df-convert');\n",
       "        buttonEl.style.display =\n",
       "          google.colab.kernel.accessAllowed ? 'block' : 'none';\n",
       "\n",
       "        async function convertToInteractive(key) {\n",
       "          const element = document.querySelector('#df-c20f9631-d032-45bf-a368-b2a2716a7dff');\n",
       "          const dataTable =\n",
       "            await google.colab.kernel.invokeFunction('convertToInteractive',\n",
       "                                                     [key], {});\n",
       "          if (!dataTable) return;\n",
       "\n",
       "          const docLinkHtml = 'Like what you see? Visit the ' +\n",
       "            '<a target=\"_blank\" href=https://colab.research.google.com/notebooks/data_table.ipynb>data table notebook</a>'\n",
       "            + ' to learn more about interactive tables.';\n",
       "          element.innerHTML = '';\n",
       "          dataTable['output_type'] = 'display_data';\n",
       "          await google.colab.output.renderOutput(dataTable, element);\n",
       "          const docLink = document.createElement('div');\n",
       "          docLink.innerHTML = docLinkHtml;\n",
       "          element.appendChild(docLink);\n",
       "        }\n",
       "      </script>\n",
       "    </div>\n",
       "  </div>\n",
       "  "
      ],
      "text/plain": [
       "                                                text  score\n",
       "0  Conclusion: While there is conflicting evidenc...      1\n",
       "3  Abstract For decades, the focus of managing au...      1\n",
       "5  Conclusion:\\nFrom this study, it can be theori...      1\n",
       "7  Abstract Thyroid dysfunction, affecting people...      1"
      ]
     },
     "execution_count": 67,
     "metadata": {},
     "output_type": "execute_result"
    }
   ],
   "source": [
    "texts[texts['score'] == 1][:4]"
   ]
  },
  {
   "cell_type": "markdown",
   "metadata": {
    "id": "E7FYCsHJD5Z7"
   },
   "source": [
    "We see that three of the four texts concern Hashimoto. Let's try another combination."
   ]
  },
  {
   "cell_type": "code",
   "execution_count": 68,
   "metadata": {
    "colab": {
     "base_uri": "https://localhost:8080/",
     "height": 582
    },
    "id": "cGczuwJ2E52b",
    "outputId": "88904793-eb64-4fb8-b423-ca89dd002153"
   },
   "outputs": [
    {
     "data": {
      "text/html": [
       "\n",
       "  <div id=\"df-68e3fbb6-8fa4-43ba-b373-2aaf41c8a88a\">\n",
       "    <div class=\"colab-df-container\">\n",
       "      <div>\n",
       "<style scoped>\n",
       "    .dataframe tbody tr th:only-of-type {\n",
       "        vertical-align: middle;\n",
       "    }\n",
       "\n",
       "    .dataframe tbody tr th {\n",
       "        vertical-align: top;\n",
       "    }\n",
       "\n",
       "    .dataframe thead th {\n",
       "        text-align: right;\n",
       "    }\n",
       "</style>\n",
       "<table border=\"1\" class=\"dataframe\">\n",
       "  <thead>\n",
       "    <tr style=\"text-align: right;\">\n",
       "      <th></th>\n",
       "      <th>text</th>\n",
       "      <th>score</th>\n",
       "    </tr>\n",
       "  </thead>\n",
       "  <tbody>\n",
       "    <tr>\n",
       "      <th>0</th>\n",
       "      <td>Conclusion: While there is conflicting evidenc...</td>\n",
       "      <td>1</td>\n",
       "    </tr>\n",
       "    <tr>\n",
       "      <th>3</th>\n",
       "      <td>Abstract For decades, the focus of managing au...</td>\n",
       "      <td>1</td>\n",
       "    </tr>\n",
       "    <tr>\n",
       "      <th>5</th>\n",
       "      <td>Conclusion:\\nFrom this study, it can be theori...</td>\n",
       "      <td>1</td>\n",
       "    </tr>\n",
       "    <tr>\n",
       "      <th>7</th>\n",
       "      <td>Abstract Thyroid dysfunction, affecting people...</td>\n",
       "      <td>1</td>\n",
       "    </tr>\n",
       "    <tr>\n",
       "      <th>12</th>\n",
       "      <td>Abstract The objective of this study was to de...</td>\n",
       "      <td>1</td>\n",
       "    </tr>\n",
       "    <tr>\n",
       "      <th>13</th>\n",
       "      <td>Conclusion: This review showed promising resul...</td>\n",
       "      <td>1</td>\n",
       "    </tr>\n",
       "    <tr>\n",
       "      <th>14</th>\n",
       "      <td>Abstract Systemic lupus erythematosus (SLE) is...</td>\n",
       "      <td>1</td>\n",
       "    </tr>\n",
       "    <tr>\n",
       "      <th>16</th>\n",
       "      <td>Abstract Endometriosis, a gynecological diseas...</td>\n",
       "      <td>1</td>\n",
       "    </tr>\n",
       "    <tr>\n",
       "      <th>17</th>\n",
       "      <td>Abstract Quercetin (3,3',4',5,7-pentahydroxyfl...</td>\n",
       "      <td>1</td>\n",
       "    </tr>\n",
       "    <tr>\n",
       "      <th>19</th>\n",
       "      <td>Abstract Epigallocatechin-3-gallate (EGCG), a ...</td>\n",
       "      <td>1</td>\n",
       "    </tr>\n",
       "    <tr>\n",
       "      <th>20</th>\n",
       "      <td>Abstract\\r\\nIdiopathic normal pressure hydroce...</td>\n",
       "      <td>1</td>\n",
       "    </tr>\n",
       "    <tr>\n",
       "      <th>22</th>\n",
       "      <td>Conclusions\\nAn additional effect of the 12-we...</td>\n",
       "      <td>1</td>\n",
       "    </tr>\n",
       "    <tr>\n",
       "      <th>26</th>\n",
       "      <td>Abstract\\r\\nAcupuncture is an important part o...</td>\n",
       "      <td>1</td>\n",
       "    </tr>\n",
       "    <tr>\n",
       "      <th>28</th>\n",
       "      <td>Abstract Since the global outbreak of severe a...</td>\n",
       "      <td>1</td>\n",
       "    </tr>\n",
       "    <tr>\n",
       "      <th>29</th>\n",
       "      <td>Abstract About two third of the human microbia...</td>\n",
       "      <td>1</td>\n",
       "    </tr>\n",
       "    <tr>\n",
       "      <th>30</th>\n",
       "      <td>Abstract\\r\\nEpidemiological data show that all...</td>\n",
       "      <td>1</td>\n",
       "    </tr>\n",
       "    <tr>\n",
       "      <th>31</th>\n",
       "      <td>Abstract Systemic lupus erythematosus (SLE) is...</td>\n",
       "      <td>1</td>\n",
       "    </tr>\n",
       "  </tbody>\n",
       "</table>\n",
       "</div>\n",
       "      <button class=\"colab-df-convert\" onclick=\"convertToInteractive('df-68e3fbb6-8fa4-43ba-b373-2aaf41c8a88a')\"\n",
       "              title=\"Convert this dataframe to an interactive table.\"\n",
       "              style=\"display:none;\">\n",
       "        \n",
       "  <svg xmlns=\"http://www.w3.org/2000/svg\" height=\"24px\"viewBox=\"0 0 24 24\"\n",
       "       width=\"24px\">\n",
       "    <path d=\"M0 0h24v24H0V0z\" fill=\"none\"/>\n",
       "    <path d=\"M18.56 5.44l.94 2.06.94-2.06 2.06-.94-2.06-.94-.94-2.06-.94 2.06-2.06.94zm-11 1L8.5 8.5l.94-2.06 2.06-.94-2.06-.94L8.5 2.5l-.94 2.06-2.06.94zm10 10l.94 2.06.94-2.06 2.06-.94-2.06-.94-.94-2.06-.94 2.06-2.06.94z\"/><path d=\"M17.41 7.96l-1.37-1.37c-.4-.4-.92-.59-1.43-.59-.52 0-1.04.2-1.43.59L10.3 9.45l-7.72 7.72c-.78.78-.78 2.05 0 2.83L4 21.41c.39.39.9.59 1.41.59.51 0 1.02-.2 1.41-.59l7.78-7.78 2.81-2.81c.8-.78.8-2.07 0-2.86zM5.41 20L4 18.59l7.72-7.72 1.47 1.35L5.41 20z\"/>\n",
       "  </svg>\n",
       "      </button>\n",
       "      \n",
       "  <style>\n",
       "    .colab-df-container {\n",
       "      display:flex;\n",
       "      flex-wrap:wrap;\n",
       "      gap: 12px;\n",
       "    }\n",
       "\n",
       "    .colab-df-convert {\n",
       "      background-color: #E8F0FE;\n",
       "      border: none;\n",
       "      border-radius: 50%;\n",
       "      cursor: pointer;\n",
       "      display: none;\n",
       "      fill: #1967D2;\n",
       "      height: 32px;\n",
       "      padding: 0 0 0 0;\n",
       "      width: 32px;\n",
       "    }\n",
       "\n",
       "    .colab-df-convert:hover {\n",
       "      background-color: #E2EBFA;\n",
       "      box-shadow: 0px 1px 2px rgba(60, 64, 67, 0.3), 0px 1px 3px 1px rgba(60, 64, 67, 0.15);\n",
       "      fill: #174EA6;\n",
       "    }\n",
       "\n",
       "    [theme=dark] .colab-df-convert {\n",
       "      background-color: #3B4455;\n",
       "      fill: #D2E3FC;\n",
       "    }\n",
       "\n",
       "    [theme=dark] .colab-df-convert:hover {\n",
       "      background-color: #434B5C;\n",
       "      box-shadow: 0px 1px 3px 1px rgba(0, 0, 0, 0.15);\n",
       "      filter: drop-shadow(0px 1px 2px rgba(0, 0, 0, 0.3));\n",
       "      fill: #FFFFFF;\n",
       "    }\n",
       "  </style>\n",
       "\n",
       "      <script>\n",
       "        const buttonEl =\n",
       "          document.querySelector('#df-68e3fbb6-8fa4-43ba-b373-2aaf41c8a88a button.colab-df-convert');\n",
       "        buttonEl.style.display =\n",
       "          google.colab.kernel.accessAllowed ? 'block' : 'none';\n",
       "\n",
       "        async function convertToInteractive(key) {\n",
       "          const element = document.querySelector('#df-68e3fbb6-8fa4-43ba-b373-2aaf41c8a88a');\n",
       "          const dataTable =\n",
       "            await google.colab.kernel.invokeFunction('convertToInteractive',\n",
       "                                                     [key], {});\n",
       "          if (!dataTable) return;\n",
       "\n",
       "          const docLinkHtml = 'Like what you see? Visit the ' +\n",
       "            '<a target=\"_blank\" href=https://colab.research.google.com/notebooks/data_table.ipynb>data table notebook</a>'\n",
       "            + ' to learn more about interactive tables.';\n",
       "          element.innerHTML = '';\n",
       "          dataTable['output_type'] = 'display_data';\n",
       "          await google.colab.output.renderOutput(dataTable, element);\n",
       "          const docLink = document.createElement('div');\n",
       "          docLink.innerHTML = docLinkHtml;\n",
       "          element.appendChild(docLink);\n",
       "        }\n",
       "      </script>\n",
       "    </div>\n",
       "  </div>\n",
       "  "
      ],
      "text/plain": [
       "                                                 text  score\n",
       "0   Conclusion: While there is conflicting evidenc...      1\n",
       "3   Abstract For decades, the focus of managing au...      1\n",
       "5   Conclusion:\\nFrom this study, it can be theori...      1\n",
       "7   Abstract Thyroid dysfunction, affecting people...      1\n",
       "12  Abstract The objective of this study was to de...      1\n",
       "13  Conclusion: This review showed promising resul...      1\n",
       "14  Abstract Systemic lupus erythematosus (SLE) is...      1\n",
       "16  Abstract Endometriosis, a gynecological diseas...      1\n",
       "17  Abstract Quercetin (3,3',4',5,7-pentahydroxyfl...      1\n",
       "19  Abstract Epigallocatechin-3-gallate (EGCG), a ...      1\n",
       "20  Abstract\\r\\nIdiopathic normal pressure hydroce...      1\n",
       "22  Conclusions\\nAn additional effect of the 12-we...      1\n",
       "26  Abstract\\r\\nAcupuncture is an important part o...      1\n",
       "28  Abstract Since the global outbreak of severe a...      1\n",
       "29  Abstract About two third of the human microbia...      1\n",
       "30  Abstract\\r\\nEpidemiological data show that all...      1\n",
       "31  Abstract Systemic lupus erythematosus (SLE) is...      1"
      ]
     },
     "execution_count": 68,
     "metadata": {},
     "output_type": "execute_result"
    }
   ],
   "source": [
    "texts[texts['score'] == 1]"
   ]
  },
  {
   "cell_type": "code",
   "execution_count": 69,
   "metadata": {
    "colab": {
     "base_uri": "https://localhost:8080/",
     "height": 174
    },
    "id": "VtbDanw-CFff",
    "outputId": "2663b29d-4fd2-4b7e-ed59-12fe7671832a"
   },
   "outputs": [
    {
     "data": {
      "text/html": [
       "\n",
       "  <div id=\"df-d41a8ec7-77ac-437e-978c-e51cd8fe4119\">\n",
       "    <div class=\"colab-df-container\">\n",
       "      <div>\n",
       "<style scoped>\n",
       "    .dataframe tbody tr th:only-of-type {\n",
       "        vertical-align: middle;\n",
       "    }\n",
       "\n",
       "    .dataframe tbody tr th {\n",
       "        vertical-align: top;\n",
       "    }\n",
       "\n",
       "    .dataframe thead th {\n",
       "        text-align: right;\n",
       "    }\n",
       "</style>\n",
       "<table border=\"1\" class=\"dataframe\">\n",
       "  <thead>\n",
       "    <tr style=\"text-align: right;\">\n",
       "      <th></th>\n",
       "      <th>text</th>\n",
       "      <th>score</th>\n",
       "    </tr>\n",
       "  </thead>\n",
       "  <tbody>\n",
       "    <tr>\n",
       "      <th>20</th>\n",
       "      <td>Abstract\\r\\nIdiopathic normal pressure hydroce...</td>\n",
       "      <td>1</td>\n",
       "    </tr>\n",
       "    <tr>\n",
       "      <th>28</th>\n",
       "      <td>Abstract Since the global outbreak of severe a...</td>\n",
       "      <td>1</td>\n",
       "    </tr>\n",
       "    <tr>\n",
       "      <th>3</th>\n",
       "      <td>Abstract For decades, the focus of managing au...</td>\n",
       "      <td>1</td>\n",
       "    </tr>\n",
       "    <tr>\n",
       "      <th>19</th>\n",
       "      <td>Abstract Epigallocatechin-3-gallate (EGCG), a ...</td>\n",
       "      <td>1</td>\n",
       "    </tr>\n",
       "  </tbody>\n",
       "</table>\n",
       "</div>\n",
       "      <button class=\"colab-df-convert\" onclick=\"convertToInteractive('df-d41a8ec7-77ac-437e-978c-e51cd8fe4119')\"\n",
       "              title=\"Convert this dataframe to an interactive table.\"\n",
       "              style=\"display:none;\">\n",
       "        \n",
       "  <svg xmlns=\"http://www.w3.org/2000/svg\" height=\"24px\"viewBox=\"0 0 24 24\"\n",
       "       width=\"24px\">\n",
       "    <path d=\"M0 0h24v24H0V0z\" fill=\"none\"/>\n",
       "    <path d=\"M18.56 5.44l.94 2.06.94-2.06 2.06-.94-2.06-.94-.94-2.06-.94 2.06-2.06.94zm-11 1L8.5 8.5l.94-2.06 2.06-.94-2.06-.94L8.5 2.5l-.94 2.06-2.06.94zm10 10l.94 2.06.94-2.06 2.06-.94-2.06-.94-.94-2.06-.94 2.06-2.06.94z\"/><path d=\"M17.41 7.96l-1.37-1.37c-.4-.4-.92-.59-1.43-.59-.52 0-1.04.2-1.43.59L10.3 9.45l-7.72 7.72c-.78.78-.78 2.05 0 2.83L4 21.41c.39.39.9.59 1.41.59.51 0 1.02-.2 1.41-.59l7.78-7.78 2.81-2.81c.8-.78.8-2.07 0-2.86zM5.41 20L4 18.59l7.72-7.72 1.47 1.35L5.41 20z\"/>\n",
       "  </svg>\n",
       "      </button>\n",
       "      \n",
       "  <style>\n",
       "    .colab-df-container {\n",
       "      display:flex;\n",
       "      flex-wrap:wrap;\n",
       "      gap: 12px;\n",
       "    }\n",
       "\n",
       "    .colab-df-convert {\n",
       "      background-color: #E8F0FE;\n",
       "      border: none;\n",
       "      border-radius: 50%;\n",
       "      cursor: pointer;\n",
       "      display: none;\n",
       "      fill: #1967D2;\n",
       "      height: 32px;\n",
       "      padding: 0 0 0 0;\n",
       "      width: 32px;\n",
       "    }\n",
       "\n",
       "    .colab-df-convert:hover {\n",
       "      background-color: #E2EBFA;\n",
       "      box-shadow: 0px 1px 2px rgba(60, 64, 67, 0.3), 0px 1px 3px 1px rgba(60, 64, 67, 0.15);\n",
       "      fill: #174EA6;\n",
       "    }\n",
       "\n",
       "    [theme=dark] .colab-df-convert {\n",
       "      background-color: #3B4455;\n",
       "      fill: #D2E3FC;\n",
       "    }\n",
       "\n",
       "    [theme=dark] .colab-df-convert:hover {\n",
       "      background-color: #434B5C;\n",
       "      box-shadow: 0px 1px 3px 1px rgba(0, 0, 0, 0.15);\n",
       "      filter: drop-shadow(0px 1px 2px rgba(0, 0, 0, 0.3));\n",
       "      fill: #FFFFFF;\n",
       "    }\n",
       "  </style>\n",
       "\n",
       "      <script>\n",
       "        const buttonEl =\n",
       "          document.querySelector('#df-d41a8ec7-77ac-437e-978c-e51cd8fe4119 button.colab-df-convert');\n",
       "        buttonEl.style.display =\n",
       "          google.colab.kernel.accessAllowed ? 'block' : 'none';\n",
       "\n",
       "        async function convertToInteractive(key) {\n",
       "          const element = document.querySelector('#df-d41a8ec7-77ac-437e-978c-e51cd8fe4119');\n",
       "          const dataTable =\n",
       "            await google.colab.kernel.invokeFunction('convertToInteractive',\n",
       "                                                     [key], {});\n",
       "          if (!dataTable) return;\n",
       "\n",
       "          const docLinkHtml = 'Like what you see? Visit the ' +\n",
       "            '<a target=\"_blank\" href=https://colab.research.google.com/notebooks/data_table.ipynb>data table notebook</a>'\n",
       "            + ' to learn more about interactive tables.';\n",
       "          element.innerHTML = '';\n",
       "          dataTable['output_type'] = 'display_data';\n",
       "          await google.colab.output.renderOutput(dataTable, element);\n",
       "          const docLink = document.createElement('div');\n",
       "          docLink.innerHTML = docLinkHtml;\n",
       "          element.appendChild(docLink);\n",
       "        }\n",
       "      </script>\n",
       "    </div>\n",
       "  </div>\n",
       "  "
      ],
      "text/plain": [
       "                                                 text  score\n",
       "20  Abstract\\r\\nIdiopathic normal pressure hydroce...      1\n",
       "28  Abstract Since the global outbreak of severe a...      1\n",
       "3   Abstract For decades, the focus of managing au...      1\n",
       "19  Abstract Epigallocatechin-3-gallate (EGCG), a ...      1"
      ]
     },
     "execution_count": 69,
     "metadata": {},
     "output_type": "execute_result"
    }
   ],
   "source": [
    "texts.loc[[20, 28, 3, 19]]"
   ]
  },
  {
   "cell_type": "markdown",
   "metadata": {
    "id": "DkikvBzfFRPa"
   },
   "source": [
    "We see now that the data is quite different."
   ]
  },
  {
   "cell_type": "code",
   "execution_count": 70,
   "metadata": {
    "id": "mIGKeOqEFLiD"
   },
   "outputs": [],
   "source": [
    "one_scored_testing_indices = [20, 28, 3, 19]"
   ]
  },
  {
   "cell_type": "code",
   "execution_count": 71,
   "metadata": {
    "colab": {
     "base_uri": "https://localhost:8080/",
     "height": 269
    },
    "id": "mB_prmUkDIN1",
    "outputId": "22d1a49b-9ad8-4142-dfc2-dd4c7ddcc01c"
   },
   "outputs": [
    {
     "data": {
      "text/html": [
       "\n",
       "  <div id=\"df-07c844a8-c424-4a19-bd4f-cce78a3e6c52\">\n",
       "    <div class=\"colab-df-container\">\n",
       "      <div>\n",
       "<style scoped>\n",
       "    .dataframe tbody tr th:only-of-type {\n",
       "        vertical-align: middle;\n",
       "    }\n",
       "\n",
       "    .dataframe tbody tr th {\n",
       "        vertical-align: top;\n",
       "    }\n",
       "\n",
       "    .dataframe thead th {\n",
       "        text-align: right;\n",
       "    }\n",
       "</style>\n",
       "<table border=\"1\" class=\"dataframe\">\n",
       "  <thead>\n",
       "    <tr style=\"text-align: right;\">\n",
       "      <th></th>\n",
       "      <th>text</th>\n",
       "      <th>score</th>\n",
       "    </tr>\n",
       "  </thead>\n",
       "  <tbody>\n",
       "    <tr>\n",
       "      <th>8</th>\n",
       "      <td>Conclusions: This study demonstrates that wome...</td>\n",
       "      <td>0</td>\n",
       "    </tr>\n",
       "    <tr>\n",
       "      <th>9</th>\n",
       "      <td>Conclusions: A limited body of knowledge exist...</td>\n",
       "      <td>0</td>\n",
       "    </tr>\n",
       "    <tr>\n",
       "      <th>10</th>\n",
       "      <td>Abstract Awareness of physical activity (PA) c...</td>\n",
       "      <td>0</td>\n",
       "    </tr>\n",
       "    <tr>\n",
       "      <th>11</th>\n",
       "      <td>Conclusions: MetS and insulin resistance are a...</td>\n",
       "      <td>0</td>\n",
       "    </tr>\n",
       "    <tr>\n",
       "      <th>15</th>\n",
       "      <td>Conclusion\\nThe effect of PA and exercise as t...</td>\n",
       "      <td>0</td>\n",
       "    </tr>\n",
       "    <tr>\n",
       "      <th>21</th>\n",
       "      <td>Conclusion\\nShunt surgery improved short-dista...</td>\n",
       "      <td>0</td>\n",
       "    </tr>\n",
       "    <tr>\n",
       "      <th>23</th>\n",
       "      <td>Abstract Thyroid dysfunction can compromise ph...</td>\n",
       "      <td>0</td>\n",
       "    </tr>\n",
       "  </tbody>\n",
       "</table>\n",
       "</div>\n",
       "      <button class=\"colab-df-convert\" onclick=\"convertToInteractive('df-07c844a8-c424-4a19-bd4f-cce78a3e6c52')\"\n",
       "              title=\"Convert this dataframe to an interactive table.\"\n",
       "              style=\"display:none;\">\n",
       "        \n",
       "  <svg xmlns=\"http://www.w3.org/2000/svg\" height=\"24px\"viewBox=\"0 0 24 24\"\n",
       "       width=\"24px\">\n",
       "    <path d=\"M0 0h24v24H0V0z\" fill=\"none\"/>\n",
       "    <path d=\"M18.56 5.44l.94 2.06.94-2.06 2.06-.94-2.06-.94-.94-2.06-.94 2.06-2.06.94zm-11 1L8.5 8.5l.94-2.06 2.06-.94-2.06-.94L8.5 2.5l-.94 2.06-2.06.94zm10 10l.94 2.06.94-2.06 2.06-.94-2.06-.94-.94-2.06-.94 2.06-2.06.94z\"/><path d=\"M17.41 7.96l-1.37-1.37c-.4-.4-.92-.59-1.43-.59-.52 0-1.04.2-1.43.59L10.3 9.45l-7.72 7.72c-.78.78-.78 2.05 0 2.83L4 21.41c.39.39.9.59 1.41.59.51 0 1.02-.2 1.41-.59l7.78-7.78 2.81-2.81c.8-.78.8-2.07 0-2.86zM5.41 20L4 18.59l7.72-7.72 1.47 1.35L5.41 20z\"/>\n",
       "  </svg>\n",
       "      </button>\n",
       "      \n",
       "  <style>\n",
       "    .colab-df-container {\n",
       "      display:flex;\n",
       "      flex-wrap:wrap;\n",
       "      gap: 12px;\n",
       "    }\n",
       "\n",
       "    .colab-df-convert {\n",
       "      background-color: #E8F0FE;\n",
       "      border: none;\n",
       "      border-radius: 50%;\n",
       "      cursor: pointer;\n",
       "      display: none;\n",
       "      fill: #1967D2;\n",
       "      height: 32px;\n",
       "      padding: 0 0 0 0;\n",
       "      width: 32px;\n",
       "    }\n",
       "\n",
       "    .colab-df-convert:hover {\n",
       "      background-color: #E2EBFA;\n",
       "      box-shadow: 0px 1px 2px rgba(60, 64, 67, 0.3), 0px 1px 3px 1px rgba(60, 64, 67, 0.15);\n",
       "      fill: #174EA6;\n",
       "    }\n",
       "\n",
       "    [theme=dark] .colab-df-convert {\n",
       "      background-color: #3B4455;\n",
       "      fill: #D2E3FC;\n",
       "    }\n",
       "\n",
       "    [theme=dark] .colab-df-convert:hover {\n",
       "      background-color: #434B5C;\n",
       "      box-shadow: 0px 1px 3px 1px rgba(0, 0, 0, 0.15);\n",
       "      filter: drop-shadow(0px 1px 2px rgba(0, 0, 0, 0.3));\n",
       "      fill: #FFFFFF;\n",
       "    }\n",
       "  </style>\n",
       "\n",
       "      <script>\n",
       "        const buttonEl =\n",
       "          document.querySelector('#df-07c844a8-c424-4a19-bd4f-cce78a3e6c52 button.colab-df-convert');\n",
       "        buttonEl.style.display =\n",
       "          google.colab.kernel.accessAllowed ? 'block' : 'none';\n",
       "\n",
       "        async function convertToInteractive(key) {\n",
       "          const element = document.querySelector('#df-07c844a8-c424-4a19-bd4f-cce78a3e6c52');\n",
       "          const dataTable =\n",
       "            await google.colab.kernel.invokeFunction('convertToInteractive',\n",
       "                                                     [key], {});\n",
       "          if (!dataTable) return;\n",
       "\n",
       "          const docLinkHtml = 'Like what you see? Visit the ' +\n",
       "            '<a target=\"_blank\" href=https://colab.research.google.com/notebooks/data_table.ipynb>data table notebook</a>'\n",
       "            + ' to learn more about interactive tables.';\n",
       "          element.innerHTML = '';\n",
       "          dataTable['output_type'] = 'display_data';\n",
       "          await google.colab.output.renderOutput(dataTable, element);\n",
       "          const docLink = document.createElement('div');\n",
       "          docLink.innerHTML = docLinkHtml;\n",
       "          element.appendChild(docLink);\n",
       "        }\n",
       "      </script>\n",
       "    </div>\n",
       "  </div>\n",
       "  "
      ],
      "text/plain": [
       "                                                 text  score\n",
       "8   Conclusions: This study demonstrates that wome...      0\n",
       "9   Conclusions: A limited body of knowledge exist...      0\n",
       "10  Abstract Awareness of physical activity (PA) c...      0\n",
       "11  Conclusions: MetS and insulin resistance are a...      0\n",
       "15  Conclusion\\nThe effect of PA and exercise as t...      0\n",
       "21  Conclusion\\nShunt surgery improved short-dista...      0\n",
       "23  Abstract Thyroid dysfunction can compromise ph...      0"
      ]
     },
     "execution_count": 71,
     "metadata": {},
     "output_type": "execute_result"
    }
   ],
   "source": [
    "texts[texts['score'] == 0]"
   ]
  },
  {
   "cell_type": "markdown",
   "metadata": {
    "id": "cjyOQ9PtGXNs"
   },
   "source": [
    "The last ones are different. But they both are connected to activities, and this could mislead the model. Let's take one, connected to a practice, and one to a substance."
   ]
  },
  {
   "cell_type": "code",
   "execution_count": 72,
   "metadata": {
    "id": "l9YNfp96GtZD"
   },
   "outputs": [],
   "source": [
    "zero_scored_testing_indices = [11, 23]"
   ]
  },
  {
   "cell_type": "code",
   "execution_count": 73,
   "metadata": {
    "colab": {
     "base_uri": "https://localhost:8080/"
    },
    "id": "iVW3dlHIHvRr",
    "outputId": "99c7b313-b6a5-42b1-d93e-3a29aa154f7e"
   },
   "outputs": [
    {
     "data": {
      "text/plain": [
       "Int64Index([1, 2], dtype='int64')"
      ]
     },
     "execution_count": 73,
     "metadata": {},
     "output_type": "execute_result"
    }
   ],
   "source": [
    "two_scored_testing_indices"
   ]
  },
  {
   "cell_type": "code",
   "execution_count": 74,
   "metadata": {
    "id": "U7ommIieHOy7"
   },
   "outputs": [],
   "source": [
    "testing_indices = []\n",
    "testing_indices.extend([ind for ind in two_scored_testing_indices])\n",
    "testing_indices.extend([ind for ind in one_scored_testing_indices])\n",
    "testing_indices.extend([ind for ind in zero_scored_testing_indices])"
   ]
  },
  {
   "cell_type": "code",
   "execution_count": 75,
   "metadata": {
    "colab": {
     "base_uri": "https://localhost:8080/"
    },
    "id": "iGJsceaAKUwR",
    "outputId": "2289bd92-1947-4ff9-85a6-171cfcbab4d4"
   },
   "outputs": [
    {
     "data": {
      "text/plain": [
       "[1, 2, 20, 28, 3, 19, 11, 23]"
      ]
     },
     "execution_count": 75,
     "metadata": {},
     "output_type": "execute_result"
    }
   ],
   "source": [
    "testing_indices"
   ]
  },
  {
   "cell_type": "markdown",
   "metadata": {
    "id": "E7SttH-mMTpX"
   },
   "source": [
    "We are going to shuffle them."
   ]
  },
  {
   "cell_type": "code",
   "execution_count": 76,
   "metadata": {
    "id": "zlO_HBHQMXjX"
   },
   "outputs": [],
   "source": [
    "random.shuffle(testing_indices)"
   ]
  },
  {
   "cell_type": "code",
   "execution_count": 77,
   "metadata": {
    "colab": {
     "base_uri": "https://localhost:8080/"
    },
    "id": "14f00R9_MoXf",
    "outputId": "51d05ecc-f96d-442a-adc1-5a3043d4916e"
   },
   "outputs": [
    {
     "name": "stdout",
     "output_type": "stream",
     "text": [
      "[28, 3, 11, 23, 20, 19, 1, 2]\n"
     ]
    }
   ],
   "source": [
    "print(testing_indices)"
   ]
  },
  {
   "cell_type": "markdown",
   "metadata": {
    "id": "n8clDynENZY_"
   },
   "source": [
    "Now, since we have the row indices of the testing set, let's split the whole dataset into two groups - train and test group."
   ]
  },
  {
   "cell_type": "code",
   "execution_count": 78,
   "metadata": {
    "id": "Hg92SKz6NvXG"
   },
   "outputs": [],
   "source": [
    "test_group = texts.loc[testing_indices]"
   ]
  },
  {
   "cell_type": "code",
   "execution_count": 79,
   "metadata": {
    "id": "ErIvMcN4OA7P"
   },
   "outputs": [],
   "source": [
    "train_group = texts.drop(index=testing_indices)"
   ]
  },
  {
   "cell_type": "code",
   "execution_count": 80,
   "metadata": {
    "colab": {
     "base_uri": "https://localhost:8080/",
     "height": 802
    },
    "id": "QdPYfOG7PxIO",
    "outputId": "d97ce050-70a7-4562-d5b4-3ed6e1a00f40"
   },
   "outputs": [
    {
     "data": {
      "text/html": [
       "\n",
       "  <div id=\"df-7690736d-134c-4a32-8aad-20d23a81fc70\">\n",
       "    <div class=\"colab-df-container\">\n",
       "      <div>\n",
       "<style scoped>\n",
       "    .dataframe tbody tr th:only-of-type {\n",
       "        vertical-align: middle;\n",
       "    }\n",
       "\n",
       "    .dataframe tbody tr th {\n",
       "        vertical-align: top;\n",
       "    }\n",
       "\n",
       "    .dataframe thead th {\n",
       "        text-align: right;\n",
       "    }\n",
       "</style>\n",
       "<table border=\"1\" class=\"dataframe\">\n",
       "  <thead>\n",
       "    <tr style=\"text-align: right;\">\n",
       "      <th></th>\n",
       "      <th>text</th>\n",
       "      <th>score</th>\n",
       "    </tr>\n",
       "  </thead>\n",
       "  <tbody>\n",
       "    <tr>\n",
       "      <th>0</th>\n",
       "      <td>Conclusion: While there is conflicting evidenc...</td>\n",
       "      <td>1</td>\n",
       "    </tr>\n",
       "    <tr>\n",
       "      <th>4</th>\n",
       "      <td>Abstract Background: Hashimoto's thyroiditis (...</td>\n",
       "      <td>2</td>\n",
       "    </tr>\n",
       "    <tr>\n",
       "      <th>5</th>\n",
       "      <td>Conclusion:\\nFrom this study, it can be theori...</td>\n",
       "      <td>1</td>\n",
       "    </tr>\n",
       "    <tr>\n",
       "      <th>6</th>\n",
       "      <td>Abstract Hypothyroidism is one of the most com...</td>\n",
       "      <td>2</td>\n",
       "    </tr>\n",
       "    <tr>\n",
       "      <th>7</th>\n",
       "      <td>Abstract Thyroid dysfunction, affecting people...</td>\n",
       "      <td>1</td>\n",
       "    </tr>\n",
       "    <tr>\n",
       "      <th>8</th>\n",
       "      <td>Conclusions: This study demonstrates that wome...</td>\n",
       "      <td>0</td>\n",
       "    </tr>\n",
       "    <tr>\n",
       "      <th>9</th>\n",
       "      <td>Conclusions: A limited body of knowledge exist...</td>\n",
       "      <td>0</td>\n",
       "    </tr>\n",
       "    <tr>\n",
       "      <th>10</th>\n",
       "      <td>Abstract Awareness of physical activity (PA) c...</td>\n",
       "      <td>0</td>\n",
       "    </tr>\n",
       "    <tr>\n",
       "      <th>12</th>\n",
       "      <td>Abstract The objective of this study was to de...</td>\n",
       "      <td>1</td>\n",
       "    </tr>\n",
       "    <tr>\n",
       "      <th>13</th>\n",
       "      <td>Conclusion: This review showed promising resul...</td>\n",
       "      <td>1</td>\n",
       "    </tr>\n",
       "    <tr>\n",
       "      <th>14</th>\n",
       "      <td>Abstract Systemic lupus erythematosus (SLE) is...</td>\n",
       "      <td>1</td>\n",
       "    </tr>\n",
       "    <tr>\n",
       "      <th>15</th>\n",
       "      <td>Conclusion\\nThe effect of PA and exercise as t...</td>\n",
       "      <td>0</td>\n",
       "    </tr>\n",
       "    <tr>\n",
       "      <th>16</th>\n",
       "      <td>Abstract Endometriosis, a gynecological diseas...</td>\n",
       "      <td>1</td>\n",
       "    </tr>\n",
       "    <tr>\n",
       "      <th>17</th>\n",
       "      <td>Abstract Quercetin (3,3',4',5,7-pentahydroxyfl...</td>\n",
       "      <td>1</td>\n",
       "    </tr>\n",
       "    <tr>\n",
       "      <th>18</th>\n",
       "      <td>Abstract Green tea epigallocatechin-3-gallate ...</td>\n",
       "      <td>2</td>\n",
       "    </tr>\n",
       "    <tr>\n",
       "      <th>21</th>\n",
       "      <td>Conclusion\\nShunt surgery improved short-dista...</td>\n",
       "      <td>0</td>\n",
       "    </tr>\n",
       "    <tr>\n",
       "      <th>22</th>\n",
       "      <td>Conclusions\\nAn additional effect of the 12-we...</td>\n",
       "      <td>1</td>\n",
       "    </tr>\n",
       "    <tr>\n",
       "      <th>24</th>\n",
       "      <td>Conclusion The characteristics and symptoms re...</td>\n",
       "      <td>2</td>\n",
       "    </tr>\n",
       "    <tr>\n",
       "      <th>25</th>\n",
       "      <td>Abstract Novel Coronavirus COVID-19 or Severe ...</td>\n",
       "      <td>2</td>\n",
       "    </tr>\n",
       "    <tr>\n",
       "      <th>26</th>\n",
       "      <td>Abstract\\r\\nAcupuncture is an important part o...</td>\n",
       "      <td>1</td>\n",
       "    </tr>\n",
       "    <tr>\n",
       "      <th>27</th>\n",
       "      <td>Conclusion: The findings of this study show th...</td>\n",
       "      <td>2</td>\n",
       "    </tr>\n",
       "    <tr>\n",
       "      <th>29</th>\n",
       "      <td>Abstract About two third of the human microbia...</td>\n",
       "      <td>1</td>\n",
       "    </tr>\n",
       "    <tr>\n",
       "      <th>30</th>\n",
       "      <td>Abstract\\r\\nEpidemiological data show that all...</td>\n",
       "      <td>1</td>\n",
       "    </tr>\n",
       "    <tr>\n",
       "      <th>31</th>\n",
       "      <td>Abstract Systemic lupus erythematosus (SLE) is...</td>\n",
       "      <td>1</td>\n",
       "    </tr>\n",
       "  </tbody>\n",
       "</table>\n",
       "</div>\n",
       "      <button class=\"colab-df-convert\" onclick=\"convertToInteractive('df-7690736d-134c-4a32-8aad-20d23a81fc70')\"\n",
       "              title=\"Convert this dataframe to an interactive table.\"\n",
       "              style=\"display:none;\">\n",
       "        \n",
       "  <svg xmlns=\"http://www.w3.org/2000/svg\" height=\"24px\"viewBox=\"0 0 24 24\"\n",
       "       width=\"24px\">\n",
       "    <path d=\"M0 0h24v24H0V0z\" fill=\"none\"/>\n",
       "    <path d=\"M18.56 5.44l.94 2.06.94-2.06 2.06-.94-2.06-.94-.94-2.06-.94 2.06-2.06.94zm-11 1L8.5 8.5l.94-2.06 2.06-.94-2.06-.94L8.5 2.5l-.94 2.06-2.06.94zm10 10l.94 2.06.94-2.06 2.06-.94-2.06-.94-.94-2.06-.94 2.06-2.06.94z\"/><path d=\"M17.41 7.96l-1.37-1.37c-.4-.4-.92-.59-1.43-.59-.52 0-1.04.2-1.43.59L10.3 9.45l-7.72 7.72c-.78.78-.78 2.05 0 2.83L4 21.41c.39.39.9.59 1.41.59.51 0 1.02-.2 1.41-.59l7.78-7.78 2.81-2.81c.8-.78.8-2.07 0-2.86zM5.41 20L4 18.59l7.72-7.72 1.47 1.35L5.41 20z\"/>\n",
       "  </svg>\n",
       "      </button>\n",
       "      \n",
       "  <style>\n",
       "    .colab-df-container {\n",
       "      display:flex;\n",
       "      flex-wrap:wrap;\n",
       "      gap: 12px;\n",
       "    }\n",
       "\n",
       "    .colab-df-convert {\n",
       "      background-color: #E8F0FE;\n",
       "      border: none;\n",
       "      border-radius: 50%;\n",
       "      cursor: pointer;\n",
       "      display: none;\n",
       "      fill: #1967D2;\n",
       "      height: 32px;\n",
       "      padding: 0 0 0 0;\n",
       "      width: 32px;\n",
       "    }\n",
       "\n",
       "    .colab-df-convert:hover {\n",
       "      background-color: #E2EBFA;\n",
       "      box-shadow: 0px 1px 2px rgba(60, 64, 67, 0.3), 0px 1px 3px 1px rgba(60, 64, 67, 0.15);\n",
       "      fill: #174EA6;\n",
       "    }\n",
       "\n",
       "    [theme=dark] .colab-df-convert {\n",
       "      background-color: #3B4455;\n",
       "      fill: #D2E3FC;\n",
       "    }\n",
       "\n",
       "    [theme=dark] .colab-df-convert:hover {\n",
       "      background-color: #434B5C;\n",
       "      box-shadow: 0px 1px 3px 1px rgba(0, 0, 0, 0.15);\n",
       "      filter: drop-shadow(0px 1px 2px rgba(0, 0, 0, 0.3));\n",
       "      fill: #FFFFFF;\n",
       "    }\n",
       "  </style>\n",
       "\n",
       "      <script>\n",
       "        const buttonEl =\n",
       "          document.querySelector('#df-7690736d-134c-4a32-8aad-20d23a81fc70 button.colab-df-convert');\n",
       "        buttonEl.style.display =\n",
       "          google.colab.kernel.accessAllowed ? 'block' : 'none';\n",
       "\n",
       "        async function convertToInteractive(key) {\n",
       "          const element = document.querySelector('#df-7690736d-134c-4a32-8aad-20d23a81fc70');\n",
       "          const dataTable =\n",
       "            await google.colab.kernel.invokeFunction('convertToInteractive',\n",
       "                                                     [key], {});\n",
       "          if (!dataTable) return;\n",
       "\n",
       "          const docLinkHtml = 'Like what you see? Visit the ' +\n",
       "            '<a target=\"_blank\" href=https://colab.research.google.com/notebooks/data_table.ipynb>data table notebook</a>'\n",
       "            + ' to learn more about interactive tables.';\n",
       "          element.innerHTML = '';\n",
       "          dataTable['output_type'] = 'display_data';\n",
       "          await google.colab.output.renderOutput(dataTable, element);\n",
       "          const docLink = document.createElement('div');\n",
       "          docLink.innerHTML = docLinkHtml;\n",
       "          element.appendChild(docLink);\n",
       "        }\n",
       "      </script>\n",
       "    </div>\n",
       "  </div>\n",
       "  "
      ],
      "text/plain": [
       "                                                 text  score\n",
       "0   Conclusion: While there is conflicting evidenc...      1\n",
       "4   Abstract Background: Hashimoto's thyroiditis (...      2\n",
       "5   Conclusion:\\nFrom this study, it can be theori...      1\n",
       "6   Abstract Hypothyroidism is one of the most com...      2\n",
       "7   Abstract Thyroid dysfunction, affecting people...      1\n",
       "8   Conclusions: This study demonstrates that wome...      0\n",
       "9   Conclusions: A limited body of knowledge exist...      0\n",
       "10  Abstract Awareness of physical activity (PA) c...      0\n",
       "12  Abstract The objective of this study was to de...      1\n",
       "13  Conclusion: This review showed promising resul...      1\n",
       "14  Abstract Systemic lupus erythematosus (SLE) is...      1\n",
       "15  Conclusion\\nThe effect of PA and exercise as t...      0\n",
       "16  Abstract Endometriosis, a gynecological diseas...      1\n",
       "17  Abstract Quercetin (3,3',4',5,7-pentahydroxyfl...      1\n",
       "18  Abstract Green tea epigallocatechin-3-gallate ...      2\n",
       "21  Conclusion\\nShunt surgery improved short-dista...      0\n",
       "22  Conclusions\\nAn additional effect of the 12-we...      1\n",
       "24  Conclusion The characteristics and symptoms re...      2\n",
       "25  Abstract Novel Coronavirus COVID-19 or Severe ...      2\n",
       "26  Abstract\\r\\nAcupuncture is an important part o...      1\n",
       "27  Conclusion: The findings of this study show th...      2\n",
       "29  Abstract About two third of the human microbia...      1\n",
       "30  Abstract\\r\\nEpidemiological data show that all...      1\n",
       "31  Abstract Systemic lupus erythematosus (SLE) is...      1"
      ]
     },
     "execution_count": 80,
     "metadata": {},
     "output_type": "execute_result"
    }
   ],
   "source": [
    "train_group"
   ]
  },
  {
   "cell_type": "code",
   "execution_count": 81,
   "metadata": {
    "colab": {
     "base_uri": "https://localhost:8080/"
    },
    "id": "ziimQ0CXP8xd",
    "outputId": "db4f3193-aed2-4af9-f61b-61299bc9efe5"
   },
   "outputs": [
    {
     "data": {
      "text/plain": [
       "((24, 2), (8, 2))"
      ]
     },
     "execution_count": 81,
     "metadata": {},
     "output_type": "execute_result"
    }
   ],
   "source": [
    "train_group.shape, test_group.shape"
   ]
  },
  {
   "cell_type": "markdown",
   "metadata": {
    "id": "vLWWDoP9gB0L"
   },
   "source": [
    "## PubMed BERT Model"
   ]
  },
  {
   "cell_type": "markdown",
   "metadata": {
    "id": "BUjavuGwe2kD"
   },
   "source": [
    "We are preparing the model."
   ]
  },
  {
   "cell_type": "code",
   "execution_count": 82,
   "metadata": {
    "id": "DIFuSNSCQzt8"
   },
   "outputs": [],
   "source": [
    "#For the variables, see 6-th cell \"Configure the models\"\n",
    "preprocess = hub.load(PREPROCESS_MODEL)\n",
    "bert = hub.load(BERT_MODEL)"
   ]
  },
  {
   "cell_type": "code",
   "execution_count": 83,
   "metadata": {
    "id": "ZZ472WakZeV1"
   },
   "outputs": [],
   "source": [
    "tfhub_handle_encoder = bert\n",
    "tfhub_handle_preprocess = preprocess"
   ]
  },
  {
   "cell_type": "code",
   "execution_count": null,
   "metadata": {
    "id": "aqAbgjoqX3-H"
   },
   "outputs": [],
   "source": [
    "def build_classifier_model():\n",
    "  text_input = tf.keras.layers.Input(shape=(), dtype=tf.string, name='text')\n",
    "  preprocessing_layer = hub.KerasLayer(tfhub_handle_preprocess, name='preprocessing')\n",
    "  encoder_inputs = preprocessing_layer(text_input)\n",
    "  encoder = hub.KerasLayer(tfhub_handle_encoder, trainable=True, name='BERT_encoder')\n",
    "  outputs = encoder(encoder_inputs)\n",
    "  net = outputs['pooled_output']\n",
    "  net = tf.keras.layers.Dropout(0.1)(net)\n",
    "  net = tf.keras.layers.Dense(3, activation=None, name='classifier')(net)\n",
    "  \n",
    "\n",
    "  return tf.keras.Model(text_input, net)"
   ]
  },
  {
   "cell_type": "code",
   "execution_count": null,
   "metadata": {
    "id": "cZFQV0nk_fbd"
   },
   "outputs": [],
   "source": [
    "classifier_model_docs_ = build_classifier_model()"
   ]
  },
  {
   "cell_type": "code",
   "execution_count": null,
   "metadata": {
    "colab": {
     "base_uri": "https://localhost:8080/"
    },
    "id": "RTWywmubVzm4",
    "outputId": "f555dc7d-a585-4425-ccbe-c1076c78c92f"
   },
   "outputs": [
    {
     "name": "stdout",
     "output_type": "stream",
     "text": [
      "tf.Tensor([[0.40643921 0.33709714 0.81453496]], shape=(1, 3), dtype=float32)\n"
     ]
    }
   ],
   "source": [
    "classifier_model_docs_ = build_classifier_model()\n",
    "\n",
    "#Let's test it if it works\n",
    "bert_raw_result = classifier_model_docs_(tf.constant(['what an amazing place!']))\n",
    "print(tf.sigmoid(bert_raw_result))"
   ]
  },
  {
   "cell_type": "code",
   "execution_count": null,
   "metadata": {
    "id": "L-YLzuHncbK8"
   },
   "outputs": [],
   "source": [
    "loss = tf.keras.losses.SparseCategoricalCrossentropy(from_logits=True)\n",
    "metrics = tf.metrics.SparseCategoricalAccuracy('accuracy')"
   ]
  },
  {
   "cell_type": "code",
   "execution_count": null,
   "metadata": {
    "id": "-HcX6yx6fKdq"
   },
   "outputs": [],
   "source": [
    "epochs = 5\n",
    "steps_per_epoch = train_group.shape[0]\n",
    "num_train_steps = steps_per_epoch * epochs\n",
    "num_warmup_steps = int(0.1*num_train_steps)\n",
    "\n",
    "init_lr = 3e-5\n",
    "optimizer = optimization.create_optimizer(init_lr=init_lr,\n",
    "                                          num_train_steps=num_train_steps,\n",
    "                                          num_warmup_steps=num_warmup_steps,\n",
    "                                          optimizer_type='adamw')"
   ]
  },
  {
   "cell_type": "code",
   "execution_count": null,
   "metadata": {
    "id": "FfLkjuoYVSI4"
   },
   "outputs": [],
   "source": [
    "classifier_model_docs_.compile(optimizer=optimizer,\n",
    "                         loss=loss,\n",
    "                         metrics=metrics)"
   ]
  },
  {
   "cell_type": "code",
   "execution_count": null,
   "metadata": {
    "colab": {
     "base_uri": "https://localhost:8080/"
    },
    "id": "H8hvWX6q-6MF",
    "outputId": "72b75ff2-ebb0-414e-f2a7-b0bf9d1c6ab8"
   },
   "outputs": [
    {
     "name": "stdout",
     "output_type": "stream",
     "text": [
      "Epoch 1/35\n",
      "1/1 [==============================] - 12s 12s/step - loss: 1.2496 - accuracy: 0.4062 - val_loss: 1.2306 - val_accuracy: 0.5000\n",
      "Epoch 2/35\n",
      "1/1 [==============================] - 1s 882ms/step - loss: 1.1075 - accuracy: 0.5000 - val_loss: 1.0845 - val_accuracy: 0.5000\n",
      "Epoch 3/35\n",
      "1/1 [==============================] - 1s 823ms/step - loss: 0.8210 - accuracy: 0.6667 - val_loss: 0.9402 - val_accuracy: 0.5000\n",
      "Epoch 4/35\n",
      "1/1 [==============================] - 1s 868ms/step - loss: 0.8583 - accuracy: 0.5833 - val_loss: 0.8339 - val_accuracy: 0.7500\n",
      "Epoch 5/35\n",
      "1/1 [==============================] - 1s 890ms/step - loss: 0.7659 - accuracy: 0.7917 - val_loss: 0.7944 - val_accuracy: 0.6250\n",
      "Epoch 6/35\n",
      "1/1 [==============================] - 1s 911ms/step - loss: 0.7644 - accuracy: 0.6250 - val_loss: 0.7934 - val_accuracy: 0.6250\n",
      "Epoch 7/35\n",
      "1/1 [==============================] - 1s 901ms/step - loss: 0.5942 - accuracy: 0.7917 - val_loss: 0.8178 - val_accuracy: 0.6250\n",
      "Epoch 8/35\n",
      "1/1 [==============================] - 1s 908ms/step - loss: 0.4981 - accuracy: 0.7917 - val_loss: 0.7956 - val_accuracy: 0.6250\n",
      "Epoch 9/35\n",
      "1/1 [==============================] - 1s 901ms/step - loss: 0.3840 - accuracy: 0.8333 - val_loss: 0.7602 - val_accuracy: 0.6250\n",
      "Epoch 10/35\n",
      "1/1 [==============================] - 1s 911ms/step - loss: 0.3422 - accuracy: 0.9167 - val_loss: 0.7252 - val_accuracy: 0.5000\n",
      "Epoch 11/35\n",
      "1/1 [==============================] - 1s 897ms/step - loss: 0.2717 - accuracy: 0.9583 - val_loss: 0.7507 - val_accuracy: 0.6250\n",
      "Epoch 12/35\n",
      "1/1 [==============================] - 1s 863ms/step - loss: 0.2424 - accuracy: 0.9583 - val_loss: 0.7860 - val_accuracy: 0.6250\n",
      "Epoch 13/35\n",
      "1/1 [==============================] - 1s 830ms/step - loss: 0.2317 - accuracy: 0.9583 - val_loss: 0.8064 - val_accuracy: 0.6250\n",
      "Epoch 14/35\n",
      "1/1 [==============================] - 1s 825ms/step - loss: 0.1445 - accuracy: 1.0000 - val_loss: 0.8571 - val_accuracy: 0.6250\n",
      "Epoch 15/35\n",
      "1/1 [==============================] - 1s 836ms/step - loss: 0.1065 - accuracy: 1.0000 - val_loss: 1.0204 - val_accuracy: 0.6250\n",
      "Epoch 16/35\n",
      "1/1 [==============================] - 1s 836ms/step - loss: 0.0744 - accuracy: 1.0000 - val_loss: 1.2098 - val_accuracy: 0.5000\n",
      "Epoch 17/35\n",
      "1/1 [==============================] - 1s 836ms/step - loss: 0.0895 - accuracy: 1.0000 - val_loss: 1.3122 - val_accuracy: 0.5000\n",
      "Epoch 18/35\n",
      "1/1 [==============================] - 1s 838ms/step - loss: 0.0498 - accuracy: 1.0000 - val_loss: 1.3157 - val_accuracy: 0.5000\n",
      "Epoch 19/35\n",
      "1/1 [==============================] - 1s 844ms/step - loss: 0.0518 - accuracy: 1.0000 - val_loss: 1.2339 - val_accuracy: 0.5000\n",
      "Epoch 20/35\n",
      "1/1 [==============================] - 1s 844ms/step - loss: 0.0533 - accuracy: 1.0000 - val_loss: 1.1623 - val_accuracy: 0.6250\n",
      "Epoch 21/35\n",
      "1/1 [==============================] - 1s 840ms/step - loss: 0.0220 - accuracy: 1.0000 - val_loss: 1.1354 - val_accuracy: 0.6250\n",
      "Epoch 22/35\n",
      "1/1 [==============================] - 1s 840ms/step - loss: 0.0176 - accuracy: 1.0000 - val_loss: 1.1507 - val_accuracy: 0.7500\n",
      "Epoch 23/35\n",
      "1/1 [==============================] - 1s 866ms/step - loss: 0.0188 - accuracy: 1.0000 - val_loss: 1.1902 - val_accuracy: 0.6250\n",
      "Epoch 24/35\n",
      "1/1 [==============================] - 1s 923ms/step - loss: 0.0122 - accuracy: 1.0000 - val_loss: 1.2343 - val_accuracy: 0.6250\n",
      "Epoch 25/35\n",
      "1/1 [==============================] - 1s 914ms/step - loss: 0.0074 - accuracy: 1.0000 - val_loss: 1.2824 - val_accuracy: 0.6250\n",
      "Epoch 26/35\n",
      "1/1 [==============================] - 1s 928ms/step - loss: 0.0090 - accuracy: 1.0000 - val_loss: 1.3378 - val_accuracy: 0.6250\n",
      "Epoch 27/35\n",
      "1/1 [==============================] - 1s 921ms/step - loss: 0.0065 - accuracy: 1.0000 - val_loss: 1.3800 - val_accuracy: 0.6250\n",
      "Epoch 28/35\n",
      "1/1 [==============================] - 1s 929ms/step - loss: 0.0060 - accuracy: 1.0000 - val_loss: 1.4378 - val_accuracy: 0.5000\n",
      "Epoch 29/35\n",
      "1/1 [==============================] - 1s 929ms/step - loss: 0.0035 - accuracy: 1.0000 - val_loss: 1.4943 - val_accuracy: 0.5000\n",
      "Epoch 30/35\n",
      "1/1 [==============================] - 1s 915ms/step - loss: 0.0023 - accuracy: 1.0000 - val_loss: 1.5484 - val_accuracy: 0.5000\n",
      "Epoch 31/35\n",
      "1/1 [==============================] - 1s 900ms/step - loss: 0.0052 - accuracy: 1.0000 - val_loss: 1.6004 - val_accuracy: 0.5000\n",
      "Epoch 32/35\n",
      "1/1 [==============================] - 1s 853ms/step - loss: 0.0030 - accuracy: 1.0000 - val_loss: 1.6443 - val_accuracy: 0.5000\n",
      "Epoch 33/35\n",
      "1/1 [==============================] - 1s 849ms/step - loss: 0.0023 - accuracy: 1.0000 - val_loss: 1.6777 - val_accuracy: 0.5000\n",
      "Epoch 34/35\n",
      "1/1 [==============================] - 1s 842ms/step - loss: 0.0021 - accuracy: 1.0000 - val_loss: 1.7080 - val_accuracy: 0.5000\n",
      "Epoch 35/35\n",
      "1/1 [==============================] - 1s 851ms/step - loss: 0.0018 - accuracy: 1.0000 - val_loss: 1.7317 - val_accuracy: 0.5000\n"
     ]
    }
   ],
   "source": [
    "history = classifier_model_docs_.fit(\n",
    "    x=train_group['text'].values,\n",
    "    y=train_group['score'],\n",
    "    validation_data=(test_group['text'].values, test_group['score']),\n",
    "    epochs=35)"
   ]
  },
  {
   "cell_type": "markdown",
   "metadata": {
    "id": "e7n7ufdzES0B"
   },
   "source": [
    "We see the familiar behaviour of our main model (our LSTM model in the main ipynb file of the project). With little above 0.80 val_loss, the val_accuracy is at its peak. After that the model starts overfitting too much."
   ]
  },
  {
   "cell_type": "markdown",
   "metadata": {
    "id": "5cGow7I0Et-i"
   },
   "source": [
    "Unfortunately, this model didn't imrove LSTM's results."
   ]
  },
  {
   "cell_type": "markdown",
   "metadata": {
    "id": "wjrwockaA3X8"
   },
   "source": [
    "We are going to test similar architecture, but with CategoricalCrossentropy this time."
   ]
  },
  {
   "cell_type": "markdown",
   "metadata": {
    "id": "C6SoE8CDiICH"
   },
   "source": [
    "### BERT PubMed Experts with CategoricalCrossentropy"
   ]
  },
  {
   "cell_type": "markdown",
   "metadata": {
    "id": "IBiU_JIvTH5y"
   },
   "source": [
    "After some trial and error we managed to reach 0.875 accuracy and save the model (with different learning rate and softmax activation though)."
   ]
  },
  {
   "cell_type": "code",
   "execution_count": null,
   "metadata": {
    "id": "hp5kcvNTdGNR"
   },
   "outputs": [],
   "source": [
    "tf.keras.backend.clear_session()"
   ]
  },
  {
   "cell_type": "code",
   "execution_count": 84,
   "metadata": {
    "id": "ziLW6WHedGNW"
   },
   "outputs": [],
   "source": [
    "def build_classifier_model_3():\n",
    "  text_input = tf.keras.layers.Input(shape=(), dtype=tf.string, name='text')\n",
    "  preprocessing_layer = hub.KerasLayer(tfhub_handle_preprocess, name='preprocessing')\n",
    "  encoder_inputs = preprocessing_layer(text_input)\n",
    "  encoder = hub.KerasLayer(tfhub_handle_encoder, trainable=True, name='BERT_encoder')\n",
    "  outputs = encoder(encoder_inputs)\n",
    "  net = outputs['pooled_output']\n",
    "  net = tf.keras.layers.Dropout(0.1)(net)\n",
    "  net = tf.keras.layers.Dense(3, activation='softmax', name='classifier')(net)\n",
    "  \n",
    "\n",
    "  model = tf.keras.Model(text_input, net)\n",
    "\n",
    "  loss = tf.keras.losses.CategoricalCrossentropy()\n",
    "  metric = tf.metrics.CategoricalAccuracy('accuracy')\n",
    "  optimizer = tf.keras.optimizers.Adam(\n",
    "    learning_rate=5e-05, epsilon=1e-08, decay=0.01, clipnorm=1.0)\n",
    "  model.compile(\n",
    "    optimizer=optimizer, loss=loss, metrics=metric)\n",
    "  model.summary()\n",
    "  return model"
   ]
  },
  {
   "cell_type": "code",
   "execution_count": 86,
   "metadata": {
    "id": "tIOghySIdGNW"
   },
   "outputs": [],
   "source": [
    "y_train = tf.keras.utils.to_categorical(\n",
    "    train_group['score'].astype('category').cat.codes.values, num_classes=3)\n",
    "y_test = tf.keras.utils.to_categorical(\n",
    "    test_group['score'].astype('category').cat.codes.values, num_classes=3)"
   ]
  },
  {
   "cell_type": "code",
   "execution_count": null,
   "metadata": {
    "colab": {
     "base_uri": "https://localhost:8080/"
    },
    "id": "pCZtapZUdGNX",
    "outputId": "00a4d58f-7258-44b7-9bee-ecd795475b0c"
   },
   "outputs": [
    {
     "name": "stdout",
     "output_type": "stream",
     "text": [
      "Model: \"model\"\n",
      "__________________________________________________________________________________________________\n",
      " Layer (type)                   Output Shape         Param #     Connected to                     \n",
      "==================================================================================================\n",
      " text (InputLayer)              [(None,)]            0           []                               \n",
      "                                                                                                  \n",
      " preprocessing (KerasLayer)     {'input_mask': (Non  0           ['text[0][0]']                   \n",
      "                                e, 128),                                                          \n",
      "                                 'input_type_ids':                                                \n",
      "                                (None, 128),                                                      \n",
      "                                 'input_word_ids':                                                \n",
      "                                (None, 128)}                                                      \n",
      "                                                                                                  \n",
      " BERT_encoder (KerasLayer)      {'default': (None,   109482241   ['preprocessing[0][0]',          \n",
      "                                768),                             'preprocessing[0][1]',          \n",
      "                                 'pooled_output': (               'preprocessing[0][2]']          \n",
      "                                None, 768),                                                       \n",
      "                                 'sequence_output':                                               \n",
      "                                 (None, 128, 768),                                                \n",
      "                                 'encoder_outputs':                                               \n",
      "                                 [(None, 128, 768),                                               \n",
      "                                 (None, 128, 768),                                                \n",
      "                                 (None, 128, 768),                                                \n",
      "                                 (None, 128, 768),                                                \n",
      "                                 (None, 128, 768),                                                \n",
      "                                 (None, 128, 768),                                                \n",
      "                                 (None, 128, 768),                                                \n",
      "                                 (None, 128, 768),                                                \n",
      "                                 (None, 128, 768),                                                \n",
      "                                 (None, 128, 768),                                                \n",
      "                                 (None, 128, 768),                                                \n",
      "                                 (None, 128, 768)]}                                               \n",
      "                                                                                                  \n",
      " dropout (Dropout)              (None, 768)          0           ['BERT_encoder[0][13]']          \n",
      "                                                                                                  \n",
      " classifier (Dense)             (None, 3)            2307        ['dropout[0][0]']                \n",
      "                                                                                                  \n",
      "==================================================================================================\n",
      "Total params: 109,484,548\n",
      "Trainable params: 109,484,547\n",
      "Non-trainable params: 1\n",
      "__________________________________________________________________________________________________\n"
     ]
    }
   ],
   "source": [
    "classifier_model_ar = build_classifier_model_3()"
   ]
  },
  {
   "cell_type": "code",
   "execution_count": null,
   "metadata": {
    "id": "3fxm4I3edGNX"
   },
   "outputs": [],
   "source": [
    "checkpoint_path = \"training_3/cp.ckpt\"\n",
    "checkpoint_dir = os.path.dirname(checkpoint_path)\n",
    "\n",
    "# Create a callback that saves the model's weights\n",
    "cp_callback = tf.keras.callbacks.ModelCheckpoint(filepath=checkpoint_path,\n",
    "                                                 save_weights_only=True,\n",
    "                                                 monitor='val_accuracy',\n",
    "                                                  mode='max',\n",
    "                                                  save_best_only=True,\n",
    "                                                 verbose=1)"
   ]
  },
  {
   "cell_type": "code",
   "execution_count": null,
   "metadata": {
    "colab": {
     "base_uri": "https://localhost:8080/"
    },
    "id": "SaI9UxUQdGNX",
    "outputId": "d31c3ece-3ac1-4023-c153-4cede4b27f3f"
   },
   "outputs": [
    {
     "name": "stdout",
     "output_type": "stream",
     "text": [
      "Epoch 1/20\n",
      "1/1 [==============================] - ETA: 0s - loss: 1.2579 - accuracy: 0.2917\n",
      "Epoch 1: val_accuracy improved from -inf to 0.62500, saving model to training_3/cp.ckpt\n",
      "1/1 [==============================] - 23s 23s/step - loss: 1.2579 - accuracy: 0.2917 - val_loss: 1.0717 - val_accuracy: 0.6250\n",
      "Epoch 2/20\n",
      "1/1 [==============================] - ETA: 0s - loss: 0.6685 - accuracy: 0.7500\n",
      "Epoch 2: val_accuracy did not improve from 0.62500\n",
      "1/1 [==============================] - 1s 981ms/step - loss: 0.6685 - accuracy: 0.7500 - val_loss: 1.0310 - val_accuracy: 0.6250\n",
      "Epoch 3/20\n",
      "1/1 [==============================] - ETA: 0s - loss: 0.2613 - accuracy: 0.9167\n",
      "Epoch 3: val_accuracy improved from 0.62500 to 0.87500, saving model to training_3/cp.ckpt\n",
      "1/1 [==============================] - 7s 7s/step - loss: 0.2613 - accuracy: 0.9167 - val_loss: 0.6654 - val_accuracy: 0.8750\n",
      "Epoch 4/20\n",
      "1/1 [==============================] - ETA: 0s - loss: 0.0618 - accuracy: 1.0000\n",
      "Epoch 4: val_accuracy did not improve from 0.87500\n",
      "1/1 [==============================] - 1s 914ms/step - loss: 0.0618 - accuracy: 1.0000 - val_loss: 0.8902 - val_accuracy: 0.5000\n",
      "Epoch 5/20\n",
      "1/1 [==============================] - ETA: 0s - loss: 0.0415 - accuracy: 1.0000\n",
      "Epoch 5: val_accuracy did not improve from 0.87500\n",
      "1/1 [==============================] - 1s 831ms/step - loss: 0.0415 - accuracy: 1.0000 - val_loss: 1.6305 - val_accuracy: 0.5000\n",
      "Epoch 6/20\n",
      "1/1 [==============================] - ETA: 0s - loss: 0.0369 - accuracy: 1.0000\n",
      "Epoch 6: val_accuracy did not improve from 0.87500\n",
      "1/1 [==============================] - 1s 826ms/step - loss: 0.0369 - accuracy: 1.0000 - val_loss: 2.3261 - val_accuracy: 0.3750\n",
      "Epoch 7/20\n",
      "1/1 [==============================] - ETA: 0s - loss: 0.0487 - accuracy: 1.0000\n",
      "Epoch 7: val_accuracy did not improve from 0.87500\n",
      "1/1 [==============================] - 1s 839ms/step - loss: 0.0487 - accuracy: 1.0000 - val_loss: 2.3514 - val_accuracy: 0.6250\n",
      "Epoch 8/20\n",
      "1/1 [==============================] - ETA: 0s - loss: 0.0106 - accuracy: 1.0000\n",
      "Epoch 8: val_accuracy did not improve from 0.87500\n",
      "1/1 [==============================] - 1s 826ms/step - loss: 0.0106 - accuracy: 1.0000 - val_loss: 2.3118 - val_accuracy: 0.6250\n",
      "Epoch 9/20\n",
      "1/1 [==============================] - ETA: 0s - loss: 0.0046 - accuracy: 1.0000\n",
      "Epoch 9: val_accuracy did not improve from 0.87500\n",
      "1/1 [==============================] - 1s 885ms/step - loss: 0.0046 - accuracy: 1.0000 - val_loss: 2.2561 - val_accuracy: 0.6250\n",
      "Epoch 10/20\n",
      "1/1 [==============================] - ETA: 0s - loss: 0.0021 - accuracy: 1.0000\n",
      "Epoch 10: val_accuracy did not improve from 0.87500\n",
      "1/1 [==============================] - 1s 825ms/step - loss: 0.0021 - accuracy: 1.0000 - val_loss: 2.1844 - val_accuracy: 0.6250\n",
      "Epoch 11/20\n",
      "1/1 [==============================] - ETA: 0s - loss: 0.0014 - accuracy: 1.0000\n",
      "Epoch 11: val_accuracy did not improve from 0.87500\n",
      "1/1 [==============================] - 1s 835ms/step - loss: 0.0014 - accuracy: 1.0000 - val_loss: 2.1037 - val_accuracy: 0.6250\n",
      "Epoch 12/20\n",
      "1/1 [==============================] - ETA: 0s - loss: 7.7801e-04 - accuracy: 1.0000\n",
      "Epoch 12: val_accuracy did not improve from 0.87500\n",
      "1/1 [==============================] - 1s 891ms/step - loss: 7.7801e-04 - accuracy: 1.0000 - val_loss: 2.0172 - val_accuracy: 0.6250\n",
      "Epoch 13/20\n",
      "1/1 [==============================] - ETA: 0s - loss: 5.5057e-04 - accuracy: 1.0000\n",
      "Epoch 13: val_accuracy did not improve from 0.87500\n",
      "1/1 [==============================] - 1s 907ms/step - loss: 5.5057e-04 - accuracy: 1.0000 - val_loss: 1.9288 - val_accuracy: 0.6250\n",
      "Epoch 14/20\n",
      "1/1 [==============================] - ETA: 0s - loss: 4.9245e-04 - accuracy: 1.0000\n",
      "Epoch 14: val_accuracy did not improve from 0.87500\n",
      "1/1 [==============================] - 1s 906ms/step - loss: 4.9245e-04 - accuracy: 1.0000 - val_loss: 1.8427 - val_accuracy: 0.6250\n",
      "Epoch 15/20\n",
      "1/1 [==============================] - ETA: 0s - loss: 2.3161e-04 - accuracy: 1.0000\n",
      "Epoch 15: val_accuracy did not improve from 0.87500\n",
      "1/1 [==============================] - 1s 913ms/step - loss: 2.3161e-04 - accuracy: 1.0000 - val_loss: 1.7656 - val_accuracy: 0.6250\n",
      "Epoch 16/20\n",
      "1/1 [==============================] - ETA: 0s - loss: 2.3586e-04 - accuracy: 1.0000\n",
      "Epoch 16: val_accuracy did not improve from 0.87500\n",
      "1/1 [==============================] - 1s 924ms/step - loss: 2.3586e-04 - accuracy: 1.0000 - val_loss: 1.7024 - val_accuracy: 0.6250\n",
      "Epoch 17/20\n",
      "1/1 [==============================] - ETA: 0s - loss: 1.8318e-04 - accuracy: 1.0000\n",
      "Epoch 17: val_accuracy did not improve from 0.87500\n",
      "1/1 [==============================] - 1s 896ms/step - loss: 1.8318e-04 - accuracy: 1.0000 - val_loss: 1.6550 - val_accuracy: 0.7500\n",
      "Epoch 18/20\n",
      "1/1 [==============================] - ETA: 0s - loss: 2.2261e-04 - accuracy: 1.0000\n",
      "Epoch 18: val_accuracy did not improve from 0.87500\n",
      "1/1 [==============================] - 1s 923ms/step - loss: 2.2261e-04 - accuracy: 1.0000 - val_loss: 1.6217 - val_accuracy: 0.7500\n",
      "Epoch 19/20\n",
      "1/1 [==============================] - ETA: 0s - loss: 2.0553e-04 - accuracy: 1.0000\n",
      "Epoch 19: val_accuracy did not improve from 0.87500\n",
      "1/1 [==============================] - 1s 919ms/step - loss: 2.0553e-04 - accuracy: 1.0000 - val_loss: 1.5989 - val_accuracy: 0.7500\n",
      "Epoch 20/20\n",
      "1/1 [==============================] - ETA: 0s - loss: 1.3371e-04 - accuracy: 1.0000\n",
      "Epoch 20: val_accuracy did not improve from 0.87500\n",
      "1/1 [==============================] - 1s 884ms/step - loss: 1.3371e-04 - accuracy: 1.0000 - val_loss: 1.5829 - val_accuracy: 0.7500\n"
     ]
    }
   ],
   "source": [
    "history = classifier_model_ar.fit(\n",
    "    x=train_group['text'].values,\n",
    "    y=y_train,\n",
    "    validation_data=(test_group['text'].values, y_test),\n",
    "    epochs=20,\n",
    "    callbacks=[cp_callback])"
   ]
  },
  {
   "cell_type": "markdown",
   "metadata": {
    "id": "u-slLqakienH"
   },
   "source": [
    "We are going to reload the model from its Checkpoint by creating an empty model with the same architecture, checking its accuracy and after that loading the weights of the best performing model, and checking its accuracy again.\n",
    "\n"
   ]
  },
  {
   "cell_type": "code",
   "execution_count": null,
   "metadata": {
    "colab": {
     "base_uri": "https://localhost:8080/"
    },
    "id": "QGYVX_uFhmtg",
    "outputId": "22f95010-5530-4410-d638-30b70a4b9891"
   },
   "outputs": [
    {
     "name": "stdout",
     "output_type": "stream",
     "text": [
      "Model: \"model_1\"\n",
      "__________________________________________________________________________________________________\n",
      " Layer (type)                   Output Shape         Param #     Connected to                     \n",
      "==================================================================================================\n",
      " text (InputLayer)              [(None,)]            0           []                               \n",
      "                                                                                                  \n",
      " preprocessing (KerasLayer)     {'input_mask': (Non  0           ['text[0][0]']                   \n",
      "                                e, 128),                                                          \n",
      "                                 'input_type_ids':                                                \n",
      "                                (None, 128),                                                      \n",
      "                                 'input_word_ids':                                                \n",
      "                                (None, 128)}                                                      \n",
      "                                                                                                  \n",
      " BERT_encoder (KerasLayer)      {'default': (None,   109482241   ['preprocessing[0][0]',          \n",
      "                                768),                             'preprocessing[0][1]',          \n",
      "                                 'pooled_output': (               'preprocessing[0][2]']          \n",
      "                                None, 768),                                                       \n",
      "                                 'sequence_output':                                               \n",
      "                                 (None, 128, 768),                                                \n",
      "                                 'encoder_outputs':                                               \n",
      "                                 [(None, 128, 768),                                               \n",
      "                                 (None, 128, 768),                                                \n",
      "                                 (None, 128, 768),                                                \n",
      "                                 (None, 128, 768),                                                \n",
      "                                 (None, 128, 768),                                                \n",
      "                                 (None, 128, 768),                                                \n",
      "                                 (None, 128, 768),                                                \n",
      "                                 (None, 128, 768),                                                \n",
      "                                 (None, 128, 768),                                                \n",
      "                                 (None, 128, 768),                                                \n",
      "                                 (None, 128, 768),                                                \n",
      "                                 (None, 128, 768)]}                                               \n",
      "                                                                                                  \n",
      " dropout_1 (Dropout)            (None, 768)          0           ['BERT_encoder[0][13]']          \n",
      "                                                                                                  \n",
      " classifier (Dense)             (None, 3)            2307        ['dropout_1[0][0]']              \n",
      "                                                                                                  \n",
      "==================================================================================================\n",
      "Total params: 109,484,548\n",
      "Trainable params: 109,484,547\n",
      "Non-trainable params: 1\n",
      "__________________________________________________________________________________________________\n",
      "1/1 - 1s - loss: 1.0011 - accuracy: 0.5000 - 1s/epoch - 1s/step\n",
      "Untrained model, accuracy: 50.00%\n"
     ]
    }
   ],
   "source": [
    "model_empty = build_classifier_model_3()\n",
    "\n",
    "# Evaluate the model\n",
    "loss, acc = model_empty.evaluate(test_group['text'].values, y_test, verbose=2)\n",
    "print(\"Untrained model, accuracy: {:5.2f}%\".format(100 * acc))"
   ]
  },
  {
   "cell_type": "markdown",
   "metadata": {
    "id": "Yc5Zz3u1i0YW"
   },
   "source": [
    "The empty model initially has 0.5 accuracy."
   ]
  },
  {
   "cell_type": "code",
   "execution_count": null,
   "metadata": {
    "colab": {
     "base_uri": "https://localhost:8080/"
    },
    "id": "sHHrRkeViDGS",
    "outputId": "a2c6ac02-1876-4c89-8d0d-6a1579e3a8ff"
   },
   "outputs": [
    {
     "name": "stdout",
     "output_type": "stream",
     "text": [
      "1/1 - 0s - loss: 0.6654 - accuracy: 0.8750 - 148ms/epoch - 148ms/step\n",
      "Restored model, accuracy: 87.50%\n"
     ]
    }
   ],
   "source": [
    "# Loads the weights\n",
    "model_empty.load_weights(checkpoint_path)\n",
    "\n",
    "# Re-evaluate the model\n",
    "loss, acc = model_empty.evaluate(test_group['text'].values, y_test, verbose=2)\n",
    "print(\"Restored model, accuracy: {:5.2f}%\".format(100 * acc))"
   ]
  },
  {
   "cell_type": "markdown",
   "metadata": {
    "id": "06ufdD2ri8Ce"
   },
   "source": [
    "We see the expected results - 0.875 accuracy."
   ]
  },
  {
   "cell_type": "markdown",
   "metadata": {
    "id": "ACuSMZofiZp2"
   },
   "source": [
    "## Some more testing"
   ]
  },
  {
   "cell_type": "markdown",
   "metadata": {
    "id": "r11zMBiTLBUk"
   },
   "source": [
    "We are going to use two abstracts. We used them for our \n",
    "tests with ULMFiT (see ULMFiT.ipynb). For both texts, ULMFiT gave 0. We expect label=2 for the first text (honey is proven to work against the mentioned bacteria, even though not all honey is that effective) and label=1 for the second (NSO supplementation seems effective but more research is needed). The first part of the task is difficult because 2 is a rare score and the conclusions are ambiguous. Generally, the first text is not easy for categorization."
   ]
  },
  {
   "cell_type": "markdown",
   "metadata": {
    "id": "l9e_xZueLerc"
   },
   "source": [
    " First text:\n",
    " \n",
    " [Source](https://pubmed.ncbi.nlm.nih.gov/31146392/)\n",
    "\n",
    "'Abstract Researchers are continuing to discover all the properties of propolis due to its complex composition and associated broad spectrum of activities. This review aims to characterize the latest scientific reports in the field of antibacterial activity of this substance. The results of studies on the influence of propolis on more than 600 bacterial strains were analyzed. The greater activity of propolis against Gram-positive bacteria than Gram-negative was confirmed. Moreover, the antimicrobial activity of propolis from different regions of the world was compared. As a result, high activity of propolis from the Middle East was found in relation to both, Gram-positive (Staphylococcus aureus) and Gram-negative (Escherichia coli) strains. Simultaneously, the lowest activity was demonstrated for propolis samples from Germany, Ireland and Korea.\n",
    "\n",
    "Keywords: Escherichia coli; Staphylococcus aureus; antibacterial; bee product; polyphenols; propolis; terpenoids.'"
   ]
  },
  {
   "cell_type": "markdown",
   "metadata": {
    "id": "3f9mKHH-MSwE"
   },
   "source": [
    "Second text:"
   ]
  },
  {
   "cell_type": "markdown",
   "metadata": {
    "id": "msK7tV_nL7Zb"
   },
   "source": [
    "[Source](https://pubmed.ncbi.nlm.nih.gov/34407441/)\n",
    "\n",
    "'Conclusions: NSO supplementation was associated with faster recovery of symptoms than usual care alone for patients with mild COVID-19 infection. These potential therapeutic benefits require further exploration with placebo-controlled, double-blinded studies.'"
   ]
  },
  {
   "cell_type": "code",
   "execution_count": null,
   "metadata": {
    "id": "VhzRVyjTKYdo"
   },
   "outputs": [],
   "source": [
    "pred_texts = ['Abstract Researchers are continuing to discover all the properties of propolis due to its complex composition and associated broad spectrum of activities. This review aims to characterize the latest scientific reports in the field of antibacterial activity of this substance. The results of studies on the influence of propolis on more than 600 bacterial strains were analyzed. The greater activity of propolis against Gram-positive bacteria than Gram-negative was confirmed. Moreover, the antimicrobial activity of propolis from different regions of the world was compared. As a result, high activity of propolis from the Middle East was found in relation to both, Gram-positive (Staphylococcus aureus) and Gram-negative (Escherichia coli) strains. Simultaneously, the lowest activity was demonstrated for propolis samples from Germany, Ireland and Korea. Keywords: Escherichia coli; Staphylococcus aureus; antibacterial; bee product; polyphenols; propolis; terpenoids.',\n",
    "                  'Conclusions: NSO supplementation was associated with faster recovery of symptoms than usual care alone for patients with mild COVID-19 infection. These potential therapeutic benefits require further exploration with placebo-controlled, double-blinded studies.']\n"
   ]
  },
  {
   "cell_type": "markdown",
   "metadata": {
    "id": "o2jMAHZYT4lw"
   },
   "source": [
    "Let's see what the results are."
   ]
  },
  {
   "cell_type": "code",
   "execution_count": null,
   "metadata": {
    "colab": {
     "base_uri": "https://localhost:8080/"
    },
    "id": "ZuSSdHUfMcBk",
    "outputId": "836304a7-846d-4c03-b662-4054e647a1b6"
   },
   "outputs": [
    {
     "data": {
      "text/plain": [
       "array([[0.07313772, 0.80489194, 0.1219703 ],\n",
       "       [0.17718089, 0.32072923, 0.50208986]], dtype=float32)"
      ]
     },
     "execution_count": 115,
     "metadata": {},
     "output_type": "execute_result"
    }
   ],
   "source": [
    "model_empty.predict(pred_texts)"
   ]
  },
  {
   "cell_type": "markdown",
   "metadata": {
    "id": "Mjf6xXsXa-rr"
   },
   "source": [
    "Our best model gave 1 to the first text and 2 to the second (we expect 2 to the first and 1 to the second) . It didn't manage to categorize them correctly. It seems promising, though. "
   ]
  },
  {
   "cell_type": "markdown",
   "metadata": {
    "id": "PjkVWkDx4zu0"
   },
   "source": [
    "## Scraped Data Tests"
   ]
  },
  {
   "cell_type": "markdown",
   "metadata": {
    "id": "iwNsANCC5Ntu"
   },
   "source": [
    "Now, let's test the winning algorithm with the expected data. Because we cannot analyze many texts here, we allowed the scraper to search for \"dermatitis\" in combination of a small part (around 400) of the keywords. Now, we are going to import 5 randomly selected texts and see what our model will achieve."
   ]
  },
  {
   "cell_type": "code",
   "execution_count": 43,
   "metadata": {
    "id": "naghYfWt7cl5"
   },
   "outputs": [],
   "source": [
    "bot_data = pd.read_csv('pubmed_23-23_06_February_2023.csv')"
   ]
  },
  {
   "cell_type": "code",
   "execution_count": 44,
   "metadata": {
    "colab": {
     "base_uri": "https://localhost:8080/",
     "height": 423
    },
    "id": "OL8yQHqO78Eh",
    "outputId": "57470203-b7f7-44e5-94c5-5ce8c6677277"
   },
   "outputs": [
    {
     "data": {
      "text/html": [
       "\n",
       "  <div id=\"df-5461ec47-7aea-453f-9d66-b9ad410d66b5\">\n",
       "    <div class=\"colab-df-container\">\n",
       "      <div>\n",
       "<style scoped>\n",
       "    .dataframe tbody tr th:only-of-type {\n",
       "        vertical-align: middle;\n",
       "    }\n",
       "\n",
       "    .dataframe tbody tr th {\n",
       "        vertical-align: top;\n",
       "    }\n",
       "\n",
       "    .dataframe thead th {\n",
       "        text-align: right;\n",
       "    }\n",
       "</style>\n",
       "<table border=\"1\" class=\"dataframe\">\n",
       "  <thead>\n",
       "    <tr style=\"text-align: right;\">\n",
       "      <th></th>\n",
       "      <th>title</th>\n",
       "      <th>article_id</th>\n",
       "      <th>text</th>\n",
       "      <th>query</th>\n",
       "    </tr>\n",
       "  </thead>\n",
       "  <tbody>\n",
       "    <tr>\n",
       "      <th>0</th>\n",
       "      <td>Contact allergy to acrylates/methacrylates in ...</td>\n",
       "      <td>17577353</td>\n",
       "      <td>in a recent study we showed that all our denta...</td>\n",
       "      <td>1,4-Butanediol</td>\n",
       "    </tr>\n",
       "    <tr>\n",
       "      <th>1</th>\n",
       "      <td>The sensitizing capacity of multifunctional ac...</td>\n",
       "      <td>6499426</td>\n",
       "      <td>the multifunctional acrylates used in ultravio...</td>\n",
       "      <td>1,4-Butanediol</td>\n",
       "    </tr>\n",
       "    <tr>\n",
       "      <th>2</th>\n",
       "      <td>An attempt to improve diagnostics of contact a...</td>\n",
       "      <td>15606651</td>\n",
       "      <td>epoxy resin systems (erss) are a frequent caus...</td>\n",
       "      <td>1,4-Butanediol</td>\n",
       "    </tr>\n",
       "    <tr>\n",
       "      <th>3</th>\n",
       "      <td>Contact allergy to reactive diluents and relat...</td>\n",
       "      <td>25711534</td>\n",
       "      <td>diglycidyl ether of bisphenol a resin (dgeba-r...</td>\n",
       "      <td>1,4-Butanediol</td>\n",
       "    </tr>\n",
       "    <tr>\n",
       "      <th>4</th>\n",
       "      <td>Sensitization to reactive diluents and hardene...</td>\n",
       "      <td>26537833</td>\n",
       "      <td>beside the basic resins, reactive diluents and...</td>\n",
       "      <td>1,4-Butanediol</td>\n",
       "    </tr>\n",
       "    <tr>\n",
       "      <th>...</th>\n",
       "      <td>...</td>\n",
       "      <td>...</td>\n",
       "      <td>...</td>\n",
       "      <td>...</td>\n",
       "    </tr>\n",
       "    <tr>\n",
       "      <th>4580</th>\n",
       "      <td>Evaluating Upadacitinib in the Treatment of Mo...</td>\n",
       "      <td>35747444</td>\n",
       "      <td>upadacitinib is a selective small molecule tha...</td>\n",
       "      <td>Creatine</td>\n",
       "    </tr>\n",
       "    <tr>\n",
       "      <th>4581</th>\n",
       "      <td>A phase 3 randomized, multicenter, double-blin...</td>\n",
       "      <td>34988493</td>\n",
       "      <td>systemic atopic dermatitis treatments that hav...</td>\n",
       "      <td>Creatine</td>\n",
       "    </tr>\n",
       "    <tr>\n",
       "      <th>4582</th>\n",
       "      <td>Safety of Janus kinase (JAK) inhibitors in the...</td>\n",
       "      <td>34423443</td>\n",
       "      <td>atopic dermatitis (ad) is a chronic heterogene...</td>\n",
       "      <td>Creatine</td>\n",
       "    </tr>\n",
       "    <tr>\n",
       "      <th>4583</th>\n",
       "      <td>Safety and efficacy of upadacitinib in combina...</td>\n",
       "      <td>34023009</td>\n",
       "      <td>systemic therapies are typically combined with...</td>\n",
       "      <td>Creatine</td>\n",
       "    </tr>\n",
       "    <tr>\n",
       "      <th>4584</th>\n",
       "      <td>Nemolizumab for atopic dermatitis</td>\n",
       "      <td>35412530</td>\n",
       "      <td>atopic dermatitis (ad) is a common inflammator...</td>\n",
       "      <td>Creatine</td>\n",
       "    </tr>\n",
       "  </tbody>\n",
       "</table>\n",
       "<p>4585 rows × 4 columns</p>\n",
       "</div>\n",
       "      <button class=\"colab-df-convert\" onclick=\"convertToInteractive('df-5461ec47-7aea-453f-9d66-b9ad410d66b5')\"\n",
       "              title=\"Convert this dataframe to an interactive table.\"\n",
       "              style=\"display:none;\">\n",
       "        \n",
       "  <svg xmlns=\"http://www.w3.org/2000/svg\" height=\"24px\"viewBox=\"0 0 24 24\"\n",
       "       width=\"24px\">\n",
       "    <path d=\"M0 0h24v24H0V0z\" fill=\"none\"/>\n",
       "    <path d=\"M18.56 5.44l.94 2.06.94-2.06 2.06-.94-2.06-.94-.94-2.06-.94 2.06-2.06.94zm-11 1L8.5 8.5l.94-2.06 2.06-.94-2.06-.94L8.5 2.5l-.94 2.06-2.06.94zm10 10l.94 2.06.94-2.06 2.06-.94-2.06-.94-.94-2.06-.94 2.06-2.06.94z\"/><path d=\"M17.41 7.96l-1.37-1.37c-.4-.4-.92-.59-1.43-.59-.52 0-1.04.2-1.43.59L10.3 9.45l-7.72 7.72c-.78.78-.78 2.05 0 2.83L4 21.41c.39.39.9.59 1.41.59.51 0 1.02-.2 1.41-.59l7.78-7.78 2.81-2.81c.8-.78.8-2.07 0-2.86zM5.41 20L4 18.59l7.72-7.72 1.47 1.35L5.41 20z\"/>\n",
       "  </svg>\n",
       "      </button>\n",
       "      \n",
       "  <style>\n",
       "    .colab-df-container {\n",
       "      display:flex;\n",
       "      flex-wrap:wrap;\n",
       "      gap: 12px;\n",
       "    }\n",
       "\n",
       "    .colab-df-convert {\n",
       "      background-color: #E8F0FE;\n",
       "      border: none;\n",
       "      border-radius: 50%;\n",
       "      cursor: pointer;\n",
       "      display: none;\n",
       "      fill: #1967D2;\n",
       "      height: 32px;\n",
       "      padding: 0 0 0 0;\n",
       "      width: 32px;\n",
       "    }\n",
       "\n",
       "    .colab-df-convert:hover {\n",
       "      background-color: #E2EBFA;\n",
       "      box-shadow: 0px 1px 2px rgba(60, 64, 67, 0.3), 0px 1px 3px 1px rgba(60, 64, 67, 0.15);\n",
       "      fill: #174EA6;\n",
       "    }\n",
       "\n",
       "    [theme=dark] .colab-df-convert {\n",
       "      background-color: #3B4455;\n",
       "      fill: #D2E3FC;\n",
       "    }\n",
       "\n",
       "    [theme=dark] .colab-df-convert:hover {\n",
       "      background-color: #434B5C;\n",
       "      box-shadow: 0px 1px 3px 1px rgba(0, 0, 0, 0.15);\n",
       "      filter: drop-shadow(0px 1px 2px rgba(0, 0, 0, 0.3));\n",
       "      fill: #FFFFFF;\n",
       "    }\n",
       "  </style>\n",
       "\n",
       "      <script>\n",
       "        const buttonEl =\n",
       "          document.querySelector('#df-5461ec47-7aea-453f-9d66-b9ad410d66b5 button.colab-df-convert');\n",
       "        buttonEl.style.display =\n",
       "          google.colab.kernel.accessAllowed ? 'block' : 'none';\n",
       "\n",
       "        async function convertToInteractive(key) {\n",
       "          const element = document.querySelector('#df-5461ec47-7aea-453f-9d66-b9ad410d66b5');\n",
       "          const dataTable =\n",
       "            await google.colab.kernel.invokeFunction('convertToInteractive',\n",
       "                                                     [key], {});\n",
       "          if (!dataTable) return;\n",
       "\n",
       "          const docLinkHtml = 'Like what you see? Visit the ' +\n",
       "            '<a target=\"_blank\" href=https://colab.research.google.com/notebooks/data_table.ipynb>data table notebook</a>'\n",
       "            + ' to learn more about interactive tables.';\n",
       "          element.innerHTML = '';\n",
       "          dataTable['output_type'] = 'display_data';\n",
       "          await google.colab.output.renderOutput(dataTable, element);\n",
       "          const docLink = document.createElement('div');\n",
       "          docLink.innerHTML = docLinkHtml;\n",
       "          element.appendChild(docLink);\n",
       "        }\n",
       "      </script>\n",
       "    </div>\n",
       "  </div>\n",
       "  "
      ],
      "text/plain": [
       "                                                  title  article_id  \\\n",
       "0     Contact allergy to acrylates/methacrylates in ...    17577353   \n",
       "1     The sensitizing capacity of multifunctional ac...     6499426   \n",
       "2     An attempt to improve diagnostics of contact a...    15606651   \n",
       "3     Contact allergy to reactive diluents and relat...    25711534   \n",
       "4     Sensitization to reactive diluents and hardene...    26537833   \n",
       "...                                                 ...         ...   \n",
       "4580  Evaluating Upadacitinib in the Treatment of Mo...    35747444   \n",
       "4581  A phase 3 randomized, multicenter, double-blin...    34988493   \n",
       "4582  Safety of Janus kinase (JAK) inhibitors in the...    34423443   \n",
       "4583  Safety and efficacy of upadacitinib in combina...    34023009   \n",
       "4584                  Nemolizumab for atopic dermatitis    35412530   \n",
       "\n",
       "                                                   text           query  \n",
       "0     in a recent study we showed that all our denta...  1,4-Butanediol  \n",
       "1     the multifunctional acrylates used in ultravio...  1,4-Butanediol  \n",
       "2     epoxy resin systems (erss) are a frequent caus...  1,4-Butanediol  \n",
       "3     diglycidyl ether of bisphenol a resin (dgeba-r...  1,4-Butanediol  \n",
       "4     beside the basic resins, reactive diluents and...  1,4-Butanediol  \n",
       "...                                                 ...             ...  \n",
       "4580  upadacitinib is a selective small molecule tha...        Creatine  \n",
       "4581  systemic atopic dermatitis treatments that hav...        Creatine  \n",
       "4582  atopic dermatitis (ad) is a chronic heterogene...        Creatine  \n",
       "4583  systemic therapies are typically combined with...        Creatine  \n",
       "4584  atopic dermatitis (ad) is a common inflammator...        Creatine  \n",
       "\n",
       "[4585 rows x 4 columns]"
      ]
     },
     "execution_count": 44,
     "metadata": {},
     "output_type": "execute_result"
    }
   ],
   "source": [
    "bot_data"
   ]
  },
  {
   "cell_type": "code",
   "execution_count": 39,
   "metadata": {
    "id": "CaRzdjko8hLQ"
   },
   "outputs": [],
   "source": [
    "random_indices = np.random.randint(0, bot_data.shape[0], size=5)"
   ]
  },
  {
   "cell_type": "code",
   "execution_count": 18,
   "metadata": {
    "colab": {
     "base_uri": "https://localhost:8080/"
    },
    "id": "bbIz-m0x9mTu",
    "outputId": "a3362e25-cb8b-4c3f-9f46-ae24d7fe8e28"
   },
   "outputs": [
    {
     "data": {
      "text/plain": [
       "array([3766,  792, 3043, 3861,  302])"
      ]
     },
     "execution_count": 18,
     "metadata": {},
     "output_type": "execute_result"
    }
   ],
   "source": [
    "random_indices"
   ]
  },
  {
   "cell_type": "code",
   "execution_count": 24,
   "metadata": {
    "id": "e37HWR-79sPG"
   },
   "outputs": [],
   "source": [
    "txt_list = []\n",
    "for a_text_ind in random_indices:\n",
    "  txt_list.append(bot_data.loc[a_text_ind, 'text'])"
   ]
  },
  {
   "cell_type": "code",
   "execution_count": 100,
   "metadata": {
    "id": "MZ7WPB3EfHm4"
   },
   "outputs": [],
   "source": [
    "def depure_data(data):\n",
    "    # Remove new line characters\n",
    "    data = re.sub('\\s+', ' ', data)\n",
    "\n",
    "    # Remove distracting single quotes\n",
    "    data = re.sub(\"\\'\", \"\", data)\n",
    "\n",
    "    return data"
   ]
  },
  {
   "cell_type": "code",
   "execution_count": 60,
   "metadata": {
    "colab": {
     "base_uri": "https://localhost:8080/"
    },
    "id": "GJcDxwfQ_UU0",
    "outputId": "34828023-d4d4-4493-9942-20a16160add4"
   },
   "outputs": [
    {
     "data": {
      "text/plain": [
       "['oxidized zirconium (oxinium), titanium nitride (tin) or titanium niobium nitride (tinbn) coated implants became in recent years available for an increasing amount of total knee arthroplasty (tka) systems. the hypothesis of this study was that the use of tinbn-coated components would not lead to inferior results compared to conventional implants and that none of the metal hypersensitivity patients receiving tinbn-coated implants would require revision for metal allergy. this retrospective study compared 53 titanium niobium nitride coated tka with 103 conventional chrome cobalt implants of the same design. patients were evaluated at a minimal follow-up of 3 years. no differences in clinical, radiological or patient-reported outcome measurements were observed between these groups. a survivorship of 96% without differences in revision rates was observed at medium-term follow-up of 6.5 years. metal allergy leading to contact or generalized dermatitis after tka is very rare and usually linked to chrome or cobalt hypersensitivity. nickel release from knee implants has not been shown to lead to cutaneous symptoms, but unexplained pain and swelling, peri-prosthetic osteolysis and component loosening remain potential issues not fully understood. the use of coated implants eliminates this factor from the diagnostic equation in case of postoperative dissatisfaction. the use of titanium niobium nitride coated implants for primary knee osteoarthritis in self-reported metal hypersensitivity patients shows similar outcomes and survivorship rates as conventional chrome cobalt tka, with no revisions for allergy at medium-term follow-up. knee arthroplasty; metal allergy; revision; titanium niobium.',\n",
       " 'the prevalence of atopic dermatitis has substantially increased in recent decades, and atopic dermatitis could lead to allergic airway inflammation later in life. a previous study found that inorganic arsenic exposure was associated with allergic airway inflammation in children aged 8 to 14 years. however, the association between prenatal exposure to arsenic and other metals and the risk of atopic dermatitis among young children remains unknown. to assess the association between prenatal exposure to arsenic and other metals and the occurrence of atopic dermatitis in children at age 4 years. in total, 1152 pregnant women were enrolled in the original taiwan maternal and infant cohort study (tmics), a multicenter birth cohort study conducted at 9 hospitals in northern, central, southern, and eastern taiwan from october 2012 to may 2015. of those, 586 mothers and children aged 4 years participated in follow-up questionnaire interviews from august 2016 to january 2019. after excluding 216 participants with missing data, the final statistical analysis of follow-up data included 370 mother and child pairs from the central and eastern regions of taiwan. data were analyzed from february 2 to august 12, 2021. arsenic, cadmium, lead, cobalt, copper, nickel, thallium, and zinc during pregnancy. the outcome was parent-reported atopic dermatitis history among children aged 4 years. the presence of atopic dermatitis was defined as a positive response to the question, \"has your child ever had atopic dermatitis diagnosed by a physician?\" during the initial tmics study period, concentrations of arsenic, cadmium, lead, cobalt, copper, nickel, thallium, and zinc were measured in maternal urine during the third trimester of pregnancy using an inductively coupled plasma mass spectrometer. estimated total inorganic arsenic exposure was calculated using a model that included data on both total arsenic and arsenic species (arsenite, arsenate, monomethylarsonate, and dimethylarsenate) obtained from a previous tmics cohort. among 370 children included in the analysis, the mean (sd) age was 3.94 (0.59) years; 208 children (56.2%) were male, and 267 children (72.2%) were from the central region of taiwan. a total of 110 children (29.7%) had atopic dermatitis at age 4 years. maternal estimated total inorganic arsenic exposure during pregnancy was associated with increased odds of atopic dermatitis among children at age 4 years (odds ratio [or], 2.42 [95% ci, 1.33-4.39] for every doubled increase of total inorganic arsenic) after adjusting for parental allergies, childs sex, geographic area, maternal educational level, and exposure to tobacco smoke. every increased unit in the weighted quantile sum index of maternal metal exposure was significantly associated with atopic dermatitis (or, 1.63; 95% ci, 1.28-2.07). arsenic (40.1%) and cadmium (20.5%) accounted for most of the metal mixture index. this cohort study found that prenatal exposure to inorganic arsenic and coexposure to inorganic arsenic and cadmium were associated with a higher risk of atopic dermatitis in young children. these findings suggest that prevention of exposure to inorganic arsenic and cadmium during pregnancy may be helpful for the control of atopic dermatitis and other potential allergies in children.',\n",
       " 'contact allergy prevalence rates change over time as a result of variations in allergen exposure. data from patch test clinics are often used as markers for allergy trends. the aim of the present retrospective study was to describe trends in rates of sensitization to allergens in the swedish baseline series. prevalence rates are described by comparing consecutive patch test data from 1992, 2000 and 2009 in swedish patch test clinics. in total, 3680 patients were included in 1992, 3825 in 2000, and 3112 in 2009. among test substances with a sensitization rate above 2% in 2009, significant decreases were noted for nickel sulfate, cobalt chloride, colophonium, and methylchloroisothiazolinone (mci)/methylisothiazolinone (mi), and a significant increase for p-phenylenediamine, as compared with 1992. potassium dichromate reactions had increased among younger women, whereas reactions to nickel and cobalt had decreased in this group. sensitization to chromium, cobalt and fragrance mix i had decreased among older men, and sensitization to nickel had decreased among younger men. it is probable that these changes in 1992-2009 reflect both changes in regulations for nickel, lower levels of chromium in cement and of mci/mi in cosmetics, and increasing use of hair dyes. contact allergy; contact dermatitis; epidemiology; patch testing; prevalence; trends.',\n",
       " 'dry and eczema-prone skin conditions such as atopic dermatitis and xerotic eczema primarily indicate an impaired skin barrier function, which leads to chronic pruritus. here, we investigated the effects of a novel emollient containing h.ecm liposome, which contains a soluble proteoglycan in combination with hydrolyzed collagen and hyaluronic acid. a prospective, single-arm study was conducted on 25 participants with mild atopic dermatitis or dry skin to assess the hydration and anti-inflammatory effect of the novel emollient applied daily over four weeks. all efficacy parameters, including itching severity, transepidermal water loss, and skin hydration, improved significantly after four weeks. the in vitro and ex vivo studies confirmed the restoration of the skins barrier function. the study revealed the clinical and laboratory efficacy of h.ecm liposome in reducing itching and improving the skins barrier integrity. thus, the use of h.ecm liposome can be considered a therapeutic option for dry and eczema-prone skin. dry skin; eczema; hydration; liposome; proteoglycan; skin barrier.',\n",
       " 'many contributing factors are involved in the development of equine pastern dermatitis (epd). among the most frequently suspected is staphylococcus aureus, known for its pathogenic potential in skin and soft tissue infections. we therefore investigated the association between s. aureus carriage and epd. one hundred five epd-affected horses and 95 unaffected controls were examined for the presence of methicillin-resistant and -susceptible staphylococcus aureus (mrsa and mssa) on the pastern skin and in the nostrils. s. aureus isolates were cultivated from swab samples on selective mssa and mrsa chromogenic agar and identified using maldi-tof ms. isolates were analysed by illumina whole genome sequencing for genetic relatedness (cgmlst, spa typing), and for the presence of antimicrobial resistance and virulence determinants. a markedly higher proportion of samples from epd-affected horses proved positive for s. aureus, both from the pastern (59.0 % vs. 6.3 % in unaffected horses; p<0.001), and from the nose (59.0 % vs. 8.4 %; p<0.001). isolates belonged to 20 sequence types (st) with lineages st15-t084 (spa) (18 %), st1-t127 (13 %), and st1-t1508 (12 %) being predominant. eight s. aureus were mrsa st398-t011 and st6239-t1456, and contained the staphylococcal cassette chromosome sccmeciva. antimicrobial resistance genes were almost equally frequent in pastern and in nasal samples, whereas some virulence factors such as the beta-hemolysin, esat-6 secretion system, and some enterotoxins were more abundant in isolates from pastern samples, possibly enhancing their pathogenic potential. the markedly higher prevalence of s. aureus containing specific virulence factors in affected skin suggests their contribution in the development and course of epd. antimicrobial resistance; dermatology; equine pastern dermatitis; frequency; genotyping; staphylococcus aureus; virulence factors; wgs.']"
      ]
     },
     "execution_count": 60,
     "metadata": {},
     "output_type": "execute_result"
    }
   ],
   "source": [
    "cleaner_txt_list = []\n",
    "for txt in txt_list:\n",
    "  cleaner_txt_list.append(depure_data(txt))\n",
    "\n",
    "cleaner_txt_list\n"
   ]
  },
  {
   "cell_type": "markdown",
   "metadata": {
    "id": "664D1XFwgaf1"
   },
   "source": [
    "**Results**"
   ]
  },
  {
   "cell_type": "markdown",
   "metadata": {
    "id": "7QR5gHF3Um3H"
   },
   "source": [
    "The first three texts should be 0-scored. The fourth has '2' score, the fifth should be 0-scored as well. Why so many zeros? Let's see what keywords they have."
   ]
  },
  {
   "cell_type": "code",
   "execution_count": null,
   "metadata": {
    "colab": {
     "base_uri": "https://localhost:8080/"
    },
    "id": "rWELy-ftTGKx",
    "outputId": "07a277b0-c8c1-45bf-a0f5-1067af0c102e"
   },
   "outputs": [
    {
     "data": {
      "text/plain": [
       "3766      Cobalt\n",
       "792      Arsenic\n",
       "3043    Chromium\n",
       "3861    Collagen\n",
       "302         Agar\n",
       "Name: query, dtype: object"
      ]
     },
     "execution_count": 52,
     "metadata": {},
     "output_type": "execute_result"
    }
   ],
   "source": [
    "bot_data.loc[[3766,  792, 3043, 3861,  302], 'query']"
   ]
  },
  {
   "cell_type": "markdown",
   "metadata": {
    "id": "4d6apwsgXT6y"
   },
   "source": [
    "We included metals in the list of natural remedies, because they could lead to defficiencies (and can be remedies). But they can cause poisoning as well. Arsenic is also used as medicine. It is included in this [list of natural medicines](https://naturalmedicines.therapeuticresearch.com/databases/food,-herbs-supplements.aspx?letter=A). \n",
    "\n",
    "So, we have an the intresting case of the old saying \"The dose makes the poison\"."
   ]
  },
  {
   "cell_type": "markdown",
   "metadata": {
    "id": "rlP4ekMRZRbN"
   },
   "source": [
    "We found Agar in the last text, in the context: \"S. aureus isolates were cultivated from swab samples on selective MSSA and MRSA chromogenic agar(...)\". So, it has no connection to the health problem."
   ]
  },
  {
   "cell_type": "markdown",
   "metadata": {
    "id": "-CKmPrHjgpNc"
   },
   "source": [
    "**But will our best model recognize the lack of connection we saw above?**"
   ]
  },
  {
   "cell_type": "markdown",
   "metadata": {
    "id": "7E2osRQVg1I0"
   },
   "source": [
    "Let's load it first."
   ]
  },
  {
   "cell_type": "code",
   "execution_count": 87,
   "metadata": {
    "colab": {
     "base_uri": "https://localhost:8080/"
    },
    "id": "PcqHYJ2-7VCU",
    "outputId": "3ec104d2-fdf4-4eec-e60b-dfaad7d39a36"
   },
   "outputs": [
    {
     "name": "stdout",
     "output_type": "stream",
     "text": [
      "Model: \"model_2\"\n",
      "__________________________________________________________________________________________________\n",
      " Layer (type)                   Output Shape         Param #     Connected to                     \n",
      "==================================================================================================\n",
      " text (InputLayer)              [(None,)]            0           []                               \n",
      "                                                                                                  \n",
      " preprocessing (KerasLayer)     {'input_mask': (Non  0           ['text[0][0]']                   \n",
      "                                e, 128),                                                          \n",
      "                                 'input_word_ids':                                                \n",
      "                                (None, 128),                                                      \n",
      "                                 'input_type_ids':                                                \n",
      "                                (None, 128)}                                                      \n",
      "                                                                                                  \n",
      " BERT_encoder (KerasLayer)      {'encoder_outputs':  109482241   ['preprocessing[0][0]',          \n",
      "                                 [(None, 128, 768),               'preprocessing[0][1]',          \n",
      "                                 (None, 128, 768),                'preprocessing[0][2]']          \n",
      "                                 (None, 128, 768),                                                \n",
      "                                 (None, 128, 768),                                                \n",
      "                                 (None, 128, 768),                                                \n",
      "                                 (None, 128, 768),                                                \n",
      "                                 (None, 128, 768),                                                \n",
      "                                 (None, 128, 768),                                                \n",
      "                                 (None, 128, 768),                                                \n",
      "                                 (None, 128, 768),                                                \n",
      "                                 (None, 128, 768),                                                \n",
      "                                 (None, 128, 768)],                                               \n",
      "                                 'sequence_output':                                               \n",
      "                                 (None, 128, 768),                                                \n",
      "                                 'pooled_output': (                                               \n",
      "                                None, 768),                                                       \n",
      "                                 'default': (None,                                                \n",
      "                                768)}                                                             \n",
      "                                                                                                  \n",
      " dropout_2 (Dropout)            (None, 768)          0           ['BERT_encoder[0][13]']          \n",
      "                                                                                                  \n",
      " classifier (Dense)             (None, 3)            2307        ['dropout_2[0][0]']              \n",
      "                                                                                                  \n",
      "==================================================================================================\n",
      "Total params: 109,484,548\n",
      "Trainable params: 109,484,547\n",
      "Non-trainable params: 1\n",
      "__________________________________________________________________________________________________\n",
      "1/1 - 4s - loss: 1.5210 - accuracy: 0.3750 - 4s/epoch - 4s/step\n",
      "Untrained model, accuracy: 37.50%\n"
     ]
    }
   ],
   "source": [
    "model_new = build_classifier_model_3()\n",
    "\n",
    "# Check whether it works as an empty architecture firts\n",
    "loss, acc = model_new.evaluate(test_group['text'].values, y_test, verbose=2)\n",
    "print(\"Untrained model, accuracy: {:5.2f}%\".format(100 * acc))"
   ]
  },
  {
   "cell_type": "markdown",
   "metadata": {
    "id": "woUNhY_F7VCa"
   },
   "source": [
    "The empty model initially has 0.375 accuracy."
   ]
  },
  {
   "cell_type": "code",
   "execution_count": 93,
   "metadata": {
    "colab": {
     "base_uri": "https://localhost:8080/"
    },
    "id": "Wu-nAhsxmB2s",
    "outputId": "d08afecc-9d22-4086-e0bc-01b3353688a7"
   },
   "outputs": [
    {
     "name": "stdout",
     "output_type": "stream",
     "text": [
      "/content/gdrive/MyDrive\n"
     ]
    }
   ],
   "source": [
    "%cd /content/gdrive/MyDrive"
   ]
  },
  {
   "cell_type": "code",
   "execution_count": 95,
   "metadata": {
    "colab": {
     "base_uri": "https://localhost:8080/"
    },
    "id": "p_sczAor7VCa",
    "outputId": "9c827687-69ce-4b60-feaf-8dc4d510fa5c"
   },
   "outputs": [
    {
     "name": "stdout",
     "output_type": "stream",
     "text": [
      "1/1 - 0s - loss: 0.6654 - accuracy: 0.8750 - 164ms/epoch - 164ms/step\n",
      "Restored model, accuracy: 87.50%\n"
     ]
    }
   ],
   "source": [
    "# Loads the weights\n",
    "# model_new.load_weights('training_3/cp.ckpt')\n",
    "model_new.load_weights('training_3/cp.ckpt')\n",
    "\n",
    "# Re-evaluate the model\n",
    "loss, acc = model_new.evaluate(test_group['text'].values, y_test, verbose=2)\n",
    "print(\"Restored model, accuracy: {:5.2f}%\".format(100 * acc))"
   ]
  },
  {
   "cell_type": "markdown",
   "metadata": {
    "id": "GjgxJOMx6FBZ"
   },
   "source": [
    "The expected result! Our model works. So, let's see how the model will score the texts. "
   ]
  },
  {
   "cell_type": "code",
   "execution_count": 96,
   "metadata": {
    "colab": {
     "base_uri": "https://localhost:8080/"
    },
    "id": "odqFw9rJmrFP",
    "outputId": "77d4fe16-a2f5-4781-dc43-0785ef5fa93b"
   },
   "outputs": [
    {
     "data": {
      "text/plain": [
       "array([[0.49589503, 0.26751927, 0.23658568],\n",
       "       [0.0986938 , 0.62093425, 0.280372  ],\n",
       "       [0.2009237 , 0.71399945, 0.08507685],\n",
       "       [0.31470627, 0.48864746, 0.19664626],\n",
       "       [0.4999839 , 0.29321054, 0.20680557]], dtype=float32)"
      ]
     },
     "execution_count": 96,
     "metadata": {},
     "output_type": "execute_result"
    }
   ],
   "source": [
    "model_new.predict(cleaner_txt_list)"
   ]
  },
  {
   "cell_type": "markdown",
   "metadata": {
    "id": "WWeC8Oh8nA7U"
   },
   "source": [
    "We have 0, 1, 1, 1, 0 (the right answer: 0, 0, 0, 2, 0). The model has 2 correct scores out of 5.\n",
    "\n",
    "BUT!\n",
    "\n",
    "We noticed something! While constructing the spider, we didn't scrape the h elements (the subtitles). That means - we don't have the word 'conclusion/s' in our texts. \n",
    "\n",
    "We will remind you that we used the conclusions of the abstracts (and the keywords after them) during the training of the models. Only if there was no conclusion part, we used the whole abstract.\n",
    "\n",
    "So, we have a solution. The different parts of texts, scraped by the spider, are separated by 5 times '\\n'. We are going to split them and use the last fragment or if in the last fragment we find ';' (which probably means that the text has keywords at the end) we are going to take the last two fragments.\n",
    "\n",
    "Let's check out the results."
   ]
  },
  {
   "cell_type": "code",
   "execution_count": 115,
   "metadata": {
    "colab": {
     "base_uri": "https://localhost:8080/"
    },
    "id": "9eg1udw3pPC4",
    "outputId": "b3061e07-3a72-40d8-c9b4-0d79ad293b64"
   },
   "outputs": [
    {
     "name": "stdout",
     "output_type": "stream",
     "text": [
      "5\n"
     ]
    }
   ],
   "source": [
    "#We are taking out the last part/s\n",
    "lst = []\n",
    "for txt in txt_list:\n",
    "  if '\\n     \\n      \\n         \\n      \\n' in txt:\n",
    "    txt = txt.split('\\n     \\n      \\n         \\n      \\n')\n",
    "    if ';' in txt[-1]:\n",
    "      # lst.append(txt[-2:])\n",
    "      txt = txt[-2:]\n",
    "      tx = ', '.join(txt)\n",
    "      tx = depure_data(tx)\n",
    "      tx = tx.strip()\n",
    "      lst.append(tx)\n",
    "    else:\n",
    "      tx = txt[-1][0]\n",
    "      tx = depure_data(tx)\n",
    "      tx = tx.strip()\n",
    "      lst.append(tx)\n",
    "  else:\n",
    "    lst.append(txt)\n",
    "  # for ls in lst:\n",
    "  # if ls == '':\n",
    "  #   lst.remove(ls)\n",
    "print(len(lst))"
   ]
  },
  {
   "cell_type": "code",
   "execution_count": 116,
   "metadata": {
    "colab": {
     "base_uri": "https://localhost:8080/"
    },
    "id": "l6UNxdoMs68z",
    "outputId": "3bf7b73b-d0ff-4f14-d8e9-83256bf68eef"
   },
   "outputs": [
    {
     "data": {
      "text/plain": [
       "array([[0.9757751 , 0.0117159 , 0.01250899],\n",
       "       [0.67351687, 0.1346261 , 0.19185708],\n",
       "       [0.5496017 , 0.36461586, 0.08578251],\n",
       "       [0.31470627, 0.48864746, 0.19664626],\n",
       "       [0.98735785, 0.00805778, 0.00458442]], dtype=float32)"
      ]
     },
     "execution_count": 116,
     "metadata": {},
     "output_type": "execute_result"
    }
   ],
   "source": [
    "model_new.predict(lst)"
   ]
  },
  {
   "cell_type": "markdown",
   "metadata": {
    "id": "H4WsEwSYvZSI"
   },
   "source": [
    "So the results now are:\n",
    "0, 0, 0, 1, 0 (the right answer: 0, 0, 0, 2, 0). We have 4 out of 5 correct predictions. The model works very well. \n",
    "\n",
    "It is more difficult for the model to distinguish the 2-scored texts. We already saw the same flaw in our LSTM.\n",
    "\n",
    "How can we improve it? We should feed it with more 2-scored texts for sure.  \n",
    "\n"
   ]
  }
 ],
 "metadata": {
  "accelerator": "GPU",
  "colab": {
   "provenance": []
  },
  "gpuClass": "standard",
  "kernelspec": {
   "display_name": "Python 3 (ipykernel)",
   "language": "python",
   "name": "python3"
  },
  "language_info": {
   "codemirror_mode": {
    "name": "ipython",
    "version": 3
   },
   "file_extension": ".py",
   "mimetype": "text/x-python",
   "name": "python",
   "nbconvert_exporter": "python",
   "pygments_lexer": "ipython3",
   "version": "3.9.12"
  }
 },
 "nbformat": 4,
 "nbformat_minor": 4
}
