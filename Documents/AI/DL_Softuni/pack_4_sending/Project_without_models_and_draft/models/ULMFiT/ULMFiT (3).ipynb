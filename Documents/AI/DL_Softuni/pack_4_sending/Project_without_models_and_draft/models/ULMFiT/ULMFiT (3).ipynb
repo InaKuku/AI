{
 "cells": [
  {
   "cell_type": "code",
   "execution_count": 3,
   "metadata": {
    "id": "OuDPDnpGq4Od"
   },
   "outputs": [],
   "source": [
    "import fastai\n",
    "from fastai.text import *\n",
    "import pandas as pd\n",
    "import numpy as np\n",
    "# import fastbook\n",
    "from fastai.vision.core import *\n",
    "from fastai.vision.data import *\n",
    "from fastai.data.block import DataBlock, RandomSplitter, ColReader\n",
    "from fastai.text.all import *\n",
    "from fastai.text.data import TextBlock\n",
    "from fastai.vision import *\n",
    "from fastai.text.learner import text_classifier_learner, language_model_learner\n",
    "from fastai.metrics import accuracy\n",
    "\n"
   ]
  },
  {
   "cell_type": "code",
   "execution_count": 4,
   "metadata": {
    "colab": {
     "base_uri": "https://localhost:8080/"
    },
    "id": "CGBWs8Z76ppb",
    "outputId": "de1d95f6-7955-40f8-d815-6f4f9b2156be"
   },
   "outputs": [
    {
     "name": "stdout",
     "output_type": "stream",
     "text": [
      "Mounted at /content/gdrive\n"
     ]
    }
   ],
   "source": [
    "from google.colab import drive\n",
    "drive.mount('/content/gdrive')"
   ]
  },
  {
   "cell_type": "markdown",
   "metadata": {
    "id": "92VlY5aB7Mlv"
   },
   "source": [
    "# Universal Language Model Fine-tuning for Text Classification (ULMFiT)"
   ]
  },
  {
   "cell_type": "markdown",
   "metadata": {
    "id": "RMOtC8cLGguj"
   },
   "source": [
    "Universal Language Model Fine-tuning for Text Classification (ULMFiT) is a transfer learning method that can be applied to\n",
    "any task in NLP. \n",
    "It was created by Jeremy Howard and Sebastian Ruder and made public in 2018 - with the article [Universal Language Model Fine-tuning for Text Classification](https://arxiv.org/pdf/1801.06146v5.pdf)"
   ]
  },
  {
   "cell_type": "markdown",
   "metadata": {
    "id": "UulYnieLl4Jn"
   },
   "source": [
    "## Main elements"
   ]
  },
  {
   "cell_type": "markdown",
   "metadata": {
    "id": "3QI5D-nFH20P"
   },
   "source": [
    "The model consists of three main elements and several advantages:\n",
    "1. General-domain Language Model Pretraining - the model is pre-trained on Wikitext-103 (with 28,595 preprocessed Wikipedia articles and 103 million words). This allows even small datasets to achieve generalization and bring good results.\n",
    "\n",
    "2. Target task Language Model fine-tuning - the model adapts to the specifics of the target data fast and easily, due to the discriminative fine-tuning of the model and slanted triangular learning rates. \n",
    "\n",
    "\n",
    "> *   Discriminative fine-tuning - since different layers\n",
    "capture different types of information, they should be fine-tuned to different extents. Therefore, each layer is tuned with different learning\n",
    "rates. The regular stochastic gradient\n",
    "descent update of a model’s parameters θ at\n",
    "time step t is $θ_t = θ_{t−1} − η · ∇_θJ(θ)$.\n",
    "> The parameters θ is split here into ${θ^1\n",
    ", . . . , θ^L}$ where $θ^l$\n",
    "contains\n",
    "the parameters of the model at the l-th layer and\n",
    "L is the number of layers of the model. The learning rate is defined in the same way ${η^1\n",
    ", . . . , η^L}$ where $η^l$ is the learning\n",
    "rate of the l-th layer.\n",
    "The SGD update with discriminative finetuning is then the following: $θ_t^l = θ_{t-1}^l − η^l· ∇_{θ^l}J(θ)$\n",
    "The authors claim that they empirically found it to work well to first choose the learning rate $η^L$ of the last layer by\n",
    "fine-tuning only the last layer and using $η^{l−1} =\n",
    "η^l/2.6$ as the learning rate for lower layers.\n",
    "\n",
    "\n",
    "\n",
    "> * The Slanted triangular learning rates first linearly and quickly increases the learning rate and then linearly and slowly decays it. \n",
    "\n",
    "\n",
    "3. Target task classifier fine-tuning - each block here uses batch normalization and dropout, with ReLU activations for the intermediate layer and a softmax activation that outputs a probability distribution over target classes at the last layer. The parameters in these task-specific classifier layers are the only ones that are learned from\n",
    "scratch. The first linear layer takes as the input the\n",
    "pooled last hidden layer states."
   ]
  },
  {
   "cell_type": "markdown",
   "metadata": {
    "id": "nhGIEjPbmL8J"
   },
   "source": [
    "##Other advantages"
   ]
  },
  {
   "cell_type": "markdown",
   "metadata": {
    "id": "ghCLtGuGmOoK"
   },
   "source": [
    "Concat pooling: The signal in text classification\n",
    "tasks often can be found only in a few words, which may occur anywhere in the document. As input documents can consist of hundreds of words, information may get lost if only the last hidden state of the model is considered. For this reason, the hidden state at the last time step is concatenated with both the max-pooled and the\n",
    "mean-pooled representation of the hidden states.\n",
    "\n",
    "\n",
    "Gradual unfreezing: The authors recommend gradually unfreezing the model starting from the last layer as this contains the least\n",
    "general knowledge. After unfreezing the last layer and fine-tuning all unfrozen layers for one epoch, then comes the next unfreezing of a layer and so on, until we finetune all layers until convergence at the last iteration.\n",
    "\n",
    "Backpropagation through time (BPTT) - it is used in order for this model to be useful for large documents (with large input sequences). The documents are divided into fixed-length batches of specific sizes. At the beginning of each\n",
    "batch, the model is initialized with the final state\n",
    "of the previous batch; but the hidden states for mean and max-pooling are also tracked. So, gradients are back-propagated to the batches whose hidden states contributed to the final prediction.\n"
   ]
  },
  {
   "cell_type": "markdown",
   "metadata": {
    "id": "VqMEk9hrmXFp"
   },
   "source": [
    "## Results"
   ]
  },
  {
   "cell_type": "markdown",
   "metadata": {
    "id": "Z07Bf2EEmUVq"
   },
   "source": [
    "The experiments with IMDb dataset (for Sentiment Analysis), TREC dataset (for Question Classification), AG news and DBpedia\n",
    "ontology datasets (for Topic classification) prove that this model outperforms other models that do not contain or contain only part of the specifics of this model.  "
   ]
  },
  {
   "cell_type": "markdown",
   "metadata": {
    "id": "yY3lEIDRmh1b"
   },
   "source": [
    "##Implementation"
   ]
  },
  {
   "cell_type": "markdown",
   "metadata": {
    "id": "Yl3dnek77klc"
   },
   "source": [
    "In order to test ULMFiT we are going to use a dataset of 31 abstracts or conclusions from [Pubmed](https://pubmed.ncbi.nlm.nih.gov/) scientific articles. \n",
    "\n",
    "Base for the code of this work: \n",
    "\n",
    "[Fastai Documentation](https://docs.fast.ai/)\n",
    "\n",
    "[Predicting Medical Specialities from Transcripts: A Complete Walkthrough using ULMFiT](https://towardsdatascience.com/predicting-medical-specialities-from-transcripts-a-complete-walkthrough-using-ulmfit-b8a075777723)\n",
    "\n",
    "[Using FastAI’s ULMFiT to make a state-of-the-art multi-class text classifier](https://medium.com/technonerds/using-fastais-ulmfit-to-make-a-state-of-the-art-multi-label-text-classifier-bf54e2943e83)"
   ]
  },
  {
   "cell_type": "code",
   "execution_count": 5,
   "metadata": {
    "id": "7VR01dFX7pxH"
   },
   "outputs": [],
   "source": [
    "texts = pd.read_csv('abstract_or_conclusions.csv')\n"
   ]
  },
  {
   "cell_type": "code",
   "execution_count": 6,
   "metadata": {
    "colab": {
     "base_uri": "https://localhost:8080/",
     "height": 1000
    },
    "id": "4fRaTHFW8SK2",
    "outputId": "632304f3-3001-45c5-892d-be631d747038"
   },
   "outputs": [
    {
     "data": {
      "text/html": [
       "\n",
       "  <div id=\"df-34c2ac9c-0341-4589-bdf2-f6e9f7ac2ca3\">\n",
       "    <div class=\"colab-df-container\">\n",
       "      <div>\n",
       "<style scoped>\n",
       "    .dataframe tbody tr th:only-of-type {\n",
       "        vertical-align: middle;\n",
       "    }\n",
       "\n",
       "    .dataframe tbody tr th {\n",
       "        vertical-align: top;\n",
       "    }\n",
       "\n",
       "    .dataframe thead th {\n",
       "        text-align: right;\n",
       "    }\n",
       "</style>\n",
       "<table border=\"1\" class=\"dataframe\">\n",
       "  <thead>\n",
       "    <tr style=\"text-align: right;\">\n",
       "      <th></th>\n",
       "      <th>text</th>\n",
       "      <th>title</th>\n",
       "      <th>score</th>\n",
       "      <th>illness</th>\n",
       "      <th>health_substance</th>\n",
       "      <th>url</th>\n",
       "    </tr>\n",
       "  </thead>\n",
       "  <tbody>\n",
       "    <tr>\n",
       "      <th>0</th>\n",
       "      <td>Conclusion: While there is conflicting evidence about the benefits of omega-3 fatty acid supplementation on SLE disease activity, specific measures have demonstrated benefits. Current data show that there is a potential benefit on disease activity as demonstrated by SLAM-R, Systemic Lupus Erythematosus Disease Activity Index (SLEDAI), and British Isles Lupus Assessment Group (BILAG) scores and plasma membrane arachidonic acid composition and urinary 8-isoprostane levels, with minimal adverse events.   Keywords: Systemic lupus erythematosus; fish oil; omega-3 fatty acids.</td>\n",
       "      <td>The effect of Omega-3 fatty acid supplementation in systemic lupus erythematosus patients: A systematic review</td>\n",
       "      <td>1</td>\n",
       "      <td>lupus erythematosus, sle</td>\n",
       "      <td>omega-3</td>\n",
       "      <td>https://pubmed.ncbi.nlm.nih.gov/35023407/</td>\n",
       "    </tr>\n",
       "    <tr>\n",
       "      <th>1</th>\n",
       "      <td>Conclusion: Resveratrol possesses protective effects in pristane-induced lupus mice and may represent a novel approach for the management of SLE.</td>\n",
       "      <td>Resveratrol possesses protective effects in a pristane-induced lupus mouse model</td>\n",
       "      <td>2</td>\n",
       "      <td>lupus erythematosus, sle</td>\n",
       "      <td>resveratrol</td>\n",
       "      <td>https://pubmed.ncbi.nlm.nih.gov/25501752/</td>\n",
       "    </tr>\n",
       "    <tr>\n",
       "      <th>2</th>\n",
       "      <td>Abstract Nettle root is recommended for complaints associated with benign prostatic hyperplasia (BPH). We therefore conducted a comprehensive review of the literature to summarise the pharmacological and clinical effects of this plant material. Only a few components of the active principle have been identified and the mechanism of action is still unclear. It seems likely that sex hormone binding globulin (SHBG), aromatase, epidermal growth factor and prostate steroid membrane receptors are involved in the anti-prostatic effect, but less likely that 5alpha-reductase or androgen receptors ar...</td>\n",
       "      <td>A comprehensive review on the stinging nettle effect and efficacy profiles. Part II: urticae radix</td>\n",
       "      <td>2</td>\n",
       "      <td>benign prostatic hyperplasia, bph</td>\n",
       "      <td>stinging nettle</td>\n",
       "      <td>https://pubmed.ncbi.nlm.nih.gov/17509841/</td>\n",
       "    </tr>\n",
       "    <tr>\n",
       "      <th>3</th>\n",
       "      <td>Abstract For decades, the focus of managing autoimmune hypothyroidism has been on thyroxine replacement. Correcting lab parameters such as thyroid stimulating hormone (TSH) has been a primary goal. The increasing prevalence of Hashimoto’s thyroiditis (HT) continues to impact the quality of life in patients. We believe a holistic approach to this disease entity, considering its underlying complex etiopathogenesis, would benefit patients. Nutraceuticals are combinations of essential nutrients and are becoming a part of novel medical treatments despite the lack of regulation. This review aims...</td>\n",
       "      <td>Minerals: An Untapped Remedy for Autoimmune Hypothyroidism?</td>\n",
       "      <td>1</td>\n",
       "      <td>hashimoto’s thyroiditis, ht, hypothyroidism</td>\n",
       "      <td>minerals, zinc, selenium, magnesium, iron</td>\n",
       "      <td>https://www.ncbi.nlm.nih.gov/pmc/articles/PMC7574993/</td>\n",
       "    </tr>\n",
       "    <tr>\n",
       "      <th>4</th>\n",
       "      <td>Abstract Background: Hashimoto's thyroiditis (HT) is a common autoimmune disease characterized by high levels of thyroid peroxidase antibody (TPOAb) and thyroid globulin antibody (TgAb) as well as infiltration of lymphocytes in thyroid. In recent years, metformin has been proven to be effective in a variety of autoimmune diseases, such as systemic lupus erythematosus, rheumatoid arthritis and multiple sclerosis.\\n\\nMethods: This study systematically explored the therapeutic effect of metformin on HT and its underlying mechanism by comprehensively utilizing methods including animal model, i...</td>\n",
       "      <td>Metformin Reverses Hashimoto’s Thyroiditis by Regulating Key Immune Events</td>\n",
       "      <td>2</td>\n",
       "      <td>hashimoto’s thyroiditis, ht, hypothyroidism</td>\n",
       "      <td>metformin</td>\n",
       "      <td>https://www.ncbi.nlm.nih.gov/pmc/articles/PMC8193849/</td>\n",
       "    </tr>\n",
       "  </tbody>\n",
       "</table>\n",
       "</div>\n",
       "      <button class=\"colab-df-convert\" onclick=\"convertToInteractive('df-34c2ac9c-0341-4589-bdf2-f6e9f7ac2ca3')\"\n",
       "              title=\"Convert this dataframe to an interactive table.\"\n",
       "              style=\"display:none;\">\n",
       "        \n",
       "  <svg xmlns=\"http://www.w3.org/2000/svg\" height=\"24px\"viewBox=\"0 0 24 24\"\n",
       "       width=\"24px\">\n",
       "    <path d=\"M0 0h24v24H0V0z\" fill=\"none\"/>\n",
       "    <path d=\"M18.56 5.44l.94 2.06.94-2.06 2.06-.94-2.06-.94-.94-2.06-.94 2.06-2.06.94zm-11 1L8.5 8.5l.94-2.06 2.06-.94-2.06-.94L8.5 2.5l-.94 2.06-2.06.94zm10 10l.94 2.06.94-2.06 2.06-.94-2.06-.94-.94-2.06-.94 2.06-2.06.94z\"/><path d=\"M17.41 7.96l-1.37-1.37c-.4-.4-.92-.59-1.43-.59-.52 0-1.04.2-1.43.59L10.3 9.45l-7.72 7.72c-.78.78-.78 2.05 0 2.83L4 21.41c.39.39.9.59 1.41.59.51 0 1.02-.2 1.41-.59l7.78-7.78 2.81-2.81c.8-.78.8-2.07 0-2.86zM5.41 20L4 18.59l7.72-7.72 1.47 1.35L5.41 20z\"/>\n",
       "  </svg>\n",
       "      </button>\n",
       "      \n",
       "  <style>\n",
       "    .colab-df-container {\n",
       "      display:flex;\n",
       "      flex-wrap:wrap;\n",
       "      gap: 12px;\n",
       "    }\n",
       "\n",
       "    .colab-df-convert {\n",
       "      background-color: #E8F0FE;\n",
       "      border: none;\n",
       "      border-radius: 50%;\n",
       "      cursor: pointer;\n",
       "      display: none;\n",
       "      fill: #1967D2;\n",
       "      height: 32px;\n",
       "      padding: 0 0 0 0;\n",
       "      width: 32px;\n",
       "    }\n",
       "\n",
       "    .colab-df-convert:hover {\n",
       "      background-color: #E2EBFA;\n",
       "      box-shadow: 0px 1px 2px rgba(60, 64, 67, 0.3), 0px 1px 3px 1px rgba(60, 64, 67, 0.15);\n",
       "      fill: #174EA6;\n",
       "    }\n",
       "\n",
       "    [theme=dark] .colab-df-convert {\n",
       "      background-color: #3B4455;\n",
       "      fill: #D2E3FC;\n",
       "    }\n",
       "\n",
       "    [theme=dark] .colab-df-convert:hover {\n",
       "      background-color: #434B5C;\n",
       "      box-shadow: 0px 1px 3px 1px rgba(0, 0, 0, 0.15);\n",
       "      filter: drop-shadow(0px 1px 2px rgba(0, 0, 0, 0.3));\n",
       "      fill: #FFFFFF;\n",
       "    }\n",
       "  </style>\n",
       "\n",
       "      <script>\n",
       "        const buttonEl =\n",
       "          document.querySelector('#df-34c2ac9c-0341-4589-bdf2-f6e9f7ac2ca3 button.colab-df-convert');\n",
       "        buttonEl.style.display =\n",
       "          google.colab.kernel.accessAllowed ? 'block' : 'none';\n",
       "\n",
       "        async function convertToInteractive(key) {\n",
       "          const element = document.querySelector('#df-34c2ac9c-0341-4589-bdf2-f6e9f7ac2ca3');\n",
       "          const dataTable =\n",
       "            await google.colab.kernel.invokeFunction('convertToInteractive',\n",
       "                                                     [key], {});\n",
       "          if (!dataTable) return;\n",
       "\n",
       "          const docLinkHtml = 'Like what you see? Visit the ' +\n",
       "            '<a target=\"_blank\" href=https://colab.research.google.com/notebooks/data_table.ipynb>data table notebook</a>'\n",
       "            + ' to learn more about interactive tables.';\n",
       "          element.innerHTML = '';\n",
       "          dataTable['output_type'] = 'display_data';\n",
       "          await google.colab.output.renderOutput(dataTable, element);\n",
       "          const docLink = document.createElement('div');\n",
       "          docLink.innerHTML = docLinkHtml;\n",
       "          element.appendChild(docLink);\n",
       "        }\n",
       "      </script>\n",
       "    </div>\n",
       "  </div>\n",
       "  "
      ],
      "text/plain": [
       "                                                                                                                                                                                                                                                                                                                                                                                                                                                                                                                                                                                                                      text  \\\n",
       "0                        Conclusion: While there is conflicting evidence about the benefits of omega-3 fatty acid supplementation on SLE disease activity, specific measures have demonstrated benefits. Current data show that there is a potential benefit on disease activity as demonstrated by SLAM-R, Systemic Lupus Erythematosus Disease Activity Index (SLEDAI), and British Isles Lupus Assessment Group (BILAG) scores and plasma membrane arachidonic acid composition and urinary 8-isoprostane levels, with minimal adverse events.   Keywords: Systemic lupus erythematosus; fish oil; omega-3 fatty acids.   \n",
       "1                                                                                                                                                                                                                                                                                                                                                                                                                                                                        Conclusion: Resveratrol possesses protective effects in pristane-induced lupus mice and may represent a novel approach for the management of SLE.   \n",
       "2  Abstract Nettle root is recommended for complaints associated with benign prostatic hyperplasia (BPH). We therefore conducted a comprehensive review of the literature to summarise the pharmacological and clinical effects of this plant material. Only a few components of the active principle have been identified and the mechanism of action is still unclear. It seems likely that sex hormone binding globulin (SHBG), aromatase, epidermal growth factor and prostate steroid membrane receptors are involved in the anti-prostatic effect, but less likely that 5alpha-reductase or androgen receptors ar...   \n",
       "3  Abstract For decades, the focus of managing autoimmune hypothyroidism has been on thyroxine replacement. Correcting lab parameters such as thyroid stimulating hormone (TSH) has been a primary goal. The increasing prevalence of Hashimoto’s thyroiditis (HT) continues to impact the quality of life in patients. We believe a holistic approach to this disease entity, considering its underlying complex etiopathogenesis, would benefit patients. Nutraceuticals are combinations of essential nutrients and are becoming a part of novel medical treatments despite the lack of regulation. This review aims...   \n",
       "4  Abstract Background: Hashimoto's thyroiditis (HT) is a common autoimmune disease characterized by high levels of thyroid peroxidase antibody (TPOAb) and thyroid globulin antibody (TgAb) as well as infiltration of lymphocytes in thyroid. In recent years, metformin has been proven to be effective in a variety of autoimmune diseases, such as systemic lupus erythematosus, rheumatoid arthritis and multiple sclerosis.\\n\\nMethods: This study systematically explored the therapeutic effect of metformin on HT and its underlying mechanism by comprehensively utilizing methods including animal model, i...   \n",
       "\n",
       "                                                                                                            title  \\\n",
       "0  The effect of Omega-3 fatty acid supplementation in systemic lupus erythematosus patients: A systematic review   \n",
       "1                                Resveratrol possesses protective effects in a pristane-induced lupus mouse model   \n",
       "2              A comprehensive review on the stinging nettle effect and efficacy profiles. Part II: urticae radix   \n",
       "3                                                     Minerals: An Untapped Remedy for Autoimmune Hypothyroidism?   \n",
       "4                                      Metformin Reverses Hashimoto’s Thyroiditis by Regulating Key Immune Events   \n",
       "\n",
       "   score                                      illness  \\\n",
       "0      1                     lupus erythematosus, sle   \n",
       "1      2                     lupus erythematosus, sle   \n",
       "2      2            benign prostatic hyperplasia, bph   \n",
       "3      1  hashimoto’s thyroiditis, ht, hypothyroidism   \n",
       "4      2  hashimoto’s thyroiditis, ht, hypothyroidism   \n",
       "\n",
       "                            health_substance  \\\n",
       "0                                    omega-3   \n",
       "1                                resveratrol   \n",
       "2                            stinging nettle   \n",
       "3  minerals, zinc, selenium, magnesium, iron   \n",
       "4                                  metformin   \n",
       "\n",
       "                                                     url  \n",
       "0              https://pubmed.ncbi.nlm.nih.gov/35023407/  \n",
       "1              https://pubmed.ncbi.nlm.nih.gov/25501752/  \n",
       "2              https://pubmed.ncbi.nlm.nih.gov/17509841/  \n",
       "3  https://www.ncbi.nlm.nih.gov/pmc/articles/PMC7574993/  \n",
       "4  https://www.ncbi.nlm.nih.gov/pmc/articles/PMC8193849/  "
      ]
     },
     "execution_count": 6,
     "metadata": {},
     "output_type": "execute_result"
    }
   ],
   "source": [
    "texts.head(5)"
   ]
  },
  {
   "cell_type": "markdown",
   "metadata": {
    "id": "xNsLNWJMmmFt"
   },
   "source": [
    "### First model"
   ]
  },
  {
   "cell_type": "markdown",
   "metadata": {
    "id": "WO2YDMHUi6ks"
   },
   "source": [
    "The parameters of the first model will be the same as those in the Daniel Ching's article (with some extra lines of code, because they were missing)."
   ]
  },
  {
   "cell_type": "code",
   "execution_count": 7,
   "metadata": {
    "colab": {
     "base_uri": "https://localhost:8080/",
     "height": 17
    },
    "id": "8fhju4GR-I8P",
    "outputId": "8e856e2b-a006-4638-9856-7627a92a5b87"
   },
   "outputs": [
    {
     "data": {
      "text/html": [
       "\n",
       "<style>\n",
       "    /* Turns off some styling */\n",
       "    progress {\n",
       "        /* gets rid of default border in Firefox and Opera. */\n",
       "        border: none;\n",
       "        /* Needs to be in here for Safari polyfill so background images work as expected. */\n",
       "        background-size: auto;\n",
       "    }\n",
       "    progress:not([value]), progress:not([value])::-webkit-progress-bar {\n",
       "        background: repeating-linear-gradient(45deg, #7e7e7e, #7e7e7e 10px, #5c5c5c 10px, #5c5c5c 20px);\n",
       "    }\n",
       "    .progress-bar-interrupted, .progress-bar-interrupted::-webkit-progress-bar {\n",
       "        background: #F44336;\n",
       "    }\n",
       "</style>\n"
      ],
      "text/plain": [
       "<IPython.core.display.HTML object>"
      ]
     },
     "metadata": {},
     "output_type": "display_data"
    },
    {
     "data": {
      "text/html": [],
      "text/plain": [
       "<IPython.core.display.HTML object>"
      ]
     },
     "metadata": {},
     "output_type": "display_data"
    }
   ],
   "source": [
    "\n",
    "dls_ok = DataBlock (\n",
    "    blocks=TextBlock.from_df('text', is_lm=True),\n",
    "    get_x=ColReader('text'), \n",
    "    splitter=RandomSplitter(0.1)\n",
    "  ).dataloaders(texts, bs=11, seq_len=2045)"
   ]
  },
  {
   "cell_type": "markdown",
   "metadata": {
    "id": "dq5szHs9XAhM"
   },
   "source": [
    "First, creating a language_model_learner with AWD_LSTM architecture."
   ]
  },
  {
   "cell_type": "code",
   "execution_count": 17,
   "metadata": {
    "id": "9yp7ifgUQoqp"
   },
   "outputs": [],
   "source": [
    "learn = language_model_learner(dls_ok, AWD_LSTM, drop_mult=0.3, metrics=accuracy)"
   ]
  },
  {
   "cell_type": "code",
   "execution_count": 18,
   "metadata": {
    "colab": {
     "base_uri": "https://localhost:8080/"
    },
    "id": "QJVGzVLPIzc_",
    "outputId": "8ecb439a-ea8e-4349-a6a7-9c50a4985741"
   },
   "outputs": [
    {
     "data": {
      "text/plain": [
       "Path('models/res_search.pth')"
      ]
     },
     "execution_count": 18,
     "metadata": {},
     "output_type": "execute_result"
    }
   ],
   "source": [
    "learn.save('res_search')"
   ]
  },
  {
   "cell_type": "code",
   "execution_count": 19,
   "metadata": {
    "id": "WWbCaExXWMQz"
   },
   "outputs": [],
   "source": [
    "learner_oks = learn.load('res_search')"
   ]
  },
  {
   "cell_type": "code",
   "execution_count": 20,
   "metadata": {
    "id": "z8TLqEGIWh3-"
   },
   "outputs": [],
   "source": [
    "learner_oks.unfreeze()"
   ]
  },
  {
   "cell_type": "markdown",
   "metadata": {
    "id": "0-5lQ1oNXg96"
   },
   "source": [
    "Traing on the texts without the scores and without the task-specific final layers. Training here is general."
   ]
  },
  {
   "cell_type": "code",
   "execution_count": 21,
   "metadata": {
    "colab": {
     "base_uri": "https://localhost:8080/",
     "height": 519
    },
    "id": "to0ijyn_Wnkf",
    "outputId": "d513e129-245c-4a50-b05a-5ba43cc1dce9"
   },
   "outputs": [
    {
     "data": {
      "text/html": [
       "\n",
       "<style>\n",
       "    /* Turns off some styling */\n",
       "    progress {\n",
       "        /* gets rid of default border in Firefox and Opera. */\n",
       "        border: none;\n",
       "        /* Needs to be in here for Safari polyfill so background images work as expected. */\n",
       "        background-size: auto;\n",
       "    }\n",
       "    progress:not([value]), progress:not([value])::-webkit-progress-bar {\n",
       "        background: repeating-linear-gradient(45deg, #7e7e7e, #7e7e7e 10px, #5c5c5c 10px, #5c5c5c 20px);\n",
       "    }\n",
       "    .progress-bar-interrupted, .progress-bar-interrupted::-webkit-progress-bar {\n",
       "        background: #F44336;\n",
       "    }\n",
       "</style>\n"
      ],
      "text/plain": [
       "<IPython.core.display.HTML object>"
      ]
     },
     "metadata": {},
     "output_type": "display_data"
    },
    {
     "data": {
      "text/html": [
       "<table border=\"1\" class=\"dataframe\">\n",
       "  <thead>\n",
       "    <tr style=\"text-align: left;\">\n",
       "      <th>epoch</th>\n",
       "      <th>train_loss</th>\n",
       "      <th>valid_loss</th>\n",
       "      <th>accuracy</th>\n",
       "      <th>time</th>\n",
       "    </tr>\n",
       "  </thead>\n",
       "  <tbody>\n",
       "    <tr>\n",
       "      <td>0</td>\n",
       "      <td>4.054708</td>\n",
       "      <td>3.794576</td>\n",
       "      <td>0.299465</td>\n",
       "      <td>00:01</td>\n",
       "    </tr>\n",
       "    <tr>\n",
       "      <td>1</td>\n",
       "      <td>3.886221</td>\n",
       "      <td>4.166476</td>\n",
       "      <td>0.272727</td>\n",
       "      <td>00:00</td>\n",
       "    </tr>\n",
       "    <tr>\n",
       "      <td>2</td>\n",
       "      <td>3.979374</td>\n",
       "      <td>6.051190</td>\n",
       "      <td>0.286096</td>\n",
       "      <td>00:00</td>\n",
       "    </tr>\n",
       "    <tr>\n",
       "      <td>3</td>\n",
       "      <td>4.661844</td>\n",
       "      <td>5.668819</td>\n",
       "      <td>0.122995</td>\n",
       "      <td>00:00</td>\n",
       "    </tr>\n",
       "    <tr>\n",
       "      <td>4</td>\n",
       "      <td>4.908409</td>\n",
       "      <td>4.817206</td>\n",
       "      <td>0.243316</td>\n",
       "      <td>00:00</td>\n",
       "    </tr>\n",
       "    <tr>\n",
       "      <td>5</td>\n",
       "      <td>4.911751</td>\n",
       "      <td>4.628443</td>\n",
       "      <td>0.237968</td>\n",
       "      <td>00:00</td>\n",
       "    </tr>\n",
       "    <tr>\n",
       "      <td>6</td>\n",
       "      <td>4.885194</td>\n",
       "      <td>4.455484</td>\n",
       "      <td>0.208556</td>\n",
       "      <td>00:00</td>\n",
       "    </tr>\n",
       "    <tr>\n",
       "      <td>7</td>\n",
       "      <td>4.834794</td>\n",
       "      <td>4.392136</td>\n",
       "      <td>0.272727</td>\n",
       "      <td>00:00</td>\n",
       "    </tr>\n",
       "    <tr>\n",
       "      <td>8</td>\n",
       "      <td>4.784651</td>\n",
       "      <td>4.153449</td>\n",
       "      <td>0.294118</td>\n",
       "      <td>00:00</td>\n",
       "    </tr>\n",
       "    <tr>\n",
       "      <td>9</td>\n",
       "      <td>4.717680</td>\n",
       "      <td>4.094220</td>\n",
       "      <td>0.299465</td>\n",
       "      <td>00:00</td>\n",
       "    </tr>\n",
       "    <tr>\n",
       "      <td>10</td>\n",
       "      <td>4.643602</td>\n",
       "      <td>4.019887</td>\n",
       "      <td>0.299465</td>\n",
       "      <td>00:00</td>\n",
       "    </tr>\n",
       "    <tr>\n",
       "      <td>11</td>\n",
       "      <td>4.564415</td>\n",
       "      <td>3.946896</td>\n",
       "      <td>0.291444</td>\n",
       "      <td>00:00</td>\n",
       "    </tr>\n",
       "    <tr>\n",
       "      <td>12</td>\n",
       "      <td>4.483865</td>\n",
       "      <td>3.889874</td>\n",
       "      <td>0.291444</td>\n",
       "      <td>00:00</td>\n",
       "    </tr>\n",
       "    <tr>\n",
       "      <td>13</td>\n",
       "      <td>4.406445</td>\n",
       "      <td>3.838803</td>\n",
       "      <td>0.304813</td>\n",
       "      <td>00:00</td>\n",
       "    </tr>\n",
       "    <tr>\n",
       "      <td>14</td>\n",
       "      <td>4.335507</td>\n",
       "      <td>3.825776</td>\n",
       "      <td>0.304813</td>\n",
       "      <td>00:00</td>\n",
       "    </tr>\n",
       "  </tbody>\n",
       "</table>"
      ],
      "text/plain": [
       "<IPython.core.display.HTML object>"
      ]
     },
     "metadata": {},
     "output_type": "display_data"
    }
   ],
   "source": [
    "learner_oks.fit_one_cycle(15, 2e-2)"
   ]
  },
  {
   "cell_type": "markdown",
   "metadata": {
    "id": "pmDnbxXpZRf-"
   },
   "source": [
    "Saving the language model as an encoder.\n"
   ]
  },
  {
   "cell_type": "code",
   "execution_count": 22,
   "metadata": {
    "id": "_mYOkxYNZYk5"
   },
   "outputs": [],
   "source": [
    "learner_oks.save_encoder(\"readymade_encoder\")"
   ]
  },
  {
   "cell_type": "markdown",
   "metadata": {
    "id": "WfLS5sN_X5hl"
   },
   "source": [
    "Creating specific DataBlock - already including get_y (our lebels - the text scores)"
   ]
  },
  {
   "cell_type": "code",
   "execution_count": 23,
   "metadata": {
    "colab": {
     "base_uri": "https://localhost:8080/",
     "height": 17
    },
    "id": "lm5HrvC_Wy3g",
    "outputId": "ed65c490-fcc1-4709-b230-f170c78204ed"
   },
   "outputs": [
    {
     "data": {
      "text/html": [
       "\n",
       "<style>\n",
       "    /* Turns off some styling */\n",
       "    progress {\n",
       "        /* gets rid of default border in Firefox and Opera. */\n",
       "        border: none;\n",
       "        /* Needs to be in here for Safari polyfill so background images work as expected. */\n",
       "        background-size: auto;\n",
       "    }\n",
       "    progress:not([value]), progress:not([value])::-webkit-progress-bar {\n",
       "        background: repeating-linear-gradient(45deg, #7e7e7e, #7e7e7e 10px, #5c5c5c 10px, #5c5c5c 20px);\n",
       "    }\n",
       "    .progress-bar-interrupted, .progress-bar-interrupted::-webkit-progress-bar {\n",
       "        background: #F44336;\n",
       "    }\n",
       "</style>\n"
      ],
      "text/plain": [
       "<IPython.core.display.HTML object>"
      ]
     },
     "metadata": {},
     "output_type": "display_data"
    },
    {
     "data": {
      "text/html": [],
      "text/plain": [
       "<IPython.core.display.HTML object>"
      ]
     },
     "metadata": {},
     "output_type": "display_data"
    }
   ],
   "source": [
    "class_dls_new = DataBlock (\n",
    "    blocks=(TextBlock.from_df('text', vocab = dls_ok.vocab), CategoryBlock),\n",
    "    get_x=ColReader('text'), \n",
    "    get_y=ColReader('score'),\n",
    "    splitter=RandomSplitter()\n",
    "  ).dataloaders(texts, bs=11)"
   ]
  },
  {
   "cell_type": "code",
   "execution_count": 24,
   "metadata": {
    "id": "rFvJ1aBya_W_"
   },
   "outputs": [],
   "source": [
    "lrner = learner_oks.load_encoder(\"readymade_encoder\")"
   ]
  },
  {
   "cell_type": "markdown",
   "metadata": {
    "id": "7S3C9nbkYMJB"
   },
   "source": [
    "A test with unfreezing. Traing once and after that freezing the layers until the second one (0 and 1) and unfreezing the next layers."
   ]
  },
  {
   "cell_type": "code",
   "execution_count": 25,
   "metadata": {
    "colab": {
     "base_uri": "https://localhost:8080/",
     "height": 80
    },
    "id": "mhzMiYbia_hO",
    "outputId": "f217b360-203b-4231-ca9e-444bc44a1bbb"
   },
   "outputs": [
    {
     "data": {
      "text/html": [
       "\n",
       "<style>\n",
       "    /* Turns off some styling */\n",
       "    progress {\n",
       "        /* gets rid of default border in Firefox and Opera. */\n",
       "        border: none;\n",
       "        /* Needs to be in here for Safari polyfill so background images work as expected. */\n",
       "        background-size: auto;\n",
       "    }\n",
       "    progress:not([value]), progress:not([value])::-webkit-progress-bar {\n",
       "        background: repeating-linear-gradient(45deg, #7e7e7e, #7e7e7e 10px, #5c5c5c 10px, #5c5c5c 20px);\n",
       "    }\n",
       "    .progress-bar-interrupted, .progress-bar-interrupted::-webkit-progress-bar {\n",
       "        background: #F44336;\n",
       "    }\n",
       "</style>\n"
      ],
      "text/plain": [
       "<IPython.core.display.HTML object>"
      ]
     },
     "metadata": {},
     "output_type": "display_data"
    },
    {
     "data": {
      "text/html": [
       "<table border=\"1\" class=\"dataframe\">\n",
       "  <thead>\n",
       "    <tr style=\"text-align: left;\">\n",
       "      <th>epoch</th>\n",
       "      <th>train_loss</th>\n",
       "      <th>valid_loss</th>\n",
       "      <th>accuracy</th>\n",
       "      <th>time</th>\n",
       "    </tr>\n",
       "  </thead>\n",
       "  <tbody>\n",
       "    <tr>\n",
       "      <td>0</td>\n",
       "      <td>3.453080</td>\n",
       "      <td>3.823498</td>\n",
       "      <td>0.304813</td>\n",
       "      <td>00:00</td>\n",
       "    </tr>\n",
       "  </tbody>\n",
       "</table>"
      ],
      "text/plain": [
       "<IPython.core.display.HTML object>"
      ]
     },
     "metadata": {},
     "output_type": "display_data"
    }
   ],
   "source": [
    "lrner.fit_one_cycle(1, 2e-2)"
   ]
  },
  {
   "cell_type": "code",
   "execution_count": 26,
   "metadata": {
    "id": "Fk0fdrroa_n-"
   },
   "outputs": [],
   "source": [
    "lrner.freeze_to(-2)"
   ]
  },
  {
   "cell_type": "code",
   "execution_count": 27,
   "metadata": {
    "colab": {
     "base_uri": "https://localhost:8080/",
     "height": 80
    },
    "id": "k5tR1tG9a_sG",
    "outputId": "8d932765-694f-4643-f4c5-447da31d3356"
   },
   "outputs": [
    {
     "data": {
      "text/html": [
       "\n",
       "<style>\n",
       "    /* Turns off some styling */\n",
       "    progress {\n",
       "        /* gets rid of default border in Firefox and Opera. */\n",
       "        border: none;\n",
       "        /* Needs to be in here for Safari polyfill so background images work as expected. */\n",
       "        background-size: auto;\n",
       "    }\n",
       "    progress:not([value]), progress:not([value])::-webkit-progress-bar {\n",
       "        background: repeating-linear-gradient(45deg, #7e7e7e, #7e7e7e 10px, #5c5c5c 10px, #5c5c5c 20px);\n",
       "    }\n",
       "    .progress-bar-interrupted, .progress-bar-interrupted::-webkit-progress-bar {\n",
       "        background: #F44336;\n",
       "    }\n",
       "</style>\n"
      ],
      "text/plain": [
       "<IPython.core.display.HTML object>"
      ]
     },
     "metadata": {},
     "output_type": "display_data"
    },
    {
     "data": {
      "text/html": [
       "<table border=\"1\" class=\"dataframe\">\n",
       "  <thead>\n",
       "    <tr style=\"text-align: left;\">\n",
       "      <th>epoch</th>\n",
       "      <th>train_loss</th>\n",
       "      <th>valid_loss</th>\n",
       "      <th>accuracy</th>\n",
       "      <th>time</th>\n",
       "    </tr>\n",
       "  </thead>\n",
       "  <tbody>\n",
       "    <tr>\n",
       "      <td>0</td>\n",
       "      <td>3.448787</td>\n",
       "      <td>3.821321</td>\n",
       "      <td>0.307487</td>\n",
       "      <td>00:00</td>\n",
       "    </tr>\n",
       "  </tbody>\n",
       "</table>"
      ],
      "text/plain": [
       "<IPython.core.display.HTML object>"
      ]
     },
     "metadata": {},
     "output_type": "display_data"
    }
   ],
   "source": [
    "lrner.fit_one_cycle(1, slice(1e-2/(2.6**4), 1e-2))"
   ]
  },
  {
   "cell_type": "markdown",
   "metadata": {
    "id": "F6LoCffiZMYS"
   },
   "source": [
    "Now, let's classify."
   ]
  },
  {
   "cell_type": "code",
   "execution_count": 28,
   "metadata": {
    "id": "h9mfFzJTa_vu"
   },
   "outputs": [],
   "source": [
    "classifier_lrner = text_classifier_learner(class_dls_new, AWD_LSTM, drop_mult=0.5, metrics=accuracy) "
   ]
  },
  {
   "cell_type": "code",
   "execution_count": 29,
   "metadata": {
    "colab": {
     "base_uri": "https://localhost:8080/",
     "height": 80
    },
    "id": "58K4TQd8bwin",
    "outputId": "ccff5825-36bc-479c-ca2a-7915f127cbe7"
   },
   "outputs": [
    {
     "data": {
      "text/html": [
       "\n",
       "<style>\n",
       "    /* Turns off some styling */\n",
       "    progress {\n",
       "        /* gets rid of default border in Firefox and Opera. */\n",
       "        border: none;\n",
       "        /* Needs to be in here for Safari polyfill so background images work as expected. */\n",
       "        background-size: auto;\n",
       "    }\n",
       "    progress:not([value]), progress:not([value])::-webkit-progress-bar {\n",
       "        background: repeating-linear-gradient(45deg, #7e7e7e, #7e7e7e 10px, #5c5c5c 10px, #5c5c5c 20px);\n",
       "    }\n",
       "    .progress-bar-interrupted, .progress-bar-interrupted::-webkit-progress-bar {\n",
       "        background: #F44336;\n",
       "    }\n",
       "</style>\n"
      ],
      "text/plain": [
       "<IPython.core.display.HTML object>"
      ]
     },
     "metadata": {},
     "output_type": "display_data"
    },
    {
     "data": {
      "text/html": [
       "<table border=\"1\" class=\"dataframe\">\n",
       "  <thead>\n",
       "    <tr style=\"text-align: left;\">\n",
       "      <th>epoch</th>\n",
       "      <th>train_loss</th>\n",
       "      <th>valid_loss</th>\n",
       "      <th>accuracy</th>\n",
       "      <th>time</th>\n",
       "    </tr>\n",
       "  </thead>\n",
       "  <tbody>\n",
       "    <tr>\n",
       "      <td>0</td>\n",
       "      <td>1.243818</td>\n",
       "      <td>0.766715</td>\n",
       "      <td>0.833333</td>\n",
       "      <td>00:00</td>\n",
       "    </tr>\n",
       "  </tbody>\n",
       "</table>"
      ],
      "text/plain": [
       "<IPython.core.display.HTML object>"
      ]
     },
     "metadata": {},
     "output_type": "display_data"
    }
   ],
   "source": [
    "classifier_lrner.fit_one_cycle(1, 2e-2)"
   ]
  },
  {
   "cell_type": "markdown",
   "metadata": {
    "id": "p7dImBqdZrAO"
   },
   "source": [
    "This time freezing till  the third layer (0, 1, and 2). After some tests on our own, this way turned out to be better."
   ]
  },
  {
   "cell_type": "code",
   "execution_count": 30,
   "metadata": {
    "id": "MrRoNQwpbwrH"
   },
   "outputs": [],
   "source": [
    "classifier_lrner.freeze_to(-3)"
   ]
  },
  {
   "cell_type": "code",
   "execution_count": 31,
   "metadata": {
    "colab": {
     "base_uri": "https://localhost:8080/",
     "height": 80
    },
    "id": "0sBlIdqnbwy2",
    "outputId": "817665fb-e3c1-4bdd-dce9-b2fb3e5d7d34"
   },
   "outputs": [
    {
     "data": {
      "text/html": [
       "\n",
       "<style>\n",
       "    /* Turns off some styling */\n",
       "    progress {\n",
       "        /* gets rid of default border in Firefox and Opera. */\n",
       "        border: none;\n",
       "        /* Needs to be in here for Safari polyfill so background images work as expected. */\n",
       "        background-size: auto;\n",
       "    }\n",
       "    progress:not([value]), progress:not([value])::-webkit-progress-bar {\n",
       "        background: repeating-linear-gradient(45deg, #7e7e7e, #7e7e7e 10px, #5c5c5c 10px, #5c5c5c 20px);\n",
       "    }\n",
       "    .progress-bar-interrupted, .progress-bar-interrupted::-webkit-progress-bar {\n",
       "        background: #F44336;\n",
       "    }\n",
       "</style>\n"
      ],
      "text/plain": [
       "<IPython.core.display.HTML object>"
      ]
     },
     "metadata": {},
     "output_type": "display_data"
    },
    {
     "data": {
      "text/html": [
       "<table border=\"1\" class=\"dataframe\">\n",
       "  <thead>\n",
       "    <tr style=\"text-align: left;\">\n",
       "      <th>epoch</th>\n",
       "      <th>train_loss</th>\n",
       "      <th>valid_loss</th>\n",
       "      <th>accuracy</th>\n",
       "      <th>time</th>\n",
       "    </tr>\n",
       "  </thead>\n",
       "  <tbody>\n",
       "    <tr>\n",
       "      <td>0</td>\n",
       "      <td>0.695794</td>\n",
       "      <td>0.735861</td>\n",
       "      <td>0.833333</td>\n",
       "      <td>00:01</td>\n",
       "    </tr>\n",
       "  </tbody>\n",
       "</table>"
      ],
      "text/plain": [
       "<IPython.core.display.HTML object>"
      ]
     },
     "metadata": {},
     "output_type": "display_data"
    }
   ],
   "source": [
    "classifier_lrner.fit_one_cycle(1, slice(5e-3/(2.6**4), 5e-3))"
   ]
  },
  {
   "cell_type": "markdown",
   "metadata": {
    "id": "IgmRFZ7cxKbj"
   },
   "source": [
    "Because we see better result, we are going to export the model, so that we could use it later."
   ]
  },
  {
   "cell_type": "code",
   "execution_count": 32,
   "metadata": {
    "id": "1DjL0YFPw1Xz"
   },
   "outputs": [],
   "source": [
    "classifier_lrner.export('new_classifier_lrner_833_735.pth')"
   ]
  },
  {
   "cell_type": "code",
   "execution_count": 33,
   "metadata": {
    "id": "AcM7ozhwbw8W"
   },
   "outputs": [],
   "source": [
    "classifier_lrner.unfreeze()"
   ]
  },
  {
   "cell_type": "code",
   "execution_count": 34,
   "metadata": {
    "colab": {
     "base_uri": "https://localhost:8080/",
     "height": 112
    },
    "id": "3W7Ntc0abw_G",
    "outputId": "a4b39296-928b-4510-9763-70c9bab98f40"
   },
   "outputs": [
    {
     "data": {
      "text/html": [
       "\n",
       "<style>\n",
       "    /* Turns off some styling */\n",
       "    progress {\n",
       "        /* gets rid of default border in Firefox and Opera. */\n",
       "        border: none;\n",
       "        /* Needs to be in here for Safari polyfill so background images work as expected. */\n",
       "        background-size: auto;\n",
       "    }\n",
       "    progress:not([value]), progress:not([value])::-webkit-progress-bar {\n",
       "        background: repeating-linear-gradient(45deg, #7e7e7e, #7e7e7e 10px, #5c5c5c 10px, #5c5c5c 20px);\n",
       "    }\n",
       "    .progress-bar-interrupted, .progress-bar-interrupted::-webkit-progress-bar {\n",
       "        background: #F44336;\n",
       "    }\n",
       "</style>\n"
      ],
      "text/plain": [
       "<IPython.core.display.HTML object>"
      ]
     },
     "metadata": {},
     "output_type": "display_data"
    },
    {
     "data": {
      "text/html": [
       "<table border=\"1\" class=\"dataframe\">\n",
       "  <thead>\n",
       "    <tr style=\"text-align: left;\">\n",
       "      <th>epoch</th>\n",
       "      <th>train_loss</th>\n",
       "      <th>valid_loss</th>\n",
       "      <th>accuracy</th>\n",
       "      <th>time</th>\n",
       "    </tr>\n",
       "  </thead>\n",
       "  <tbody>\n",
       "    <tr>\n",
       "      <td>0</td>\n",
       "      <td>0.580617</td>\n",
       "      <td>0.728007</td>\n",
       "      <td>0.833333</td>\n",
       "      <td>00:01</td>\n",
       "    </tr>\n",
       "    <tr>\n",
       "      <td>1</td>\n",
       "      <td>0.473089</td>\n",
       "      <td>0.741843</td>\n",
       "      <td>0.833333</td>\n",
       "      <td>00:01</td>\n",
       "    </tr>\n",
       "  </tbody>\n",
       "</table>"
      ],
      "text/plain": [
       "<IPython.core.display.HTML object>"
      ]
     },
     "metadata": {},
     "output_type": "display_data"
    }
   ],
   "source": [
    "classifier_lrner.fit_one_cycle(2, slice(1e-3/(2.6**4), 1e-3))"
   ]
  },
  {
   "cell_type": "markdown",
   "metadata": {
    "id": "b5nHAAR0fu7K"
   },
   "source": [
    "We see that that the valid_loss starts incresing. Probably the accuracy will start decreasing, if we continue."
   ]
  },
  {
   "cell_type": "code",
   "execution_count": 35,
   "metadata": {
    "colab": {
     "base_uri": "https://localhost:8080/",
     "height": 112
    },
    "id": "T2P_oFoqyGx8",
    "outputId": "f5e8f979-55ce-41df-e2d4-07c360c1c2ae"
   },
   "outputs": [
    {
     "data": {
      "text/html": [
       "\n",
       "<style>\n",
       "    /* Turns off some styling */\n",
       "    progress {\n",
       "        /* gets rid of default border in Firefox and Opera. */\n",
       "        border: none;\n",
       "        /* Needs to be in here for Safari polyfill so background images work as expected. */\n",
       "        background-size: auto;\n",
       "    }\n",
       "    progress:not([value]), progress:not([value])::-webkit-progress-bar {\n",
       "        background: repeating-linear-gradient(45deg, #7e7e7e, #7e7e7e 10px, #5c5c5c 10px, #5c5c5c 20px);\n",
       "    }\n",
       "    .progress-bar-interrupted, .progress-bar-interrupted::-webkit-progress-bar {\n",
       "        background: #F44336;\n",
       "    }\n",
       "</style>\n"
      ],
      "text/plain": [
       "<IPython.core.display.HTML object>"
      ]
     },
     "metadata": {},
     "output_type": "display_data"
    },
    {
     "data": {
      "text/html": [
       "<table border=\"1\" class=\"dataframe\">\n",
       "  <thead>\n",
       "    <tr style=\"text-align: left;\">\n",
       "      <th>epoch</th>\n",
       "      <th>train_loss</th>\n",
       "      <th>valid_loss</th>\n",
       "      <th>accuracy</th>\n",
       "      <th>time</th>\n",
       "    </tr>\n",
       "  </thead>\n",
       "  <tbody>\n",
       "    <tr>\n",
       "      <td>0</td>\n",
       "      <td>0.388291</td>\n",
       "      <td>0.755657</td>\n",
       "      <td>0.833333</td>\n",
       "      <td>00:01</td>\n",
       "    </tr>\n",
       "    <tr>\n",
       "      <td>1</td>\n",
       "      <td>0.392638</td>\n",
       "      <td>0.768982</td>\n",
       "      <td>0.833333</td>\n",
       "      <td>00:01</td>\n",
       "    </tr>\n",
       "  </tbody>\n",
       "</table>"
      ],
      "text/plain": [
       "<IPython.core.display.HTML object>"
      ]
     },
     "metadata": {},
     "output_type": "display_data"
    }
   ],
   "source": [
    "classifier_lrner.fit_one_cycle(2, slice(1e-3/(2.6**4), 1e-3))"
   ]
  },
  {
   "cell_type": "code",
   "execution_count": 36,
   "metadata": {
    "colab": {
     "base_uri": "https://localhost:8080/",
     "height": 112
    },
    "id": "ZQXnrDc3yL2t",
    "outputId": "f5ed022f-78b5-4f46-d228-1677a49247be"
   },
   "outputs": [
    {
     "data": {
      "text/html": [
       "\n",
       "<style>\n",
       "    /* Turns off some styling */\n",
       "    progress {\n",
       "        /* gets rid of default border in Firefox and Opera. */\n",
       "        border: none;\n",
       "        /* Needs to be in here for Safari polyfill so background images work as expected. */\n",
       "        background-size: auto;\n",
       "    }\n",
       "    progress:not([value]), progress:not([value])::-webkit-progress-bar {\n",
       "        background: repeating-linear-gradient(45deg, #7e7e7e, #7e7e7e 10px, #5c5c5c 10px, #5c5c5c 20px);\n",
       "    }\n",
       "    .progress-bar-interrupted, .progress-bar-interrupted::-webkit-progress-bar {\n",
       "        background: #F44336;\n",
       "    }\n",
       "</style>\n"
      ],
      "text/plain": [
       "<IPython.core.display.HTML object>"
      ]
     },
     "metadata": {},
     "output_type": "display_data"
    },
    {
     "data": {
      "text/html": [
       "<table border=\"1\" class=\"dataframe\">\n",
       "  <thead>\n",
       "    <tr style=\"text-align: left;\">\n",
       "      <th>epoch</th>\n",
       "      <th>train_loss</th>\n",
       "      <th>valid_loss</th>\n",
       "      <th>accuracy</th>\n",
       "      <th>time</th>\n",
       "    </tr>\n",
       "  </thead>\n",
       "  <tbody>\n",
       "    <tr>\n",
       "      <td>0</td>\n",
       "      <td>0.359383</td>\n",
       "      <td>0.756378</td>\n",
       "      <td>0.833333</td>\n",
       "      <td>00:01</td>\n",
       "    </tr>\n",
       "    <tr>\n",
       "      <td>1</td>\n",
       "      <td>0.304097</td>\n",
       "      <td>0.767251</td>\n",
       "      <td>0.833333</td>\n",
       "      <td>00:01</td>\n",
       "    </tr>\n",
       "  </tbody>\n",
       "</table>"
      ],
      "text/plain": [
       "<IPython.core.display.HTML object>"
      ]
     },
     "metadata": {},
     "output_type": "display_data"
    }
   ],
   "source": [
    "classifier_lrner.fit_one_cycle(2, slice(1e-3/(2.6**4), 1e-3))"
   ]
  },
  {
   "cell_type": "code",
   "execution_count": 37,
   "metadata": {
    "colab": {
     "base_uri": "https://localhost:8080/",
     "height": 112
    },
    "id": "gruucesQyQ7G",
    "outputId": "eb93210d-311e-4eb4-a39d-aa8b2584d278"
   },
   "outputs": [
    {
     "data": {
      "text/html": [
       "\n",
       "<style>\n",
       "    /* Turns off some styling */\n",
       "    progress {\n",
       "        /* gets rid of default border in Firefox and Opera. */\n",
       "        border: none;\n",
       "        /* Needs to be in here for Safari polyfill so background images work as expected. */\n",
       "        background-size: auto;\n",
       "    }\n",
       "    progress:not([value]), progress:not([value])::-webkit-progress-bar {\n",
       "        background: repeating-linear-gradient(45deg, #7e7e7e, #7e7e7e 10px, #5c5c5c 10px, #5c5c5c 20px);\n",
       "    }\n",
       "    .progress-bar-interrupted, .progress-bar-interrupted::-webkit-progress-bar {\n",
       "        background: #F44336;\n",
       "    }\n",
       "</style>\n"
      ],
      "text/plain": [
       "<IPython.core.display.HTML object>"
      ]
     },
     "metadata": {},
     "output_type": "display_data"
    },
    {
     "data": {
      "text/html": [
       "<table border=\"1\" class=\"dataframe\">\n",
       "  <thead>\n",
       "    <tr style=\"text-align: left;\">\n",
       "      <th>epoch</th>\n",
       "      <th>train_loss</th>\n",
       "      <th>valid_loss</th>\n",
       "      <th>accuracy</th>\n",
       "      <th>time</th>\n",
       "    </tr>\n",
       "  </thead>\n",
       "  <tbody>\n",
       "    <tr>\n",
       "      <td>0</td>\n",
       "      <td>0.292897</td>\n",
       "      <td>0.775017</td>\n",
       "      <td>0.833333</td>\n",
       "      <td>00:01</td>\n",
       "    </tr>\n",
       "    <tr>\n",
       "      <td>1</td>\n",
       "      <td>0.301331</td>\n",
       "      <td>0.783734</td>\n",
       "      <td>0.833333</td>\n",
       "      <td>00:01</td>\n",
       "    </tr>\n",
       "  </tbody>\n",
       "</table>"
      ],
      "text/plain": [
       "<IPython.core.display.HTML object>"
      ]
     },
     "metadata": {},
     "output_type": "display_data"
    }
   ],
   "source": [
    "classifier_lrner.fit_one_cycle(2, slice(1e-3/(2.6**4), 1e-3))"
   ]
  },
  {
   "cell_type": "code",
   "execution_count": 38,
   "metadata": {
    "colab": {
     "base_uri": "https://localhost:8080/",
     "height": 363
    },
    "id": "NOrL88feyT39",
    "outputId": "8916a4df-9778-47af-a53c-fd81eb08a9c0"
   },
   "outputs": [
    {
     "data": {
      "text/html": [
       "\n",
       "<style>\n",
       "    /* Turns off some styling */\n",
       "    progress {\n",
       "        /* gets rid of default border in Firefox and Opera. */\n",
       "        border: none;\n",
       "        /* Needs to be in here for Safari polyfill so background images work as expected. */\n",
       "        background-size: auto;\n",
       "    }\n",
       "    progress:not([value]), progress:not([value])::-webkit-progress-bar {\n",
       "        background: repeating-linear-gradient(45deg, #7e7e7e, #7e7e7e 10px, #5c5c5c 10px, #5c5c5c 20px);\n",
       "    }\n",
       "    .progress-bar-interrupted, .progress-bar-interrupted::-webkit-progress-bar {\n",
       "        background: #F44336;\n",
       "    }\n",
       "</style>\n"
      ],
      "text/plain": [
       "<IPython.core.display.HTML object>"
      ]
     },
     "metadata": {},
     "output_type": "display_data"
    },
    {
     "data": {
      "text/html": [
       "<table border=\"1\" class=\"dataframe\">\n",
       "  <thead>\n",
       "    <tr style=\"text-align: left;\">\n",
       "      <th>epoch</th>\n",
       "      <th>train_loss</th>\n",
       "      <th>valid_loss</th>\n",
       "      <th>accuracy</th>\n",
       "      <th>time</th>\n",
       "    </tr>\n",
       "  </thead>\n",
       "  <tbody>\n",
       "    <tr>\n",
       "      <td>0</td>\n",
       "      <td>0.265858</td>\n",
       "      <td>0.793795</td>\n",
       "      <td>0.833333</td>\n",
       "      <td>00:01</td>\n",
       "    </tr>\n",
       "    <tr>\n",
       "      <td>1</td>\n",
       "      <td>0.255346</td>\n",
       "      <td>0.801724</td>\n",
       "      <td>0.666667</td>\n",
       "      <td>00:01</td>\n",
       "    </tr>\n",
       "    <tr>\n",
       "      <td>2</td>\n",
       "      <td>0.248132</td>\n",
       "      <td>0.814386</td>\n",
       "      <td>0.666667</td>\n",
       "      <td>00:01</td>\n",
       "    </tr>\n",
       "    <tr>\n",
       "      <td>3</td>\n",
       "      <td>0.229448</td>\n",
       "      <td>0.797779</td>\n",
       "      <td>0.666667</td>\n",
       "      <td>00:01</td>\n",
       "    </tr>\n",
       "    <tr>\n",
       "      <td>4</td>\n",
       "      <td>0.210497</td>\n",
       "      <td>0.752668</td>\n",
       "      <td>0.666667</td>\n",
       "      <td>00:01</td>\n",
       "    </tr>\n",
       "    <tr>\n",
       "      <td>5</td>\n",
       "      <td>0.201893</td>\n",
       "      <td>0.736991</td>\n",
       "      <td>0.666667</td>\n",
       "      <td>00:01</td>\n",
       "    </tr>\n",
       "    <tr>\n",
       "      <td>6</td>\n",
       "      <td>0.191534</td>\n",
       "      <td>0.734301</td>\n",
       "      <td>0.666667</td>\n",
       "      <td>00:01</td>\n",
       "    </tr>\n",
       "    <tr>\n",
       "      <td>7</td>\n",
       "      <td>0.187231</td>\n",
       "      <td>0.715206</td>\n",
       "      <td>0.666667</td>\n",
       "      <td>00:01</td>\n",
       "    </tr>\n",
       "    <tr>\n",
       "      <td>8</td>\n",
       "      <td>0.180925</td>\n",
       "      <td>0.719080</td>\n",
       "      <td>0.666667</td>\n",
       "      <td>00:01</td>\n",
       "    </tr>\n",
       "    <tr>\n",
       "      <td>9</td>\n",
       "      <td>0.179831</td>\n",
       "      <td>0.716069</td>\n",
       "      <td>0.666667</td>\n",
       "      <td>00:01</td>\n",
       "    </tr>\n",
       "  </tbody>\n",
       "</table>"
      ],
      "text/plain": [
       "<IPython.core.display.HTML object>"
      ]
     },
     "metadata": {},
     "output_type": "display_data"
    }
   ],
   "source": [
    "classifier_lrner.fit_one_cycle(10, slice(1e-3/(2.6**4), 1e-3))"
   ]
  },
  {
   "cell_type": "markdown",
   "metadata": {
    "id": "SDc0fvmmyqxQ"
   },
   "source": [
    "As we expected it, it increased. It seems that valid_loss around 0.8 maked the accuracy lower."
   ]
  },
  {
   "cell_type": "markdown",
   "metadata": {
    "id": "lhJQvWB4mrxP"
   },
   "source": [
    "### Another model"
   ]
  },
  {
   "cell_type": "markdown",
   "metadata": {
    "id": "2_aP0UOlf93j"
   },
   "source": [
    "Let's perform our own test with different learning rate and two  un-freezings. "
   ]
  },
  {
   "cell_type": "code",
   "execution_count": 179,
   "metadata": {
    "id": "Mx_2lQqcDd9c"
   },
   "outputs": [],
   "source": [
    "new_classifier_learner_1 = text_classifier_learner(class_dls_new, AWD_LSTM, drop_mult=0.5, metrics=accuracy) "
   ]
  },
  {
   "cell_type": "code",
   "execution_count": 180,
   "metadata": {
    "colab": {
     "base_uri": "https://localhost:8080/",
     "height": 379
    },
    "id": "emBLEg3PgM-V",
    "outputId": "b78bbb62-e6ad-425e-c092-ab606050aa53"
   },
   "outputs": [
    {
     "data": {
      "text/html": [
       "\n",
       "<style>\n",
       "    /* Turns off some styling */\n",
       "    progress {\n",
       "        /* gets rid of default border in Firefox and Opera. */\n",
       "        border: none;\n",
       "        /* Needs to be in here for Safari polyfill so background images work as expected. */\n",
       "        background-size: auto;\n",
       "    }\n",
       "    progress:not([value]), progress:not([value])::-webkit-progress-bar {\n",
       "        background: repeating-linear-gradient(45deg, #7e7e7e, #7e7e7e 10px, #5c5c5c 10px, #5c5c5c 20px);\n",
       "    }\n",
       "    .progress-bar-interrupted, .progress-bar-interrupted::-webkit-progress-bar {\n",
       "        background: #F44336;\n",
       "    }\n",
       "</style>\n"
      ],
      "text/plain": [
       "<IPython.core.display.HTML object>"
      ]
     },
     "metadata": {},
     "output_type": "display_data"
    },
    {
     "data": {
      "text/html": [
       "<table border=\"1\" class=\"dataframe\">\n",
       "  <thead>\n",
       "    <tr style=\"text-align: left;\">\n",
       "      <th>epoch</th>\n",
       "      <th>train_loss</th>\n",
       "      <th>valid_loss</th>\n",
       "      <th>accuracy</th>\n",
       "      <th>time</th>\n",
       "    </tr>\n",
       "  </thead>\n",
       "  <tbody>\n",
       "    <tr>\n",
       "      <td>0</td>\n",
       "      <td>1.284495</td>\n",
       "      <td>1.053080</td>\n",
       "      <td>0.666667</td>\n",
       "      <td>00:01</td>\n",
       "    </tr>\n",
       "    <tr>\n",
       "      <td>1</td>\n",
       "      <td>1.114591</td>\n",
       "      <td>1.020147</td>\n",
       "      <td>0.666667</td>\n",
       "      <td>00:00</td>\n",
       "    </tr>\n",
       "    <tr>\n",
       "      <td>2</td>\n",
       "      <td>0.923566</td>\n",
       "      <td>1.014729</td>\n",
       "      <td>0.666667</td>\n",
       "      <td>00:00</td>\n",
       "    </tr>\n",
       "    <tr>\n",
       "      <td>3</td>\n",
       "      <td>0.818531</td>\n",
       "      <td>1.031657</td>\n",
       "      <td>0.500000</td>\n",
       "      <td>00:00</td>\n",
       "    </tr>\n",
       "    <tr>\n",
       "      <td>4</td>\n",
       "      <td>0.748069</td>\n",
       "      <td>1.051837</td>\n",
       "      <td>0.333333</td>\n",
       "      <td>00:00</td>\n",
       "    </tr>\n",
       "  </tbody>\n",
       "</table>"
      ],
      "text/plain": [
       "<IPython.core.display.HTML object>"
      ]
     },
     "metadata": {},
     "output_type": "display_data"
    },
    {
     "name": "stderr",
     "output_type": "stream",
     "text": [
      "Exception ignored in: 'cupy.cuda.function.Module.__dealloc__'\n",
      "Traceback (most recent call last):\n",
      "  File \"cupy_backends/cuda/api/driver.pyx\", line 217, in cupy_backends.cuda.api.driver.moduleUnload\n",
      "  File \"cupy_backends/cuda/api/driver.pyx\", line 60, in cupy_backends.cuda.api.driver.check_status\n",
      "cupy_backends.cuda.api.driver.CUDADriverError: CUDA_ERROR_NOT_INITIALIZED: initialization error\n",
      "Exception ignored in: 'cupy.cuda.function.Module.__dealloc__'\n",
      "Traceback (most recent call last):\n",
      "  File \"cupy_backends/cuda/api/driver.pyx\", line 217, in cupy_backends.cuda.api.driver.moduleUnload\n",
      "  File \"cupy_backends/cuda/api/driver.pyx\", line 60, in cupy_backends.cuda.api.driver.check_status\n",
      "cupy_backends.cuda.api.driver.CUDADriverError: CUDA_ERROR_NOT_INITIALIZED: initialization error\n"
     ]
    }
   ],
   "source": [
    "new_classifier_learner_1.fit_one_cycle(5, 2e-3)"
   ]
  },
  {
   "cell_type": "code",
   "execution_count": 181,
   "metadata": {
    "id": "HH1vWkvcgM-V"
   },
   "outputs": [],
   "source": [
    "new_classifier_learner_1.freeze_to(-2)"
   ]
  },
  {
   "cell_type": "code",
   "execution_count": 182,
   "metadata": {
    "colab": {
     "base_uri": "https://localhost:8080/",
     "height": 80
    },
    "id": "JK-DQm6YgM-V",
    "outputId": "a9403a8a-5213-4a4d-8df8-1721fc6a94d4"
   },
   "outputs": [
    {
     "data": {
      "text/html": [
       "\n",
       "<style>\n",
       "    /* Turns off some styling */\n",
       "    progress {\n",
       "        /* gets rid of default border in Firefox and Opera. */\n",
       "        border: none;\n",
       "        /* Needs to be in here for Safari polyfill so background images work as expected. */\n",
       "        background-size: auto;\n",
       "    }\n",
       "    progress:not([value]), progress:not([value])::-webkit-progress-bar {\n",
       "        background: repeating-linear-gradient(45deg, #7e7e7e, #7e7e7e 10px, #5c5c5c 10px, #5c5c5c 20px);\n",
       "    }\n",
       "    .progress-bar-interrupted, .progress-bar-interrupted::-webkit-progress-bar {\n",
       "        background: #F44336;\n",
       "    }\n",
       "</style>\n"
      ],
      "text/plain": [
       "<IPython.core.display.HTML object>"
      ]
     },
     "metadata": {},
     "output_type": "display_data"
    },
    {
     "data": {
      "text/html": [
       "<table border=\"1\" class=\"dataframe\">\n",
       "  <thead>\n",
       "    <tr style=\"text-align: left;\">\n",
       "      <th>epoch</th>\n",
       "      <th>train_loss</th>\n",
       "      <th>valid_loss</th>\n",
       "      <th>accuracy</th>\n",
       "      <th>time</th>\n",
       "    </tr>\n",
       "  </thead>\n",
       "  <tbody>\n",
       "    <tr>\n",
       "      <td>0</td>\n",
       "      <td>0.448674</td>\n",
       "      <td>1.060746</td>\n",
       "      <td>0.666667</td>\n",
       "      <td>00:01</td>\n",
       "    </tr>\n",
       "  </tbody>\n",
       "</table>"
      ],
      "text/plain": [
       "<IPython.core.display.HTML object>"
      ]
     },
     "metadata": {},
     "output_type": "display_data"
    }
   ],
   "source": [
    "new_classifier_learner_1.fit_one_cycle(1, slice(1e-3/(2.6**4), 1e-3))"
   ]
  },
  {
   "cell_type": "code",
   "execution_count": 183,
   "metadata": {
    "id": "OSlOuzvDgM-V"
   },
   "outputs": [],
   "source": [
    "new_classifier_learner_1.freeze_to(-3)"
   ]
  },
  {
   "cell_type": "code",
   "execution_count": 184,
   "metadata": {
    "colab": {
     "base_uri": "https://localhost:8080/",
     "height": 80
    },
    "id": "iE5ICSSYgM-V",
    "outputId": "9cf3a019-55cd-4896-a483-4582946d11df"
   },
   "outputs": [
    {
     "data": {
      "text/html": [
       "\n",
       "<style>\n",
       "    /* Turns off some styling */\n",
       "    progress {\n",
       "        /* gets rid of default border in Firefox and Opera. */\n",
       "        border: none;\n",
       "        /* Needs to be in here for Safari polyfill so background images work as expected. */\n",
       "        background-size: auto;\n",
       "    }\n",
       "    progress:not([value]), progress:not([value])::-webkit-progress-bar {\n",
       "        background: repeating-linear-gradient(45deg, #7e7e7e, #7e7e7e 10px, #5c5c5c 10px, #5c5c5c 20px);\n",
       "    }\n",
       "    .progress-bar-interrupted, .progress-bar-interrupted::-webkit-progress-bar {\n",
       "        background: #F44336;\n",
       "    }\n",
       "</style>\n"
      ],
      "text/plain": [
       "<IPython.core.display.HTML object>"
      ]
     },
     "metadata": {},
     "output_type": "display_data"
    },
    {
     "data": {
      "text/html": [
       "<table border=\"1\" class=\"dataframe\">\n",
       "  <thead>\n",
       "    <tr style=\"text-align: left;\">\n",
       "      <th>epoch</th>\n",
       "      <th>train_loss</th>\n",
       "      <th>valid_loss</th>\n",
       "      <th>accuracy</th>\n",
       "      <th>time</th>\n",
       "    </tr>\n",
       "  </thead>\n",
       "  <tbody>\n",
       "    <tr>\n",
       "      <td>0</td>\n",
       "      <td>0.498019</td>\n",
       "      <td>1.025493</td>\n",
       "      <td>0.833333</td>\n",
       "      <td>00:01</td>\n",
       "    </tr>\n",
       "  </tbody>\n",
       "</table>"
      ],
      "text/plain": [
       "<IPython.core.display.HTML object>"
      ]
     },
     "metadata": {},
     "output_type": "display_data"
    }
   ],
   "source": [
    "new_classifier_learner_1.fit_one_cycle(1, slice(5e-3/(2.6**4), 5e-3))"
   ]
  },
  {
   "cell_type": "markdown",
   "metadata": {
    "id": "OaFccS8M1CUg"
   },
   "source": [
    "Because the result is quite high (but the valid_accuracy is above 1), we are going to save it before we proceed."
   ]
  },
  {
   "cell_type": "code",
   "execution_count": 190,
   "metadata": {
    "id": "EbRo7qcLMpaC"
   },
   "outputs": [],
   "source": [
    "new_classifier_learner_1.export('new_classifier_learner_1_best.pth')"
   ]
  },
  {
   "cell_type": "code",
   "execution_count": 185,
   "metadata": {
    "colab": {
     "base_uri": "https://localhost:8080/"
    },
    "id": "-4C8e0yw1I65",
    "outputId": "313df99e-1ac2-49f5-9727-5a15699ef0e8"
   },
   "outputs": [
    {
     "data": {
      "text/plain": [
       "Path('models/new_classifier_learner_1.pth')"
      ]
     },
     "execution_count": 185,
     "metadata": {},
     "output_type": "execute_result"
    }
   ],
   "source": [
    "new_classifier_learner_1.save('new_classifier_learner_1')"
   ]
  },
  {
   "cell_type": "markdown",
   "metadata": {
    "id": "Hpg9gbxCjUaO"
   },
   "source": [
    "We are not going to proceed more because the model starts perfoming worse. After some trails and errors the parameters of Daniel Ching turned out to be close to ideal for our case as well. But with some changes we saw that we can achieve the same results."
   ]
  },
  {
   "cell_type": "markdown",
   "metadata": {
    "id": "gWyOu6dem0L_"
   },
   "source": [
    "###Classification tests"
   ]
  },
  {
   "cell_type": "markdown",
   "metadata": {
    "id": "3KSP3duRkvFN"
   },
   "source": [
    "We are going to see now several texts that we score. Zero is given mainly when the specific health substance or practice is not directly connected to the desease. Most of the texts have a '1' score because the alternative treatment could have some benefits but more research is needed. 2-scored are those rare papers that claim the substance or practice is quite effective and can be used as a treatment for the specific disease."
   ]
  },
  {
   "cell_type": "markdown",
   "metadata": {
    "id": "jKNcK8-hO3nA"
   },
   "source": [
    "So, let's see one easy text - it it obvious, that its score is 1. [Souce](https://www.ncbi.nlm.nih.gov/pmc/articles/PMC5963652/)\n",
    "\n",
    "'Conclusion\n",
    "current study shows certain positive effects of Nettle in the management of allergic rhinitis on controlling the symptoms based on the SNOT-22 and also similar effects was demonstrated by placebo. Hence, the exact efficacy of Urtica dioica in this respect could not be determined in this study. We believe that our limitations underscore the need for larger, longer term studies of different pharmaceutical dosage forms of Nettle for the treatment of allergic rhinitis.'"
   ]
  },
  {
   "cell_type": "code",
   "execution_count": 191,
   "metadata": {
    "colab": {
     "base_uri": "https://localhost:8080/",
     "height": 34
    },
    "id": "D9CfcamtNzDN",
    "outputId": "a7a7f9b8-50ab-4d2f-f924-b8ea66f12dcc"
   },
   "outputs": [
    {
     "data": {
      "text/html": [
       "\n",
       "<style>\n",
       "    /* Turns off some styling */\n",
       "    progress {\n",
       "        /* gets rid of default border in Firefox and Opera. */\n",
       "        border: none;\n",
       "        /* Needs to be in here for Safari polyfill so background images work as expected. */\n",
       "        background-size: auto;\n",
       "    }\n",
       "    progress:not([value]), progress:not([value])::-webkit-progress-bar {\n",
       "        background: repeating-linear-gradient(45deg, #7e7e7e, #7e7e7e 10px, #5c5c5c 10px, #5c5c5c 20px);\n",
       "    }\n",
       "    .progress-bar-interrupted, .progress-bar-interrupted::-webkit-progress-bar {\n",
       "        background: #F44336;\n",
       "    }\n",
       "</style>\n"
      ],
      "text/plain": [
       "<IPython.core.display.HTML object>"
      ]
     },
     "metadata": {},
     "output_type": "display_data"
    },
    {
     "data": {
      "text/html": [],
      "text/plain": [
       "<IPython.core.display.HTML object>"
      ]
     },
     "metadata": {},
     "output_type": "display_data"
    },
    {
     "data": {
      "text/plain": [
       "('1', tensor(1), tensor([0.3225, 0.3436, 0.3339]))"
      ]
     },
     "execution_count": 191,
     "metadata": {},
     "output_type": "execute_result"
    }
   ],
   "source": [
    "new_classifier_learner.predict('current study shows certain positive effects of Nettle in the management of allergic rhinitis on controlling the symptoms based on the SNOT-22 and also similar effects was demonstrated by placebo. Hence, the exact efficacy of Urtica dioica in this respect could not be determined in this study. We believe that our limitations underscore the need for larger, longer term studies of different pharmaceutical dosage forms of Nettle for the treatment of allergic rhinitis.')"
   ]
  },
  {
   "cell_type": "code",
   "execution_count": 40,
   "metadata": {
    "colab": {
     "base_uri": "https://localhost:8080/",
     "height": 34
    },
    "id": "i_c2ldJmNvRl",
    "outputId": "2706adeb-bd9f-465f-ecea-41935bb8ce10"
   },
   "outputs": [
    {
     "data": {
      "text/html": [
       "\n",
       "<style>\n",
       "    /* Turns off some styling */\n",
       "    progress {\n",
       "        /* gets rid of default border in Firefox and Opera. */\n",
       "        border: none;\n",
       "        /* Needs to be in here for Safari polyfill so background images work as expected. */\n",
       "        background-size: auto;\n",
       "    }\n",
       "    progress:not([value]), progress:not([value])::-webkit-progress-bar {\n",
       "        background: repeating-linear-gradient(45deg, #7e7e7e, #7e7e7e 10px, #5c5c5c 10px, #5c5c5c 20px);\n",
       "    }\n",
       "    .progress-bar-interrupted, .progress-bar-interrupted::-webkit-progress-bar {\n",
       "        background: #F44336;\n",
       "    }\n",
       "</style>\n"
      ],
      "text/plain": [
       "<IPython.core.display.HTML object>"
      ]
     },
     "metadata": {},
     "output_type": "display_data"
    },
    {
     "data": {
      "text/html": [],
      "text/plain": [
       "<IPython.core.display.HTML object>"
      ]
     },
     "metadata": {},
     "output_type": "display_data"
    },
    {
     "data": {
      "text/plain": [
       "('1', tensor(1), tensor([0.1384, 0.7218, 0.1397]))"
      ]
     },
     "execution_count": 40,
     "metadata": {},
     "output_type": "execute_result"
    }
   ],
   "source": [
    "classifier_lrner.predict('current study shows certain positive effects of Nettle in the management of allergic rhinitis on controlling the symptoms based on the SNOT-22 and also similar effects was demonstrated by placebo. Hence, the exact efficacy of Urtica dioica in this respect could not be determined in this study. We believe that our limitations underscore the need for larger, longer term studies of different pharmaceutical dosage forms of Nettle for the treatment of allergic rhinitis.')"
   ]
  },
  {
   "cell_type": "markdown",
   "metadata": {
    "id": "DBx61yV_zTM_"
   },
   "source": [
    "We see that the model with smaller valid_loss shows bigger certainty."
   ]
  },
  {
   "cell_type": "markdown",
   "metadata": {
    "id": "KFb-tsO5QMoT"
   },
   "source": [
    "The next passage is ambigous. It includes several deceases, but they are not mentioned in the conclusion. So, even though a human can decide that this part of the article will be about 1 or, more likely, 2, the models score it with 0. In this way they show pretty well that 'understand' the logic behind our zeros - no direct connection between a decease and a substance/practice. [Source](https://www.ncbi.nlm.nih.gov/pmc/articles/PMC8739926/) \n",
    "\n",
    "'Conclusions\n",
    "The nutritional content of the plant is significant, and it has incredible therapeutic potential. The findings of this study are needed to investigate the therapeutic potential, as it may be a promising option for drug development.'\n"
   ]
  },
  {
   "cell_type": "code",
   "execution_count": 192,
   "metadata": {
    "colab": {
     "base_uri": "https://localhost:8080/",
     "height": 34
    },
    "id": "LaNlSNMmQNAh",
    "outputId": "73c5ae95-8e20-4779-ef42-a1e94bff8368"
   },
   "outputs": [
    {
     "data": {
      "text/html": [
       "\n",
       "<style>\n",
       "    /* Turns off some styling */\n",
       "    progress {\n",
       "        /* gets rid of default border in Firefox and Opera. */\n",
       "        border: none;\n",
       "        /* Needs to be in here for Safari polyfill so background images work as expected. */\n",
       "        background-size: auto;\n",
       "    }\n",
       "    progress:not([value]), progress:not([value])::-webkit-progress-bar {\n",
       "        background: repeating-linear-gradient(45deg, #7e7e7e, #7e7e7e 10px, #5c5c5c 10px, #5c5c5c 20px);\n",
       "    }\n",
       "    .progress-bar-interrupted, .progress-bar-interrupted::-webkit-progress-bar {\n",
       "        background: #F44336;\n",
       "    }\n",
       "</style>\n"
      ],
      "text/plain": [
       "<IPython.core.display.HTML object>"
      ]
     },
     "metadata": {},
     "output_type": "display_data"
    },
    {
     "data": {
      "text/html": [],
      "text/plain": [
       "<IPython.core.display.HTML object>"
      ]
     },
     "metadata": {},
     "output_type": "display_data"
    },
    {
     "data": {
      "text/plain": [
       "('0', tensor(0), tensor([0.4742, 0.2239, 0.3019]))"
      ]
     },
     "execution_count": 192,
     "metadata": {},
     "output_type": "execute_result"
    }
   ],
   "source": [
    "new_classifier_learner_1.predict('The nutritional content of the plant is significant, and it has incredible therapeutic potential. The findings of this study are needed to investigate the therapeutic potential, as it may be a promising option for drug development.')"
   ]
  },
  {
   "cell_type": "code",
   "execution_count": 42,
   "metadata": {
    "colab": {
     "base_uri": "https://localhost:8080/",
     "height": 34
    },
    "id": "gHJiBl3UznSy",
    "outputId": "d8801c64-13bc-41c3-8cdb-760456f2b9b1"
   },
   "outputs": [
    {
     "data": {
      "text/html": [
       "\n",
       "<style>\n",
       "    /* Turns off some styling */\n",
       "    progress {\n",
       "        /* gets rid of default border in Firefox and Opera. */\n",
       "        border: none;\n",
       "        /* Needs to be in here for Safari polyfill so background images work as expected. */\n",
       "        background-size: auto;\n",
       "    }\n",
       "    progress:not([value]), progress:not([value])::-webkit-progress-bar {\n",
       "        background: repeating-linear-gradient(45deg, #7e7e7e, #7e7e7e 10px, #5c5c5c 10px, #5c5c5c 20px);\n",
       "    }\n",
       "    .progress-bar-interrupted, .progress-bar-interrupted::-webkit-progress-bar {\n",
       "        background: #F44336;\n",
       "    }\n",
       "</style>\n"
      ],
      "text/plain": [
       "<IPython.core.display.HTML object>"
      ]
     },
     "metadata": {},
     "output_type": "display_data"
    },
    {
     "data": {
      "text/html": [],
      "text/plain": [
       "<IPython.core.display.HTML object>"
      ]
     },
     "metadata": {},
     "output_type": "display_data"
    },
    {
     "data": {
      "text/plain": [
       "('0', tensor(0), tensor([0.4922, 0.3003, 0.2075]))"
      ]
     },
     "execution_count": 42,
     "metadata": {},
     "output_type": "execute_result"
    }
   ],
   "source": [
    "classifier_lrner.predict('The nutritional content of the plant is significant, and it has incredible therapeutic potential. The findings of this study are needed to investigate the therapeutic potential, as it may be a promising option for drug development.')"
   ]
  },
  {
   "cell_type": "markdown",
   "metadata": {
    "id": "xZxBJRUJRIuS"
   },
   "source": [
    "The next one is quite interesting. We would score it with 1 (the tone is quite positive and can be mistaken with 2), but the models' decision is 0 (even thoght that the score of the first one for 2 is almost equal). Here they make a big mistake. [Source](https://pubmed.ncbi.nlm.nih.gov/34407441/)\n",
    "\n",
    "'Conclusions: NSO supplementation was associated with faster recovery of symptoms than usual care alone for patients with mild COVID-19 infection. These potential therapeutic benefits require further exploration with placebo-controlled, double-blinded studies.'\n",
    "\n"
   ]
  },
  {
   "cell_type": "code",
   "execution_count": 193,
   "metadata": {
    "colab": {
     "base_uri": "https://localhost:8080/",
     "height": 34
    },
    "id": "UfpcTRnWRJAs",
    "outputId": "5ba1ae90-d1b1-43fb-c8f5-273dbad1deb8"
   },
   "outputs": [
    {
     "data": {
      "text/html": [
       "\n",
       "<style>\n",
       "    /* Turns off some styling */\n",
       "    progress {\n",
       "        /* gets rid of default border in Firefox and Opera. */\n",
       "        border: none;\n",
       "        /* Needs to be in here for Safari polyfill so background images work as expected. */\n",
       "        background-size: auto;\n",
       "    }\n",
       "    progress:not([value]), progress:not([value])::-webkit-progress-bar {\n",
       "        background: repeating-linear-gradient(45deg, #7e7e7e, #7e7e7e 10px, #5c5c5c 10px, #5c5c5c 20px);\n",
       "    }\n",
       "    .progress-bar-interrupted, .progress-bar-interrupted::-webkit-progress-bar {\n",
       "        background: #F44336;\n",
       "    }\n",
       "</style>\n"
      ],
      "text/plain": [
       "<IPython.core.display.HTML object>"
      ]
     },
     "metadata": {},
     "output_type": "display_data"
    },
    {
     "data": {
      "text/html": [],
      "text/plain": [
       "<IPython.core.display.HTML object>"
      ]
     },
     "metadata": {},
     "output_type": "display_data"
    },
    {
     "data": {
      "text/plain": [
       "('0', tensor(0), tensor([0.3760, 0.2622, 0.3617]))"
      ]
     },
     "execution_count": 193,
     "metadata": {},
     "output_type": "execute_result"
    }
   ],
   "source": [
    "new_classifier_learner_1.predict('Conclusions: NSO supplementation was associated with faster recovery of symptoms than usual care alone for patients with mild COVID-19 infection. These potential therapeutic benefits require further exploration with placebo-controlled, double-blinded studies.')"
   ]
  },
  {
   "cell_type": "code",
   "execution_count": 43,
   "metadata": {
    "colab": {
     "base_uri": "https://localhost:8080/",
     "height": 34
    },
    "id": "NRcTb3pszzsE",
    "outputId": "8dae5075-b16e-478f-99c0-6095020fa8c2"
   },
   "outputs": [
    {
     "data": {
      "text/html": [
       "\n",
       "<style>\n",
       "    /* Turns off some styling */\n",
       "    progress {\n",
       "        /* gets rid of default border in Firefox and Opera. */\n",
       "        border: none;\n",
       "        /* Needs to be in here for Safari polyfill so background images work as expected. */\n",
       "        background-size: auto;\n",
       "    }\n",
       "    progress:not([value]), progress:not([value])::-webkit-progress-bar {\n",
       "        background: repeating-linear-gradient(45deg, #7e7e7e, #7e7e7e 10px, #5c5c5c 10px, #5c5c5c 20px);\n",
       "    }\n",
       "    .progress-bar-interrupted, .progress-bar-interrupted::-webkit-progress-bar {\n",
       "        background: #F44336;\n",
       "    }\n",
       "</style>\n"
      ],
      "text/plain": [
       "<IPython.core.display.HTML object>"
      ]
     },
     "metadata": {},
     "output_type": "display_data"
    },
    {
     "data": {
      "text/html": [],
      "text/plain": [
       "<IPython.core.display.HTML object>"
      ]
     },
     "metadata": {},
     "output_type": "display_data"
    },
    {
     "data": {
      "text/plain": [
       "('0', tensor(0), tensor([0.6711, 0.1434, 0.1854]))"
      ]
     },
     "execution_count": 43,
     "metadata": {},
     "output_type": "execute_result"
    }
   ],
   "source": [
    "classifier_lrner.predict('Conclusions: NSO supplementation was associated with faster recovery of symptoms than usual care alone for patients with mild COVID-19 infection. These potential therapeutic benefits require further exploration with placebo-controlled, double-blinded studies.')"
   ]
  },
  {
   "cell_type": "markdown",
   "metadata": {
    "id": "N2OoQmhSz5tF"
   },
   "source": [
    "The second model shows bigger certainty in the decisions that both models make. Even when they are wrong."
   ]
  },
  {
   "cell_type": "markdown",
   "metadata": {
    "id": "EoZCMNwgTb4I"
   },
   "source": [
    "It seems that our models are quite conservative. The text below should be scored with 2. Maybe because there is an comparison between the different kinds of propolis and their effectiveness, our models' result is 1. [Source](https://pubmed.ncbi.nlm.nih.gov/31146392/)\n",
    "\n",
    "'Abstract\n",
    "Researchers are continuing to discover all the properties of propolis due to its complex composition and associated broad spectrum of activities. This review aims to characterize the latest scientific reports in the field of antibacterial activity of this substance. The results of studies on the influence of propolis on more than 600 bacterial strains were analyzed. The greater activity of propolis against Gram-positive bacteria than Gram-negative was confirmed. Moreover, the antimicrobial activity of propolis from different regions of the world was compared. As a result, high activity of propolis from the Middle East was found in relation to both, Gram-positive (Staphylococcus aureus) and Gram-negative (Escherichia coli) strains. Simultaneously, the lowest activity was demonstrated for propolis samples from Germany, Ireland and Korea.\n",
    "\n",
    "Keywords: Escherichia coli; Staphylococcus aureus; antibacterial; bee product; polyphenols; propolis; terpenoids.'"
   ]
  },
  {
   "cell_type": "code",
   "execution_count": 196,
   "metadata": {
    "colab": {
     "base_uri": "https://localhost:8080/",
     "height": 34
    },
    "id": "sAJHwTheTcG4",
    "outputId": "652c24c1-cc3b-4c8c-d602-89d32a36afc4"
   },
   "outputs": [
    {
     "data": {
      "text/html": [
       "\n",
       "<style>\n",
       "    /* Turns off some styling */\n",
       "    progress {\n",
       "        /* gets rid of default border in Firefox and Opera. */\n",
       "        border: none;\n",
       "        /* Needs to be in here for Safari polyfill so background images work as expected. */\n",
       "        background-size: auto;\n",
       "    }\n",
       "    progress:not([value]), progress:not([value])::-webkit-progress-bar {\n",
       "        background: repeating-linear-gradient(45deg, #7e7e7e, #7e7e7e 10px, #5c5c5c 10px, #5c5c5c 20px);\n",
       "    }\n",
       "    .progress-bar-interrupted, .progress-bar-interrupted::-webkit-progress-bar {\n",
       "        background: #F44336;\n",
       "    }\n",
       "</style>\n"
      ],
      "text/plain": [
       "<IPython.core.display.HTML object>"
      ]
     },
     "metadata": {},
     "output_type": "display_data"
    },
    {
     "data": {
      "text/html": [],
      "text/plain": [
       "<IPython.core.display.HTML object>"
      ]
     },
     "metadata": {},
     "output_type": "display_data"
    },
    {
     "data": {
      "text/plain": [
       "('1', tensor(1), tensor([0.3280, 0.4311, 0.2409]))"
      ]
     },
     "execution_count": 196,
     "metadata": {},
     "output_type": "execute_result"
    }
   ],
   "source": [
    "new_classifier_learner_1.predict('''Abstract\n",
    "Researchers are continuing to discover all the properties of propolis due to its complex composition and associated broad spectrum of activities. This review aims to characterize the latest scientific reports in the field of antibacterial activity of this substance. The results of studies on the influence of propolis on more than 600 bacterial strains were analyzed. The greater activity of propolis against Gram-positive bacteria than Gram-negative was confirmed. Moreover, the antimicrobial activity of propolis from different regions of the world was compared. As a result, high activity of propolis from the Middle East was found in relation to both, Gram-positive (Staphylococcus aureus) and Gram-negative (Escherichia coli) strains. Simultaneously, the lowest activity was demonstrated for propolis samples from Germany, Ireland and Korea.\n",
    "\n",
    "Keywords: Escherichia coli; Staphylococcus aureus; antibacterial; bee product; polyphenols; propolis; terpenoids.''')"
   ]
  },
  {
   "cell_type": "markdown",
   "metadata": {
    "id": "oPvkb1qWWDW5"
   },
   "source": [
    "The conclusions from this article could be marked with 2 (or, eveantually, 1 due to its reserved tone). Let's see what our models will show.[Source](https://pubmed.ncbi.nlm.nih.gov/15291903/)\n",
    "\n",
    "'Conclusions: The results of this study suggest that traditional Chinese therapy may be an efficacious and safe treatment option for patients with seasonal AR.'"
   ]
  },
  {
   "cell_type": "code",
   "execution_count": 12,
   "metadata": {
    "id": "v1Bm30jogBW3"
   },
   "outputs": [],
   "source": [
    "#due to end of our session, we load the model\n",
    "best_model_learner = load_learner('new_classifier_learner_1.pth')"
   ]
  },
  {
   "cell_type": "code",
   "execution_count": 13,
   "metadata": {
    "colab": {
     "base_uri": "https://localhost:8080/",
     "height": 34
    },
    "id": "jPljwhrxbgDs",
    "outputId": "cce00549-3024-4722-f741-ee7b8f9b722e"
   },
   "outputs": [
    {
     "data": {
      "text/html": [
       "\n",
       "<style>\n",
       "    /* Turns off some styling */\n",
       "    progress {\n",
       "        /* gets rid of default border in Firefox and Opera. */\n",
       "        border: none;\n",
       "        /* Needs to be in here for Safari polyfill so background images work as expected. */\n",
       "        background-size: auto;\n",
       "    }\n",
       "    progress:not([value]), progress:not([value])::-webkit-progress-bar {\n",
       "        background: repeating-linear-gradient(45deg, #7e7e7e, #7e7e7e 10px, #5c5c5c 10px, #5c5c5c 20px);\n",
       "    }\n",
       "    .progress-bar-interrupted, .progress-bar-interrupted::-webkit-progress-bar {\n",
       "        background: #F44336;\n",
       "    }\n",
       "</style>\n"
      ],
      "text/plain": [
       "<IPython.core.display.HTML object>"
      ]
     },
     "metadata": {},
     "output_type": "display_data"
    },
    {
     "data": {
      "text/html": [],
      "text/plain": [
       "<IPython.core.display.HTML object>"
      ]
     },
     "metadata": {},
     "output_type": "display_data"
    },
    {
     "data": {
      "text/plain": [
       "('0', tensor(0), tensor([0.3859, 0.2572, 0.3569]))"
      ]
     },
     "execution_count": 13,
     "metadata": {},
     "output_type": "execute_result"
    }
   ],
   "source": [
    "best_model_learner.predict('Conclusions: The results of this study suggest that traditional Chinese therapy may be an efficacious and safe treatment option for patients with seasonal AR')"
   ]
  },
  {
   "cell_type": "code",
   "execution_count": 45,
   "metadata": {
    "colab": {
     "base_uri": "https://localhost:8080/",
     "height": 34
    },
    "id": "bF1Austd0Z-D",
    "outputId": "c33a2f40-461b-47f4-b619-0068d4a1fa18"
   },
   "outputs": [
    {
     "data": {
      "text/html": [
       "\n",
       "<style>\n",
       "    /* Turns off some styling */\n",
       "    progress {\n",
       "        /* gets rid of default border in Firefox and Opera. */\n",
       "        border: none;\n",
       "        /* Needs to be in here for Safari polyfill so background images work as expected. */\n",
       "        background-size: auto;\n",
       "    }\n",
       "    progress:not([value]), progress:not([value])::-webkit-progress-bar {\n",
       "        background: repeating-linear-gradient(45deg, #7e7e7e, #7e7e7e 10px, #5c5c5c 10px, #5c5c5c 20px);\n",
       "    }\n",
       "    .progress-bar-interrupted, .progress-bar-interrupted::-webkit-progress-bar {\n",
       "        background: #F44336;\n",
       "    }\n",
       "</style>\n"
      ],
      "text/plain": [
       "<IPython.core.display.HTML object>"
      ]
     },
     "metadata": {},
     "output_type": "display_data"
    },
    {
     "data": {
      "text/html": [],
      "text/plain": [
       "<IPython.core.display.HTML object>"
      ]
     },
     "metadata": {},
     "output_type": "display_data"
    },
    {
     "data": {
      "text/plain": [
       "('0', tensor(0), tensor([0.8010, 0.0558, 0.1432]))"
      ]
     },
     "execution_count": 45,
     "metadata": {},
     "output_type": "execute_result"
    }
   ],
   "source": [
    "classifier_lrner.predict('Conclusions: The results of this study suggest that traditional Chinese therapy may be an efficacious and safe treatment option for patients with seasonal AR')"
   ]
  },
  {
   "cell_type": "markdown",
   "metadata": {
    "id": "HO4shWIjpfMj"
   },
   "source": [
    "The second is terribly wrong. As the first is, as well, but at least it was close to 2."
   ]
  },
  {
   "cell_type": "markdown",
   "metadata": {
    "id": "EC92zQwptjWo"
   },
   "source": [
    "It seems that ULMFiT tends to underestimate 2-scored texts. They are rare (8 out of 32 articles). Probably that is the reason for its high accuracy."
   ]
  },
  {
   "cell_type": "markdown",
   "metadata": {
    "id": "u3t7sWcd0s70"
   },
   "source": [
    "From the comparison of the two models above we can clearly see that smaller valid_loss doesn't necessarily make the model better. "
   ]
  }
 ],
 "metadata": {
  "accelerator": "GPU",
  "colab": {
   "provenance": []
  },
  "gpuClass": "standard",
  "kernelspec": {
   "display_name": "Python 3 (ipykernel)",
   "language": "python",
   "name": "python3"
  },
  "language_info": {
   "codemirror_mode": {
    "name": "ipython",
    "version": 3
   },
   "file_extension": ".py",
   "mimetype": "text/x-python",
   "name": "python",
   "nbconvert_exporter": "python",
   "pygments_lexer": "ipython3",
   "version": "3.9.12"
  }
 },
 "nbformat": 4,
 "nbformat_minor": 4
}
